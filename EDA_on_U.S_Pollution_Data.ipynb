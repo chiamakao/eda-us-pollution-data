{
 "cells": [
  {
   "cell_type": "markdown",
   "id": "205a63fc",
   "metadata": {
    "id": "205a63fc"
   },
   "source": [
    "# Exploratory Data Analysis on U.S Pollution Data"
   ]
  },
  {
   "cell_type": "markdown",
   "id": "b265d2ae",
   "metadata": {
    "id": "b265d2ae"
   },
   "source": [
    "![banner-image](https://i.imgur.com/VZ2FDC1.png)"
   ]
  },
  {
   "cell_type": "markdown",
   "id": "54d2ade2",
   "metadata": {
    "id": "54d2ade2"
   },
   "source": [
    "## Introduction\n",
    "\n",
    "Air pollution is one of the outstanding environmental concerns in the world today, affecting both developed and developing regions. In 2016 alone, it accounted for 4.2 million deaths globally and over 59,000 in the U.S,  because of it's association with stroke, lung canncer, ischemic heart disease, acute lower respiratory disease and chronic obstructive pulmonary disease. Although there has been a significant downward trend in the number of deaths from 1990 to 2016 in the U.S, which could be as a result of stricter regulations, it is still imperative that we monitor these pollutants, by using measures such as air quality index, which translates numerical data into a descriptive rating scale and makes it easier for citizens of all ages to understand the level of pollution in the air they breathe.\n",
    "\n",
    "\n",
    "**What is an air quality index?**\n",
    "\n",
    "Pollution often takes the form of particulate matter(PM$_{2.5}$ and PM$_{10}$), nitrogen oxide(NO), nitrogen dioxide(NO$_{2}$), sulphur dioxide(SO$_{2}$), carbon monoxide(CO), and ozone(O$_{3}$). Now, an air quality index is a scale used to show how polluted the air is with these pollutants, along with the risks associated with each rating. \n",
    "\n",
    "Think of the AQI as a yardstick that runs from 0 to 500. The higher the AQI value, the greater the level of air pollution and the greater the health concern. For example, an AQI value of 50 or below represents good air quality, while an AQI value over 300 represents hazardous air quality.\n",
    "\n",
    "For each pollutant an AQI value of 100 generally corresponds to an ambient air concentration that equals the level of the short-term national ambient air quality standard for protection of public health. AQI values at or below 100 are generally thought of as satisfactory. When AQI values are above 100, air quality is unhealthy: at first for certain sensitive groups of people, then for everyone as AQI values get higher.\n",
    "\n",
    "The AQI is divided into six categories. Each category corresponds to a different level of health concern. Each category also has a specific color. The color makes it easy for people to quickly determine whether air quality is reaching unhealthy levels in their communities.\n",
    "\n",
    "![](https://i.imgur.com/5dKUJ0k.png)\n"
   ]
  },
  {
   "cell_type": "markdown",
   "id": "9dc691cb",
   "metadata": {
    "id": "9dc691cb"
   },
   "source": [
    "### Project Objective\n",
    "\n",
    "In this project, we will perform exploratory data analysis (EDA) on a dataset documented by the U.S. EPA on pollution caused by four major pollutants. This dataset has a total of 28 fields. The four pollutants ( NO$_{2}$, SO$_{2}$, CO, and O$_{3}$) each have 5 specific columns. Observations totaled to over 1.7 million. \n",
    "\n",
    "**Why EDA?**\n",
    "\n",
    "Exploratory Data Analysis (EDA) refers to the process of performing initial investigations on data so as to discover patterns, spot anomalies, test hypothesis and check assumptions with the help of summary statistics and graphical representations. EDA helps to understand the data first and try to gather as many insights from it as possible. \n",
    "\n",
    "For our analysis, we will be specifically looking at air quality index(AQI) of these pollutants in some key states and be making comparisons of their yearly, monthly and daily concentrations.\n",
    "\n",
    "**Source**: The data used for this analysis was scrapped from  the database of U.S. EPA: [Link](https://aqsdr1.epa.gov/aqsweb/aqstmp/airdata/download_files.html)\n",
    "\n",
    "Here's an outline of the steps we will follow:\n",
    "1. Download the dataset from [kaggle](https://www.kaggle.com/datasets/sogun3/uspollution) using the opendatasets library\n",
    "2. Preprocess the data and clean using the pandas library\n",
    "3. Perform exploratory analysis and visualization using some python visualization libraries such as matplotlib, seaborn, plotly and folium\n",
    "4. Ask and answer relevant questions using the data to gain deep understanding and make useful inferences"
   ]
  },
  {
   "cell_type": "markdown",
   "id": "2c4053f0",
   "metadata": {
    "id": "2c4053f0"
   },
   "source": [
    "### How to run the code"
   ]
  },
  {
   "cell_type": "markdown",
   "id": "bc493ea5",
   "metadata": {
    "id": "bc493ea5"
   },
   "source": [
    "Execute the code by selecting the \"Run\" button at the top of this page. You can also make changes and save your own version to [Jovian](https://jovian.ai) by executing the following cells."
   ]
  },
  {
   "cell_type": "code",
   "execution_count": 1,
   "id": "855279fa",
   "metadata": {
    "colab": {
     "base_uri": "https://localhost:8080/"
    },
    "executionInfo": {
     "elapsed": 4888,
     "status": "ok",
     "timestamp": 1664985996718,
     "user": {
      "displayName": "Chiamaka Anuebunwa",
      "userId": "02342427973017665432"
     },
     "user_tz": -60
    },
    "id": "855279fa",
    "outputId": "6333f012-641d-44b2-8b40-39a0fef6ba2f"
   },
   "outputs": [
    {
     "name": "stdout",
     "output_type": "stream",
     "text": [
      "\u001b[?25l\r",
      "\u001b[K     |████▊                           | 10 kB 20.4 MB/s eta 0:00:01\r",
      "\u001b[K     |█████████▌                      | 20 kB 5.5 MB/s eta 0:00:01\r",
      "\u001b[K     |██████████████▎                 | 30 kB 7.8 MB/s eta 0:00:01\r",
      "\u001b[K     |███████████████████             | 40 kB 2.8 MB/s eta 0:00:01\r",
      "\u001b[K     |███████████████████████▉        | 51 kB 3.3 MB/s eta 0:00:01\r",
      "\u001b[K     |████████████████████████████▋   | 61 kB 3.9 MB/s eta 0:00:01\r",
      "\u001b[K     |████████████████████████████████| 68 kB 2.6 MB/s \n",
      "\u001b[?25h  Building wheel for uuid (setup.py) ... \u001b[?25l\u001b[?25hdone\n"
     ]
    }
   ],
   "source": [
    "!pip install jovian --upgrade --quiet"
   ]
  },
  {
   "cell_type": "code",
   "execution_count": 2,
   "id": "d17b64f2",
   "metadata": {
    "executionInfo": {
     "elapsed": 516,
     "status": "ok",
     "timestamp": 1664985997222,
     "user": {
      "displayName": "Chiamaka Anuebunwa",
      "userId": "02342427973017665432"
     },
     "user_tz": -60
    },
    "id": "d17b64f2"
   },
   "outputs": [],
   "source": [
    "import jovian"
   ]
  },
  {
   "cell_type": "markdown",
   "id": "3a7f2200",
   "metadata": {
    "id": "3a7f2200"
   },
   "source": [
    "## Downloading the Data\n",
    "\n",
    "We will be using the opendatasets library, which is a  Python library for downloading datasets from Kaggle, Google Drive, and other online sources, to download the data from kaggle."
   ]
  },
  {
   "cell_type": "code",
   "execution_count": 3,
   "id": "ce872d4c",
   "metadata": {
    "executionInfo": {
     "elapsed": 3587,
     "status": "ok",
     "timestamp": 1664986000805,
     "user": {
      "displayName": "Chiamaka Anuebunwa",
      "userId": "02342427973017665432"
     },
     "user_tz": -60
    },
    "id": "ce872d4c"
   },
   "outputs": [],
   "source": [
    "!pip install opendatasets --upgrade --quiet"
   ]
  },
  {
   "cell_type": "code",
   "execution_count": 4,
   "id": "fd7a0183",
   "metadata": {
    "executionInfo": {
     "elapsed": 20,
     "status": "ok",
     "timestamp": 1664986000806,
     "user": {
      "displayName": "Chiamaka Anuebunwa",
      "userId": "02342427973017665432"
     },
     "user_tz": -60
    },
    "id": "fd7a0183"
   },
   "outputs": [],
   "source": [
    "import opendatasets as od"
   ]
  },
  {
   "cell_type": "code",
   "execution_count": 5,
   "id": "4c92081b",
   "metadata": {
    "colab": {
     "base_uri": "https://localhost:8080/"
    },
    "executionInfo": {
     "elapsed": 75885,
     "status": "ok",
     "timestamp": 1664986076674,
     "user": {
      "displayName": "Chiamaka Anuebunwa",
      "userId": "02342427973017665432"
     },
     "user_tz": -60
    },
    "id": "4c92081b",
    "outputId": "8a34ced9-1cf5-47c0-d32b-1025fa0df8cd"
   },
   "outputs": [
    {
     "name": "stdout",
     "output_type": "stream",
     "text": [
      "Please provide your Kaggle credentials to download this dataset. Learn more: http://bit.ly/kaggle-creds\n",
      "Your Kaggle username: chiamakaanuebunwa\n",
      "Your Kaggle Key: ··········\n",
      "Downloading uspollution.zip to ./uspollution\n"
     ]
    },
    {
     "name": "stderr",
     "output_type": "stream",
     "text": [
      "100%|██████████| 25.6M/25.6M [00:00<00:00, 49.7MB/s]\n"
     ]
    },
    {
     "name": "stdout",
     "output_type": "stream",
     "text": [
      "\n"
     ]
    }
   ],
   "source": [
    "od.download('https://www.kaggle.com/datasets/sogun3/uspollution')"
   ]
  },
  {
   "cell_type": "markdown",
   "id": "eeb5a74d",
   "metadata": {
    "id": "eeb5a74d"
   },
   "source": [
    "## Data Preprocessing & Cleaning with Pandas\n",
    "\n",
    "To fully make sense of the data, we will need to tranform the raw dataset into an understandable format. To do this, we will have to:\n",
    "* Import the Pandas library and the dataset\n",
    "* Browse through the data to view firsthand some basic information\n",
    "* Check and drop duplicated rows if present\n",
    "* Deal with missing values if present"
   ]
  },
  {
   "cell_type": "code",
   "execution_count": 6,
   "id": "431ebce0",
   "metadata": {
    "executionInfo": {
     "elapsed": 9,
     "status": "ok",
     "timestamp": 1664986080682,
     "user": {
      "displayName": "Chiamaka Anuebunwa",
      "userId": "02342427973017665432"
     },
     "user_tz": -60
    },
    "id": "431ebce0"
   },
   "outputs": [],
   "source": [
    "import pandas as pd"
   ]
  },
  {
   "cell_type": "code",
   "execution_count": 7,
   "id": "4d6ec71d",
   "metadata": {
    "executionInfo": {
     "elapsed": 11612,
     "status": "ok",
     "timestamp": 1664986092725,
     "user": {
      "displayName": "Chiamaka Anuebunwa",
      "userId": "02342427973017665432"
     },
     "user_tz": -60
    },
    "id": "4d6ec71d"
   },
   "outputs": [],
   "source": [
    "us_pollution_df = pd.read_csv('uspollution/pollution_us_2000_2016.csv')"
   ]
  },
  {
   "cell_type": "code",
   "execution_count": 8,
   "id": "819da7bd",
   "metadata": {
    "colab": {
     "base_uri": "https://localhost:8080/",
     "height": 954
    },
    "executionInfo": {
     "elapsed": 1029,
     "status": "ok",
     "timestamp": 1664986093733,
     "user": {
      "displayName": "Chiamaka Anuebunwa",
      "userId": "02342427973017665432"
     },
     "user_tz": -60
    },
    "id": "819da7bd",
    "outputId": "19f29f52-e486-4133-e52b-08a8687eb601",
    "scrolled": false
   },
   "outputs": [
    {
     "data": {
      "text/html": [
       "\n",
       "  <div id=\"df-eadb0ea6-6523-4e4f-84f0-a5610517f2c7\">\n",
       "    <div class=\"colab-df-container\">\n",
       "      <div>\n",
       "<style scoped>\n",
       "    .dataframe tbody tr th:only-of-type {\n",
       "        vertical-align: middle;\n",
       "    }\n",
       "\n",
       "    .dataframe tbody tr th {\n",
       "        vertical-align: top;\n",
       "    }\n",
       "\n",
       "    .dataframe thead th {\n",
       "        text-align: right;\n",
       "    }\n",
       "</style>\n",
       "<table border=\"1\" class=\"dataframe\">\n",
       "  <thead>\n",
       "    <tr style=\"text-align: right;\">\n",
       "      <th></th>\n",
       "      <th>Unnamed: 0</th>\n",
       "      <th>State Code</th>\n",
       "      <th>County Code</th>\n",
       "      <th>Site Num</th>\n",
       "      <th>Address</th>\n",
       "      <th>State</th>\n",
       "      <th>County</th>\n",
       "      <th>City</th>\n",
       "      <th>Date Local</th>\n",
       "      <th>NO2 Units</th>\n",
       "      <th>...</th>\n",
       "      <th>SO2 Units</th>\n",
       "      <th>SO2 Mean</th>\n",
       "      <th>SO2 1st Max Value</th>\n",
       "      <th>SO2 1st Max Hour</th>\n",
       "      <th>SO2 AQI</th>\n",
       "      <th>CO Units</th>\n",
       "      <th>CO Mean</th>\n",
       "      <th>CO 1st Max Value</th>\n",
       "      <th>CO 1st Max Hour</th>\n",
       "      <th>CO AQI</th>\n",
       "    </tr>\n",
       "  </thead>\n",
       "  <tbody>\n",
       "    <tr>\n",
       "      <th>0</th>\n",
       "      <td>0</td>\n",
       "      <td>4</td>\n",
       "      <td>13</td>\n",
       "      <td>3002</td>\n",
       "      <td>1645 E ROOSEVELT ST-CENTRAL PHOENIX STN</td>\n",
       "      <td>Arizona</td>\n",
       "      <td>Maricopa</td>\n",
       "      <td>Phoenix</td>\n",
       "      <td>2000-01-01</td>\n",
       "      <td>Parts per billion</td>\n",
       "      <td>...</td>\n",
       "      <td>Parts per billion</td>\n",
       "      <td>3.000000</td>\n",
       "      <td>9.0</td>\n",
       "      <td>21</td>\n",
       "      <td>13.0</td>\n",
       "      <td>Parts per million</td>\n",
       "      <td>1.145833</td>\n",
       "      <td>4.200</td>\n",
       "      <td>21</td>\n",
       "      <td>NaN</td>\n",
       "    </tr>\n",
       "    <tr>\n",
       "      <th>1</th>\n",
       "      <td>1</td>\n",
       "      <td>4</td>\n",
       "      <td>13</td>\n",
       "      <td>3002</td>\n",
       "      <td>1645 E ROOSEVELT ST-CENTRAL PHOENIX STN</td>\n",
       "      <td>Arizona</td>\n",
       "      <td>Maricopa</td>\n",
       "      <td>Phoenix</td>\n",
       "      <td>2000-01-01</td>\n",
       "      <td>Parts per billion</td>\n",
       "      <td>...</td>\n",
       "      <td>Parts per billion</td>\n",
       "      <td>3.000000</td>\n",
       "      <td>9.0</td>\n",
       "      <td>21</td>\n",
       "      <td>13.0</td>\n",
       "      <td>Parts per million</td>\n",
       "      <td>0.878947</td>\n",
       "      <td>2.200</td>\n",
       "      <td>23</td>\n",
       "      <td>25.0</td>\n",
       "    </tr>\n",
       "    <tr>\n",
       "      <th>2</th>\n",
       "      <td>2</td>\n",
       "      <td>4</td>\n",
       "      <td>13</td>\n",
       "      <td>3002</td>\n",
       "      <td>1645 E ROOSEVELT ST-CENTRAL PHOENIX STN</td>\n",
       "      <td>Arizona</td>\n",
       "      <td>Maricopa</td>\n",
       "      <td>Phoenix</td>\n",
       "      <td>2000-01-01</td>\n",
       "      <td>Parts per billion</td>\n",
       "      <td>...</td>\n",
       "      <td>Parts per billion</td>\n",
       "      <td>2.975000</td>\n",
       "      <td>6.6</td>\n",
       "      <td>23</td>\n",
       "      <td>NaN</td>\n",
       "      <td>Parts per million</td>\n",
       "      <td>1.145833</td>\n",
       "      <td>4.200</td>\n",
       "      <td>21</td>\n",
       "      <td>NaN</td>\n",
       "    </tr>\n",
       "    <tr>\n",
       "      <th>3</th>\n",
       "      <td>3</td>\n",
       "      <td>4</td>\n",
       "      <td>13</td>\n",
       "      <td>3002</td>\n",
       "      <td>1645 E ROOSEVELT ST-CENTRAL PHOENIX STN</td>\n",
       "      <td>Arizona</td>\n",
       "      <td>Maricopa</td>\n",
       "      <td>Phoenix</td>\n",
       "      <td>2000-01-01</td>\n",
       "      <td>Parts per billion</td>\n",
       "      <td>...</td>\n",
       "      <td>Parts per billion</td>\n",
       "      <td>2.975000</td>\n",
       "      <td>6.6</td>\n",
       "      <td>23</td>\n",
       "      <td>NaN</td>\n",
       "      <td>Parts per million</td>\n",
       "      <td>0.878947</td>\n",
       "      <td>2.200</td>\n",
       "      <td>23</td>\n",
       "      <td>25.0</td>\n",
       "    </tr>\n",
       "    <tr>\n",
       "      <th>4</th>\n",
       "      <td>4</td>\n",
       "      <td>4</td>\n",
       "      <td>13</td>\n",
       "      <td>3002</td>\n",
       "      <td>1645 E ROOSEVELT ST-CENTRAL PHOENIX STN</td>\n",
       "      <td>Arizona</td>\n",
       "      <td>Maricopa</td>\n",
       "      <td>Phoenix</td>\n",
       "      <td>2000-01-02</td>\n",
       "      <td>Parts per billion</td>\n",
       "      <td>...</td>\n",
       "      <td>Parts per billion</td>\n",
       "      <td>1.958333</td>\n",
       "      <td>3.0</td>\n",
       "      <td>22</td>\n",
       "      <td>4.0</td>\n",
       "      <td>Parts per million</td>\n",
       "      <td>0.850000</td>\n",
       "      <td>1.600</td>\n",
       "      <td>23</td>\n",
       "      <td>NaN</td>\n",
       "    </tr>\n",
       "    <tr>\n",
       "      <th>...</th>\n",
       "      <td>...</td>\n",
       "      <td>...</td>\n",
       "      <td>...</td>\n",
       "      <td>...</td>\n",
       "      <td>...</td>\n",
       "      <td>...</td>\n",
       "      <td>...</td>\n",
       "      <td>...</td>\n",
       "      <td>...</td>\n",
       "      <td>...</td>\n",
       "      <td>...</td>\n",
       "      <td>...</td>\n",
       "      <td>...</td>\n",
       "      <td>...</td>\n",
       "      <td>...</td>\n",
       "      <td>...</td>\n",
       "      <td>...</td>\n",
       "      <td>...</td>\n",
       "      <td>...</td>\n",
       "      <td>...</td>\n",
       "      <td>...</td>\n",
       "    </tr>\n",
       "    <tr>\n",
       "      <th>1746656</th>\n",
       "      <td>24599</td>\n",
       "      <td>56</td>\n",
       "      <td>21</td>\n",
       "      <td>100</td>\n",
       "      <td>NCore - North Cheyenne Soccer Complex</td>\n",
       "      <td>Wyoming</td>\n",
       "      <td>Laramie</td>\n",
       "      <td>Not in a city</td>\n",
       "      <td>2016-03-30</td>\n",
       "      <td>Parts per billion</td>\n",
       "      <td>...</td>\n",
       "      <td>Parts per billion</td>\n",
       "      <td>0.000000</td>\n",
       "      <td>0.0</td>\n",
       "      <td>2</td>\n",
       "      <td>NaN</td>\n",
       "      <td>Parts per million</td>\n",
       "      <td>0.091667</td>\n",
       "      <td>0.100</td>\n",
       "      <td>2</td>\n",
       "      <td>1.0</td>\n",
       "    </tr>\n",
       "    <tr>\n",
       "      <th>1746657</th>\n",
       "      <td>24600</td>\n",
       "      <td>56</td>\n",
       "      <td>21</td>\n",
       "      <td>100</td>\n",
       "      <td>NCore - North Cheyenne Soccer Complex</td>\n",
       "      <td>Wyoming</td>\n",
       "      <td>Laramie</td>\n",
       "      <td>Not in a city</td>\n",
       "      <td>2016-03-31</td>\n",
       "      <td>Parts per billion</td>\n",
       "      <td>...</td>\n",
       "      <td>Parts per billion</td>\n",
       "      <td>-0.022727</td>\n",
       "      <td>0.0</td>\n",
       "      <td>0</td>\n",
       "      <td>0.0</td>\n",
       "      <td>Parts per million</td>\n",
       "      <td>0.067714</td>\n",
       "      <td>0.127</td>\n",
       "      <td>0</td>\n",
       "      <td>NaN</td>\n",
       "    </tr>\n",
       "    <tr>\n",
       "      <th>1746658</th>\n",
       "      <td>24601</td>\n",
       "      <td>56</td>\n",
       "      <td>21</td>\n",
       "      <td>100</td>\n",
       "      <td>NCore - North Cheyenne Soccer Complex</td>\n",
       "      <td>Wyoming</td>\n",
       "      <td>Laramie</td>\n",
       "      <td>Not in a city</td>\n",
       "      <td>2016-03-31</td>\n",
       "      <td>Parts per billion</td>\n",
       "      <td>...</td>\n",
       "      <td>Parts per billion</td>\n",
       "      <td>-0.022727</td>\n",
       "      <td>0.0</td>\n",
       "      <td>0</td>\n",
       "      <td>0.0</td>\n",
       "      <td>Parts per million</td>\n",
       "      <td>0.100000</td>\n",
       "      <td>0.100</td>\n",
       "      <td>0</td>\n",
       "      <td>1.0</td>\n",
       "    </tr>\n",
       "    <tr>\n",
       "      <th>1746659</th>\n",
       "      <td>24602</td>\n",
       "      <td>56</td>\n",
       "      <td>21</td>\n",
       "      <td>100</td>\n",
       "      <td>NCore - North Cheyenne Soccer Complex</td>\n",
       "      <td>Wyoming</td>\n",
       "      <td>Laramie</td>\n",
       "      <td>Not in a city</td>\n",
       "      <td>2016-03-31</td>\n",
       "      <td>Parts per billion</td>\n",
       "      <td>...</td>\n",
       "      <td>Parts per billion</td>\n",
       "      <td>0.000000</td>\n",
       "      <td>0.0</td>\n",
       "      <td>5</td>\n",
       "      <td>NaN</td>\n",
       "      <td>Parts per million</td>\n",
       "      <td>0.067714</td>\n",
       "      <td>0.127</td>\n",
       "      <td>0</td>\n",
       "      <td>NaN</td>\n",
       "    </tr>\n",
       "    <tr>\n",
       "      <th>1746660</th>\n",
       "      <td>24603</td>\n",
       "      <td>56</td>\n",
       "      <td>21</td>\n",
       "      <td>100</td>\n",
       "      <td>NCore - North Cheyenne Soccer Complex</td>\n",
       "      <td>Wyoming</td>\n",
       "      <td>Laramie</td>\n",
       "      <td>Not in a city</td>\n",
       "      <td>2016-03-31</td>\n",
       "      <td>Parts per billion</td>\n",
       "      <td>...</td>\n",
       "      <td>Parts per billion</td>\n",
       "      <td>0.000000</td>\n",
       "      <td>0.0</td>\n",
       "      <td>5</td>\n",
       "      <td>NaN</td>\n",
       "      <td>Parts per million</td>\n",
       "      <td>0.100000</td>\n",
       "      <td>0.100</td>\n",
       "      <td>0</td>\n",
       "      <td>1.0</td>\n",
       "    </tr>\n",
       "  </tbody>\n",
       "</table>\n",
       "<p>1746661 rows × 29 columns</p>\n",
       "</div>\n",
       "      <button class=\"colab-df-convert\" onclick=\"convertToInteractive('df-eadb0ea6-6523-4e4f-84f0-a5610517f2c7')\"\n",
       "              title=\"Convert this dataframe to an interactive table.\"\n",
       "              style=\"display:none;\">\n",
       "        \n",
       "  <svg xmlns=\"http://www.w3.org/2000/svg\" height=\"24px\"viewBox=\"0 0 24 24\"\n",
       "       width=\"24px\">\n",
       "    <path d=\"M0 0h24v24H0V0z\" fill=\"none\"/>\n",
       "    <path d=\"M18.56 5.44l.94 2.06.94-2.06 2.06-.94-2.06-.94-.94-2.06-.94 2.06-2.06.94zm-11 1L8.5 8.5l.94-2.06 2.06-.94-2.06-.94L8.5 2.5l-.94 2.06-2.06.94zm10 10l.94 2.06.94-2.06 2.06-.94-2.06-.94-.94-2.06-.94 2.06-2.06.94z\"/><path d=\"M17.41 7.96l-1.37-1.37c-.4-.4-.92-.59-1.43-.59-.52 0-1.04.2-1.43.59L10.3 9.45l-7.72 7.72c-.78.78-.78 2.05 0 2.83L4 21.41c.39.39.9.59 1.41.59.51 0 1.02-.2 1.41-.59l7.78-7.78 2.81-2.81c.8-.78.8-2.07 0-2.86zM5.41 20L4 18.59l7.72-7.72 1.47 1.35L5.41 20z\"/>\n",
       "  </svg>\n",
       "      </button>\n",
       "      \n",
       "  <style>\n",
       "    .colab-df-container {\n",
       "      display:flex;\n",
       "      flex-wrap:wrap;\n",
       "      gap: 12px;\n",
       "    }\n",
       "\n",
       "    .colab-df-convert {\n",
       "      background-color: #E8F0FE;\n",
       "      border: none;\n",
       "      border-radius: 50%;\n",
       "      cursor: pointer;\n",
       "      display: none;\n",
       "      fill: #1967D2;\n",
       "      height: 32px;\n",
       "      padding: 0 0 0 0;\n",
       "      width: 32px;\n",
       "    }\n",
       "\n",
       "    .colab-df-convert:hover {\n",
       "      background-color: #E2EBFA;\n",
       "      box-shadow: 0px 1px 2px rgba(60, 64, 67, 0.3), 0px 1px 3px 1px rgba(60, 64, 67, 0.15);\n",
       "      fill: #174EA6;\n",
       "    }\n",
       "\n",
       "    [theme=dark] .colab-df-convert {\n",
       "      background-color: #3B4455;\n",
       "      fill: #D2E3FC;\n",
       "    }\n",
       "\n",
       "    [theme=dark] .colab-df-convert:hover {\n",
       "      background-color: #434B5C;\n",
       "      box-shadow: 0px 1px 3px 1px rgba(0, 0, 0, 0.15);\n",
       "      filter: drop-shadow(0px 1px 2px rgba(0, 0, 0, 0.3));\n",
       "      fill: #FFFFFF;\n",
       "    }\n",
       "  </style>\n",
       "\n",
       "      <script>\n",
       "        const buttonEl =\n",
       "          document.querySelector('#df-eadb0ea6-6523-4e4f-84f0-a5610517f2c7 button.colab-df-convert');\n",
       "        buttonEl.style.display =\n",
       "          google.colab.kernel.accessAllowed ? 'block' : 'none';\n",
       "\n",
       "        async function convertToInteractive(key) {\n",
       "          const element = document.querySelector('#df-eadb0ea6-6523-4e4f-84f0-a5610517f2c7');\n",
       "          const dataTable =\n",
       "            await google.colab.kernel.invokeFunction('convertToInteractive',\n",
       "                                                     [key], {});\n",
       "          if (!dataTable) return;\n",
       "\n",
       "          const docLinkHtml = 'Like what you see? Visit the ' +\n",
       "            '<a target=\"_blank\" href=https://colab.research.google.com/notebooks/data_table.ipynb>data table notebook</a>'\n",
       "            + ' to learn more about interactive tables.';\n",
       "          element.innerHTML = '';\n",
       "          dataTable['output_type'] = 'display_data';\n",
       "          await google.colab.output.renderOutput(dataTable, element);\n",
       "          const docLink = document.createElement('div');\n",
       "          docLink.innerHTML = docLinkHtml;\n",
       "          element.appendChild(docLink);\n",
       "        }\n",
       "      </script>\n",
       "    </div>\n",
       "  </div>\n",
       "  "
      ],
      "text/plain": [
       "         Unnamed: 0  State Code  County Code  Site Num  \\\n",
       "0                 0           4           13      3002   \n",
       "1                 1           4           13      3002   \n",
       "2                 2           4           13      3002   \n",
       "3                 3           4           13      3002   \n",
       "4                 4           4           13      3002   \n",
       "...             ...         ...          ...       ...   \n",
       "1746656       24599          56           21       100   \n",
       "1746657       24600          56           21       100   \n",
       "1746658       24601          56           21       100   \n",
       "1746659       24602          56           21       100   \n",
       "1746660       24603          56           21       100   \n",
       "\n",
       "                                         Address    State    County  \\\n",
       "0        1645 E ROOSEVELT ST-CENTRAL PHOENIX STN  Arizona  Maricopa   \n",
       "1        1645 E ROOSEVELT ST-CENTRAL PHOENIX STN  Arizona  Maricopa   \n",
       "2        1645 E ROOSEVELT ST-CENTRAL PHOENIX STN  Arizona  Maricopa   \n",
       "3        1645 E ROOSEVELT ST-CENTRAL PHOENIX STN  Arizona  Maricopa   \n",
       "4        1645 E ROOSEVELT ST-CENTRAL PHOENIX STN  Arizona  Maricopa   \n",
       "...                                          ...      ...       ...   \n",
       "1746656    NCore - North Cheyenne Soccer Complex  Wyoming   Laramie   \n",
       "1746657    NCore - North Cheyenne Soccer Complex  Wyoming   Laramie   \n",
       "1746658    NCore - North Cheyenne Soccer Complex  Wyoming   Laramie   \n",
       "1746659    NCore - North Cheyenne Soccer Complex  Wyoming   Laramie   \n",
       "1746660    NCore - North Cheyenne Soccer Complex  Wyoming   Laramie   \n",
       "\n",
       "                  City  Date Local          NO2 Units  ...          SO2 Units  \\\n",
       "0              Phoenix  2000-01-01  Parts per billion  ...  Parts per billion   \n",
       "1              Phoenix  2000-01-01  Parts per billion  ...  Parts per billion   \n",
       "2              Phoenix  2000-01-01  Parts per billion  ...  Parts per billion   \n",
       "3              Phoenix  2000-01-01  Parts per billion  ...  Parts per billion   \n",
       "4              Phoenix  2000-01-02  Parts per billion  ...  Parts per billion   \n",
       "...                ...         ...                ...  ...                ...   \n",
       "1746656  Not in a city  2016-03-30  Parts per billion  ...  Parts per billion   \n",
       "1746657  Not in a city  2016-03-31  Parts per billion  ...  Parts per billion   \n",
       "1746658  Not in a city  2016-03-31  Parts per billion  ...  Parts per billion   \n",
       "1746659  Not in a city  2016-03-31  Parts per billion  ...  Parts per billion   \n",
       "1746660  Not in a city  2016-03-31  Parts per billion  ...  Parts per billion   \n",
       "\n",
       "         SO2 Mean  SO2 1st Max Value  SO2 1st Max Hour SO2 AQI  \\\n",
       "0        3.000000                9.0                21    13.0   \n",
       "1        3.000000                9.0                21    13.0   \n",
       "2        2.975000                6.6                23     NaN   \n",
       "3        2.975000                6.6                23     NaN   \n",
       "4        1.958333                3.0                22     4.0   \n",
       "...           ...                ...               ...     ...   \n",
       "1746656  0.000000                0.0                 2     NaN   \n",
       "1746657 -0.022727                0.0                 0     0.0   \n",
       "1746658 -0.022727                0.0                 0     0.0   \n",
       "1746659  0.000000                0.0                 5     NaN   \n",
       "1746660  0.000000                0.0                 5     NaN   \n",
       "\n",
       "                  CO Units   CO Mean  CO 1st Max Value  CO 1st Max Hour CO AQI  \n",
       "0        Parts per million  1.145833             4.200               21    NaN  \n",
       "1        Parts per million  0.878947             2.200               23   25.0  \n",
       "2        Parts per million  1.145833             4.200               21    NaN  \n",
       "3        Parts per million  0.878947             2.200               23   25.0  \n",
       "4        Parts per million  0.850000             1.600               23    NaN  \n",
       "...                    ...       ...               ...              ...    ...  \n",
       "1746656  Parts per million  0.091667             0.100                2    1.0  \n",
       "1746657  Parts per million  0.067714             0.127                0    NaN  \n",
       "1746658  Parts per million  0.100000             0.100                0    1.0  \n",
       "1746659  Parts per million  0.067714             0.127                0    NaN  \n",
       "1746660  Parts per million  0.100000             0.100                0    1.0  \n",
       "\n",
       "[1746661 rows x 29 columns]"
      ]
     },
     "execution_count": 8,
     "metadata": {},
     "output_type": "execute_result"
    }
   ],
   "source": [
    "us_pollution_df"
   ]
  },
  {
   "cell_type": "markdown",
   "id": "2dcadb9c",
   "metadata": {
    "id": "2dcadb9c"
   },
   "source": [
    "To get a concise summary of the dataframe we will use the pandas `info()` function."
   ]
  },
  {
   "cell_type": "code",
   "execution_count": 9,
   "id": "1f66efb1",
   "metadata": {
    "colab": {
     "base_uri": "https://localhost:8080/"
    },
    "executionInfo": {
     "elapsed": 16,
     "status": "ok",
     "timestamp": 1664986093734,
     "user": {
      "displayName": "Chiamaka Anuebunwa",
      "userId": "02342427973017665432"
     },
     "user_tz": -60
    },
    "id": "1f66efb1",
    "outputId": "554767c8-4467-4e00-f578-14013e9110a9",
    "scrolled": false
   },
   "outputs": [
    {
     "name": "stdout",
     "output_type": "stream",
     "text": [
      "<class 'pandas.core.frame.DataFrame'>\n",
      "RangeIndex: 1746661 entries, 0 to 1746660\n",
      "Data columns (total 29 columns):\n",
      " #   Column             Dtype  \n",
      "---  ------             -----  \n",
      " 0   Unnamed: 0         int64  \n",
      " 1   State Code         int64  \n",
      " 2   County Code        int64  \n",
      " 3   Site Num           int64  \n",
      " 4   Address            object \n",
      " 5   State              object \n",
      " 6   County             object \n",
      " 7   City               object \n",
      " 8   Date Local         object \n",
      " 9   NO2 Units          object \n",
      " 10  NO2 Mean           float64\n",
      " 11  NO2 1st Max Value  float64\n",
      " 12  NO2 1st Max Hour   int64  \n",
      " 13  NO2 AQI            int64  \n",
      " 14  O3 Units           object \n",
      " 15  O3 Mean            float64\n",
      " 16  O3 1st Max Value   float64\n",
      " 17  O3 1st Max Hour    int64  \n",
      " 18  O3 AQI             int64  \n",
      " 19  SO2 Units          object \n",
      " 20  SO2 Mean           float64\n",
      " 21  SO2 1st Max Value  float64\n",
      " 22  SO2 1st Max Hour   int64  \n",
      " 23  SO2 AQI            float64\n",
      " 24  CO Units           object \n",
      " 25  CO Mean            float64\n",
      " 26  CO 1st Max Value   float64\n",
      " 27  CO 1st Max Hour    int64  \n",
      " 28  CO AQI             float64\n",
      "dtypes: float64(10), int64(10), object(9)\n",
      "memory usage: 386.5+ MB\n"
     ]
    }
   ],
   "source": [
    "us_pollution_df.info()"
   ]
  },
  {
   "cell_type": "markdown",
   "id": "360c40a4",
   "metadata": {
    "id": "360c40a4"
   },
   "source": [
    "Not all columns might be useful for our analysis, we can use the pandas `columns` attribute to check out the column labels of our dataframe and select the relevant ones."
   ]
  },
  {
   "cell_type": "code",
   "execution_count": 10,
   "id": "c1df5c9c",
   "metadata": {
    "colab": {
     "base_uri": "https://localhost:8080/"
    },
    "executionInfo": {
     "elapsed": 12,
     "status": "ok",
     "timestamp": 1664986093734,
     "user": {
      "displayName": "Chiamaka Anuebunwa",
      "userId": "02342427973017665432"
     },
     "user_tz": -60
    },
    "id": "c1df5c9c",
    "outputId": "1080ffd3-482c-4c90-84d5-7541a26378a6",
    "scrolled": true
   },
   "outputs": [
    {
     "data": {
      "text/plain": [
       "Index(['Unnamed: 0', 'State Code', 'County Code', 'Site Num', 'Address',\n",
       "       'State', 'County', 'City', 'Date Local', 'NO2 Units', 'NO2 Mean',\n",
       "       'NO2 1st Max Value', 'NO2 1st Max Hour', 'NO2 AQI', 'O3 Units',\n",
       "       'O3 Mean', 'O3 1st Max Value', 'O3 1st Max Hour', 'O3 AQI', 'SO2 Units',\n",
       "       'SO2 Mean', 'SO2 1st Max Value', 'SO2 1st Max Hour', 'SO2 AQI',\n",
       "       'CO Units', 'CO Mean', 'CO 1st Max Value', 'CO 1st Max Hour', 'CO AQI'],\n",
       "      dtype='object')"
      ]
     },
     "execution_count": 10,
     "metadata": {},
     "output_type": "execute_result"
    }
   ],
   "source": [
    "us_pollution_df.columns"
   ]
  },
  {
   "cell_type": "code",
   "execution_count": 11,
   "id": "a81d9871",
   "metadata": {
    "executionInfo": {
     "elapsed": 8,
     "status": "ok",
     "timestamp": 1664986093735,
     "user": {
      "displayName": "Chiamaka Anuebunwa",
      "userId": "02342427973017665432"
     },
     "user_tz": -60
    },
    "id": "a81d9871"
   },
   "outputs": [],
   "source": [
    "# Selecting the relevant columns\n",
    "\n",
    "us_pollution = us_pollution_df[['State', 'County', 'City', 'Date Local', 'NO2 Mean',\n",
    "       'NO2 1st Max Value', 'NO2 1st Max Hour', 'NO2 AQI',\n",
    "       'O3 Mean', 'O3 1st Max Value', 'O3 1st Max Hour', 'O3 AQI',\n",
    "       'SO2 Mean', 'SO2 1st Max Value', 'SO2 1st Max Hour', 'SO2 AQI',\n",
    "        'CO Mean', 'CO 1st Max Value', 'CO 1st Max Hour', 'CO AQI']]"
   ]
  },
  {
   "cell_type": "code",
   "execution_count": 12,
   "id": "bdbffbb4",
   "metadata": {
    "colab": {
     "base_uri": "https://localhost:8080/",
     "height": 676
    },
    "executionInfo": {
     "elapsed": 1202,
     "status": "ok",
     "timestamp": 1664986094930,
     "user": {
      "displayName": "Chiamaka Anuebunwa",
      "userId": "02342427973017665432"
     },
     "user_tz": -60
    },
    "id": "bdbffbb4",
    "outputId": "b15c65fe-bb85-41e8-e82e-b446600686c6",
    "scrolled": false
   },
   "outputs": [
    {
     "data": {
      "text/html": [
       "\n",
       "  <div id=\"df-cb36b946-cea5-431b-ae87-6f3b305b50f9\">\n",
       "    <div class=\"colab-df-container\">\n",
       "      <div>\n",
       "<style scoped>\n",
       "    .dataframe tbody tr th:only-of-type {\n",
       "        vertical-align: middle;\n",
       "    }\n",
       "\n",
       "    .dataframe tbody tr th {\n",
       "        vertical-align: top;\n",
       "    }\n",
       "\n",
       "    .dataframe thead th {\n",
       "        text-align: right;\n",
       "    }\n",
       "</style>\n",
       "<table border=\"1\" class=\"dataframe\">\n",
       "  <thead>\n",
       "    <tr style=\"text-align: right;\">\n",
       "      <th></th>\n",
       "      <th>State</th>\n",
       "      <th>County</th>\n",
       "      <th>City</th>\n",
       "      <th>Date Local</th>\n",
       "      <th>NO2 Mean</th>\n",
       "      <th>NO2 1st Max Value</th>\n",
       "      <th>NO2 1st Max Hour</th>\n",
       "      <th>NO2 AQI</th>\n",
       "      <th>O3 Mean</th>\n",
       "      <th>O3 1st Max Value</th>\n",
       "      <th>O3 1st Max Hour</th>\n",
       "      <th>O3 AQI</th>\n",
       "      <th>SO2 Mean</th>\n",
       "      <th>SO2 1st Max Value</th>\n",
       "      <th>SO2 1st Max Hour</th>\n",
       "      <th>SO2 AQI</th>\n",
       "      <th>CO Mean</th>\n",
       "      <th>CO 1st Max Value</th>\n",
       "      <th>CO 1st Max Hour</th>\n",
       "      <th>CO AQI</th>\n",
       "    </tr>\n",
       "  </thead>\n",
       "  <tbody>\n",
       "    <tr>\n",
       "      <th>0</th>\n",
       "      <td>Arizona</td>\n",
       "      <td>Maricopa</td>\n",
       "      <td>Phoenix</td>\n",
       "      <td>2000-01-01</td>\n",
       "      <td>19.041667</td>\n",
       "      <td>49.0</td>\n",
       "      <td>19</td>\n",
       "      <td>46</td>\n",
       "      <td>0.022500</td>\n",
       "      <td>0.040</td>\n",
       "      <td>10</td>\n",
       "      <td>34</td>\n",
       "      <td>3.000000</td>\n",
       "      <td>9.0</td>\n",
       "      <td>21</td>\n",
       "      <td>13.0</td>\n",
       "      <td>1.145833</td>\n",
       "      <td>4.200</td>\n",
       "      <td>21</td>\n",
       "      <td>NaN</td>\n",
       "    </tr>\n",
       "    <tr>\n",
       "      <th>1</th>\n",
       "      <td>Arizona</td>\n",
       "      <td>Maricopa</td>\n",
       "      <td>Phoenix</td>\n",
       "      <td>2000-01-01</td>\n",
       "      <td>19.041667</td>\n",
       "      <td>49.0</td>\n",
       "      <td>19</td>\n",
       "      <td>46</td>\n",
       "      <td>0.022500</td>\n",
       "      <td>0.040</td>\n",
       "      <td>10</td>\n",
       "      <td>34</td>\n",
       "      <td>3.000000</td>\n",
       "      <td>9.0</td>\n",
       "      <td>21</td>\n",
       "      <td>13.0</td>\n",
       "      <td>0.878947</td>\n",
       "      <td>2.200</td>\n",
       "      <td>23</td>\n",
       "      <td>25.0</td>\n",
       "    </tr>\n",
       "    <tr>\n",
       "      <th>2</th>\n",
       "      <td>Arizona</td>\n",
       "      <td>Maricopa</td>\n",
       "      <td>Phoenix</td>\n",
       "      <td>2000-01-01</td>\n",
       "      <td>19.041667</td>\n",
       "      <td>49.0</td>\n",
       "      <td>19</td>\n",
       "      <td>46</td>\n",
       "      <td>0.022500</td>\n",
       "      <td>0.040</td>\n",
       "      <td>10</td>\n",
       "      <td>34</td>\n",
       "      <td>2.975000</td>\n",
       "      <td>6.6</td>\n",
       "      <td>23</td>\n",
       "      <td>NaN</td>\n",
       "      <td>1.145833</td>\n",
       "      <td>4.200</td>\n",
       "      <td>21</td>\n",
       "      <td>NaN</td>\n",
       "    </tr>\n",
       "    <tr>\n",
       "      <th>3</th>\n",
       "      <td>Arizona</td>\n",
       "      <td>Maricopa</td>\n",
       "      <td>Phoenix</td>\n",
       "      <td>2000-01-01</td>\n",
       "      <td>19.041667</td>\n",
       "      <td>49.0</td>\n",
       "      <td>19</td>\n",
       "      <td>46</td>\n",
       "      <td>0.022500</td>\n",
       "      <td>0.040</td>\n",
       "      <td>10</td>\n",
       "      <td>34</td>\n",
       "      <td>2.975000</td>\n",
       "      <td>6.6</td>\n",
       "      <td>23</td>\n",
       "      <td>NaN</td>\n",
       "      <td>0.878947</td>\n",
       "      <td>2.200</td>\n",
       "      <td>23</td>\n",
       "      <td>25.0</td>\n",
       "    </tr>\n",
       "    <tr>\n",
       "      <th>4</th>\n",
       "      <td>Arizona</td>\n",
       "      <td>Maricopa</td>\n",
       "      <td>Phoenix</td>\n",
       "      <td>2000-01-02</td>\n",
       "      <td>22.958333</td>\n",
       "      <td>36.0</td>\n",
       "      <td>19</td>\n",
       "      <td>34</td>\n",
       "      <td>0.013375</td>\n",
       "      <td>0.032</td>\n",
       "      <td>10</td>\n",
       "      <td>27</td>\n",
       "      <td>1.958333</td>\n",
       "      <td>3.0</td>\n",
       "      <td>22</td>\n",
       "      <td>4.0</td>\n",
       "      <td>0.850000</td>\n",
       "      <td>1.600</td>\n",
       "      <td>23</td>\n",
       "      <td>NaN</td>\n",
       "    </tr>\n",
       "    <tr>\n",
       "      <th>...</th>\n",
       "      <td>...</td>\n",
       "      <td>...</td>\n",
       "      <td>...</td>\n",
       "      <td>...</td>\n",
       "      <td>...</td>\n",
       "      <td>...</td>\n",
       "      <td>...</td>\n",
       "      <td>...</td>\n",
       "      <td>...</td>\n",
       "      <td>...</td>\n",
       "      <td>...</td>\n",
       "      <td>...</td>\n",
       "      <td>...</td>\n",
       "      <td>...</td>\n",
       "      <td>...</td>\n",
       "      <td>...</td>\n",
       "      <td>...</td>\n",
       "      <td>...</td>\n",
       "      <td>...</td>\n",
       "      <td>...</td>\n",
       "    </tr>\n",
       "    <tr>\n",
       "      <th>1746656</th>\n",
       "      <td>Wyoming</td>\n",
       "      <td>Laramie</td>\n",
       "      <td>Not in a city</td>\n",
       "      <td>2016-03-30</td>\n",
       "      <td>1.083333</td>\n",
       "      <td>1.6</td>\n",
       "      <td>9</td>\n",
       "      <td>1</td>\n",
       "      <td>0.043917</td>\n",
       "      <td>0.048</td>\n",
       "      <td>18</td>\n",
       "      <td>44</td>\n",
       "      <td>0.000000</td>\n",
       "      <td>0.0</td>\n",
       "      <td>2</td>\n",
       "      <td>NaN</td>\n",
       "      <td>0.091667</td>\n",
       "      <td>0.100</td>\n",
       "      <td>2</td>\n",
       "      <td>1.0</td>\n",
       "    </tr>\n",
       "    <tr>\n",
       "      <th>1746657</th>\n",
       "      <td>Wyoming</td>\n",
       "      <td>Laramie</td>\n",
       "      <td>Not in a city</td>\n",
       "      <td>2016-03-31</td>\n",
       "      <td>0.939130</td>\n",
       "      <td>1.3</td>\n",
       "      <td>5</td>\n",
       "      <td>1</td>\n",
       "      <td>0.045263</td>\n",
       "      <td>0.047</td>\n",
       "      <td>9</td>\n",
       "      <td>44</td>\n",
       "      <td>-0.022727</td>\n",
       "      <td>0.0</td>\n",
       "      <td>0</td>\n",
       "      <td>0.0</td>\n",
       "      <td>0.067714</td>\n",
       "      <td>0.127</td>\n",
       "      <td>0</td>\n",
       "      <td>NaN</td>\n",
       "    </tr>\n",
       "    <tr>\n",
       "      <th>1746658</th>\n",
       "      <td>Wyoming</td>\n",
       "      <td>Laramie</td>\n",
       "      <td>Not in a city</td>\n",
       "      <td>2016-03-31</td>\n",
       "      <td>0.939130</td>\n",
       "      <td>1.3</td>\n",
       "      <td>5</td>\n",
       "      <td>1</td>\n",
       "      <td>0.045263</td>\n",
       "      <td>0.047</td>\n",
       "      <td>9</td>\n",
       "      <td>44</td>\n",
       "      <td>-0.022727</td>\n",
       "      <td>0.0</td>\n",
       "      <td>0</td>\n",
       "      <td>0.0</td>\n",
       "      <td>0.100000</td>\n",
       "      <td>0.100</td>\n",
       "      <td>0</td>\n",
       "      <td>1.0</td>\n",
       "    </tr>\n",
       "    <tr>\n",
       "      <th>1746659</th>\n",
       "      <td>Wyoming</td>\n",
       "      <td>Laramie</td>\n",
       "      <td>Not in a city</td>\n",
       "      <td>2016-03-31</td>\n",
       "      <td>0.939130</td>\n",
       "      <td>1.3</td>\n",
       "      <td>5</td>\n",
       "      <td>1</td>\n",
       "      <td>0.045263</td>\n",
       "      <td>0.047</td>\n",
       "      <td>9</td>\n",
       "      <td>44</td>\n",
       "      <td>0.000000</td>\n",
       "      <td>0.0</td>\n",
       "      <td>5</td>\n",
       "      <td>NaN</td>\n",
       "      <td>0.067714</td>\n",
       "      <td>0.127</td>\n",
       "      <td>0</td>\n",
       "      <td>NaN</td>\n",
       "    </tr>\n",
       "    <tr>\n",
       "      <th>1746660</th>\n",
       "      <td>Wyoming</td>\n",
       "      <td>Laramie</td>\n",
       "      <td>Not in a city</td>\n",
       "      <td>2016-03-31</td>\n",
       "      <td>0.939130</td>\n",
       "      <td>1.3</td>\n",
       "      <td>5</td>\n",
       "      <td>1</td>\n",
       "      <td>0.045263</td>\n",
       "      <td>0.047</td>\n",
       "      <td>9</td>\n",
       "      <td>44</td>\n",
       "      <td>0.000000</td>\n",
       "      <td>0.0</td>\n",
       "      <td>5</td>\n",
       "      <td>NaN</td>\n",
       "      <td>0.100000</td>\n",
       "      <td>0.100</td>\n",
       "      <td>0</td>\n",
       "      <td>1.0</td>\n",
       "    </tr>\n",
       "  </tbody>\n",
       "</table>\n",
       "<p>1746661 rows × 20 columns</p>\n",
       "</div>\n",
       "      <button class=\"colab-df-convert\" onclick=\"convertToInteractive('df-cb36b946-cea5-431b-ae87-6f3b305b50f9')\"\n",
       "              title=\"Convert this dataframe to an interactive table.\"\n",
       "              style=\"display:none;\">\n",
       "        \n",
       "  <svg xmlns=\"http://www.w3.org/2000/svg\" height=\"24px\"viewBox=\"0 0 24 24\"\n",
       "       width=\"24px\">\n",
       "    <path d=\"M0 0h24v24H0V0z\" fill=\"none\"/>\n",
       "    <path d=\"M18.56 5.44l.94 2.06.94-2.06 2.06-.94-2.06-.94-.94-2.06-.94 2.06-2.06.94zm-11 1L8.5 8.5l.94-2.06 2.06-.94-2.06-.94L8.5 2.5l-.94 2.06-2.06.94zm10 10l.94 2.06.94-2.06 2.06-.94-2.06-.94-.94-2.06-.94 2.06-2.06.94z\"/><path d=\"M17.41 7.96l-1.37-1.37c-.4-.4-.92-.59-1.43-.59-.52 0-1.04.2-1.43.59L10.3 9.45l-7.72 7.72c-.78.78-.78 2.05 0 2.83L4 21.41c.39.39.9.59 1.41.59.51 0 1.02-.2 1.41-.59l7.78-7.78 2.81-2.81c.8-.78.8-2.07 0-2.86zM5.41 20L4 18.59l7.72-7.72 1.47 1.35L5.41 20z\"/>\n",
       "  </svg>\n",
       "      </button>\n",
       "      \n",
       "  <style>\n",
       "    .colab-df-container {\n",
       "      display:flex;\n",
       "      flex-wrap:wrap;\n",
       "      gap: 12px;\n",
       "    }\n",
       "\n",
       "    .colab-df-convert {\n",
       "      background-color: #E8F0FE;\n",
       "      border: none;\n",
       "      border-radius: 50%;\n",
       "      cursor: pointer;\n",
       "      display: none;\n",
       "      fill: #1967D2;\n",
       "      height: 32px;\n",
       "      padding: 0 0 0 0;\n",
       "      width: 32px;\n",
       "    }\n",
       "\n",
       "    .colab-df-convert:hover {\n",
       "      background-color: #E2EBFA;\n",
       "      box-shadow: 0px 1px 2px rgba(60, 64, 67, 0.3), 0px 1px 3px 1px rgba(60, 64, 67, 0.15);\n",
       "      fill: #174EA6;\n",
       "    }\n",
       "\n",
       "    [theme=dark] .colab-df-convert {\n",
       "      background-color: #3B4455;\n",
       "      fill: #D2E3FC;\n",
       "    }\n",
       "\n",
       "    [theme=dark] .colab-df-convert:hover {\n",
       "      background-color: #434B5C;\n",
       "      box-shadow: 0px 1px 3px 1px rgba(0, 0, 0, 0.15);\n",
       "      filter: drop-shadow(0px 1px 2px rgba(0, 0, 0, 0.3));\n",
       "      fill: #FFFFFF;\n",
       "    }\n",
       "  </style>\n",
       "\n",
       "      <script>\n",
       "        const buttonEl =\n",
       "          document.querySelector('#df-cb36b946-cea5-431b-ae87-6f3b305b50f9 button.colab-df-convert');\n",
       "        buttonEl.style.display =\n",
       "          google.colab.kernel.accessAllowed ? 'block' : 'none';\n",
       "\n",
       "        async function convertToInteractive(key) {\n",
       "          const element = document.querySelector('#df-cb36b946-cea5-431b-ae87-6f3b305b50f9');\n",
       "          const dataTable =\n",
       "            await google.colab.kernel.invokeFunction('convertToInteractive',\n",
       "                                                     [key], {});\n",
       "          if (!dataTable) return;\n",
       "\n",
       "          const docLinkHtml = 'Like what you see? Visit the ' +\n",
       "            '<a target=\"_blank\" href=https://colab.research.google.com/notebooks/data_table.ipynb>data table notebook</a>'\n",
       "            + ' to learn more about interactive tables.';\n",
       "          element.innerHTML = '';\n",
       "          dataTable['output_type'] = 'display_data';\n",
       "          await google.colab.output.renderOutput(dataTable, element);\n",
       "          const docLink = document.createElement('div');\n",
       "          docLink.innerHTML = docLinkHtml;\n",
       "          element.appendChild(docLink);\n",
       "        }\n",
       "      </script>\n",
       "    </div>\n",
       "  </div>\n",
       "  "
      ],
      "text/plain": [
       "           State    County           City  Date Local   NO2 Mean  \\\n",
       "0        Arizona  Maricopa        Phoenix  2000-01-01  19.041667   \n",
       "1        Arizona  Maricopa        Phoenix  2000-01-01  19.041667   \n",
       "2        Arizona  Maricopa        Phoenix  2000-01-01  19.041667   \n",
       "3        Arizona  Maricopa        Phoenix  2000-01-01  19.041667   \n",
       "4        Arizona  Maricopa        Phoenix  2000-01-02  22.958333   \n",
       "...          ...       ...            ...         ...        ...   \n",
       "1746656  Wyoming   Laramie  Not in a city  2016-03-30   1.083333   \n",
       "1746657  Wyoming   Laramie  Not in a city  2016-03-31   0.939130   \n",
       "1746658  Wyoming   Laramie  Not in a city  2016-03-31   0.939130   \n",
       "1746659  Wyoming   Laramie  Not in a city  2016-03-31   0.939130   \n",
       "1746660  Wyoming   Laramie  Not in a city  2016-03-31   0.939130   \n",
       "\n",
       "         NO2 1st Max Value  NO2 1st Max Hour  NO2 AQI   O3 Mean  \\\n",
       "0                     49.0                19       46  0.022500   \n",
       "1                     49.0                19       46  0.022500   \n",
       "2                     49.0                19       46  0.022500   \n",
       "3                     49.0                19       46  0.022500   \n",
       "4                     36.0                19       34  0.013375   \n",
       "...                    ...               ...      ...       ...   \n",
       "1746656                1.6                 9        1  0.043917   \n",
       "1746657                1.3                 5        1  0.045263   \n",
       "1746658                1.3                 5        1  0.045263   \n",
       "1746659                1.3                 5        1  0.045263   \n",
       "1746660                1.3                 5        1  0.045263   \n",
       "\n",
       "         O3 1st Max Value  O3 1st Max Hour  O3 AQI  SO2 Mean  \\\n",
       "0                   0.040               10      34  3.000000   \n",
       "1                   0.040               10      34  3.000000   \n",
       "2                   0.040               10      34  2.975000   \n",
       "3                   0.040               10      34  2.975000   \n",
       "4                   0.032               10      27  1.958333   \n",
       "...                   ...              ...     ...       ...   \n",
       "1746656             0.048               18      44  0.000000   \n",
       "1746657             0.047                9      44 -0.022727   \n",
       "1746658             0.047                9      44 -0.022727   \n",
       "1746659             0.047                9      44  0.000000   \n",
       "1746660             0.047                9      44  0.000000   \n",
       "\n",
       "         SO2 1st Max Value  SO2 1st Max Hour  SO2 AQI   CO Mean  \\\n",
       "0                      9.0                21     13.0  1.145833   \n",
       "1                      9.0                21     13.0  0.878947   \n",
       "2                      6.6                23      NaN  1.145833   \n",
       "3                      6.6                23      NaN  0.878947   \n",
       "4                      3.0                22      4.0  0.850000   \n",
       "...                    ...               ...      ...       ...   \n",
       "1746656                0.0                 2      NaN  0.091667   \n",
       "1746657                0.0                 0      0.0  0.067714   \n",
       "1746658                0.0                 0      0.0  0.100000   \n",
       "1746659                0.0                 5      NaN  0.067714   \n",
       "1746660                0.0                 5      NaN  0.100000   \n",
       "\n",
       "         CO 1st Max Value  CO 1st Max Hour  CO AQI  \n",
       "0                   4.200               21     NaN  \n",
       "1                   2.200               23    25.0  \n",
       "2                   4.200               21     NaN  \n",
       "3                   2.200               23    25.0  \n",
       "4                   1.600               23     NaN  \n",
       "...                   ...              ...     ...  \n",
       "1746656             0.100                2     1.0  \n",
       "1746657             0.127                0     NaN  \n",
       "1746658             0.100                0     1.0  \n",
       "1746659             0.127                0     NaN  \n",
       "1746660             0.100                0     1.0  \n",
       "\n",
       "[1746661 rows x 20 columns]"
      ]
     },
     "execution_count": 12,
     "metadata": {},
     "output_type": "execute_result"
    }
   ],
   "source": [
    "us_pollution"
   ]
  },
  {
   "cell_type": "markdown",
   "id": "1f932e59",
   "metadata": {
    "id": "1f932e59"
   },
   "source": [
    "Let's check the number of states represented in this dataset"
   ]
  },
  {
   "cell_type": "code",
   "execution_count": 13,
   "id": "29b433e3",
   "metadata": {
    "colab": {
     "base_uri": "https://localhost:8080/"
    },
    "executionInfo": {
     "elapsed": 431,
     "status": "ok",
     "timestamp": 1664986100523,
     "user": {
      "displayName": "Chiamaka Anuebunwa",
      "userId": "02342427973017665432"
     },
     "user_tz": -60
    },
    "id": "29b433e3",
    "outputId": "5576f4d6-5e07-4177-aa00-747727284f69",
    "scrolled": true
   },
   "outputs": [
    {
     "data": {
      "text/plain": [
       "47"
      ]
     },
     "execution_count": 13,
     "metadata": {},
     "output_type": "execute_result"
    }
   ],
   "source": [
    "us_pollution.State.nunique()"
   ]
  },
  {
   "cell_type": "markdown",
   "id": "0112e152",
   "metadata": {
    "id": "0112e152"
   },
   "source": [
    "We can see that only data for 47 out of 51 states are represented in this dataset"
   ]
  },
  {
   "cell_type": "markdown",
   "id": "da155977",
   "metadata": {
    "id": "da155977"
   },
   "source": [
    "Let's check for duplicates and drop if observed."
   ]
  },
  {
   "cell_type": "code",
   "execution_count": 14,
   "id": "b87ed859",
   "metadata": {
    "colab": {
     "base_uri": "https://localhost:8080/"
    },
    "executionInfo": {
     "elapsed": 3377,
     "status": "ok",
     "timestamp": 1664986104733,
     "user": {
      "displayName": "Chiamaka Anuebunwa",
      "userId": "02342427973017665432"
     },
     "user_tz": -60
    },
    "id": "b87ed859",
    "outputId": "353a1ceb-84f5-4d97-d0cb-63d753dd5e0a"
   },
   "outputs": [
    {
     "data": {
      "text/plain": [
       "5032"
      ]
     },
     "execution_count": 14,
     "metadata": {},
     "output_type": "execute_result"
    }
   ],
   "source": [
    "us_pollution.duplicated().sum()"
   ]
  },
  {
   "cell_type": "markdown",
   "id": "366ad96c",
   "metadata": {
    "id": "366ad96c"
   },
   "source": [
    "Over 5000 enteries were duplicated, this could could have been caused during the time of importing and exporting the data, or by human error. \n"
   ]
  },
  {
   "cell_type": "code",
   "execution_count": 15,
   "id": "8aadf727",
   "metadata": {
    "colab": {
     "base_uri": "https://localhost:8080/",
     "height": 676
    },
    "executionInfo": {
     "elapsed": 2356,
     "status": "ok",
     "timestamp": 1664986107079,
     "user": {
      "displayName": "Chiamaka Anuebunwa",
      "userId": "02342427973017665432"
     },
     "user_tz": -60
    },
    "id": "8aadf727",
    "outputId": "6a568838-dffb-42d7-870c-f5956d8c7eb1",
    "scrolled": false
   },
   "outputs": [
    {
     "data": {
      "text/html": [
       "\n",
       "  <div id=\"df-8eb39725-6dfd-459f-89ba-8e6ff7724a74\">\n",
       "    <div class=\"colab-df-container\">\n",
       "      <div>\n",
       "<style scoped>\n",
       "    .dataframe tbody tr th:only-of-type {\n",
       "        vertical-align: middle;\n",
       "    }\n",
       "\n",
       "    .dataframe tbody tr th {\n",
       "        vertical-align: top;\n",
       "    }\n",
       "\n",
       "    .dataframe thead th {\n",
       "        text-align: right;\n",
       "    }\n",
       "</style>\n",
       "<table border=\"1\" class=\"dataframe\">\n",
       "  <thead>\n",
       "    <tr style=\"text-align: right;\">\n",
       "      <th></th>\n",
       "      <th>State</th>\n",
       "      <th>County</th>\n",
       "      <th>City</th>\n",
       "      <th>Date Local</th>\n",
       "      <th>NO2 Mean</th>\n",
       "      <th>NO2 1st Max Value</th>\n",
       "      <th>NO2 1st Max Hour</th>\n",
       "      <th>NO2 AQI</th>\n",
       "      <th>O3 Mean</th>\n",
       "      <th>O3 1st Max Value</th>\n",
       "      <th>O3 1st Max Hour</th>\n",
       "      <th>O3 AQI</th>\n",
       "      <th>SO2 Mean</th>\n",
       "      <th>SO2 1st Max Value</th>\n",
       "      <th>SO2 1st Max Hour</th>\n",
       "      <th>SO2 AQI</th>\n",
       "      <th>CO Mean</th>\n",
       "      <th>CO 1st Max Value</th>\n",
       "      <th>CO 1st Max Hour</th>\n",
       "      <th>CO AQI</th>\n",
       "    </tr>\n",
       "  </thead>\n",
       "  <tbody>\n",
       "    <tr>\n",
       "      <th>0</th>\n",
       "      <td>Arizona</td>\n",
       "      <td>Maricopa</td>\n",
       "      <td>Phoenix</td>\n",
       "      <td>2000-01-01</td>\n",
       "      <td>19.041667</td>\n",
       "      <td>49.0</td>\n",
       "      <td>19</td>\n",
       "      <td>46</td>\n",
       "      <td>0.022500</td>\n",
       "      <td>0.040</td>\n",
       "      <td>10</td>\n",
       "      <td>34</td>\n",
       "      <td>3.000000</td>\n",
       "      <td>9.0</td>\n",
       "      <td>21</td>\n",
       "      <td>13.0</td>\n",
       "      <td>1.145833</td>\n",
       "      <td>4.200</td>\n",
       "      <td>21</td>\n",
       "      <td>NaN</td>\n",
       "    </tr>\n",
       "    <tr>\n",
       "      <th>1</th>\n",
       "      <td>Arizona</td>\n",
       "      <td>Maricopa</td>\n",
       "      <td>Phoenix</td>\n",
       "      <td>2000-01-01</td>\n",
       "      <td>19.041667</td>\n",
       "      <td>49.0</td>\n",
       "      <td>19</td>\n",
       "      <td>46</td>\n",
       "      <td>0.022500</td>\n",
       "      <td>0.040</td>\n",
       "      <td>10</td>\n",
       "      <td>34</td>\n",
       "      <td>3.000000</td>\n",
       "      <td>9.0</td>\n",
       "      <td>21</td>\n",
       "      <td>13.0</td>\n",
       "      <td>0.878947</td>\n",
       "      <td>2.200</td>\n",
       "      <td>23</td>\n",
       "      <td>25.0</td>\n",
       "    </tr>\n",
       "    <tr>\n",
       "      <th>2</th>\n",
       "      <td>Arizona</td>\n",
       "      <td>Maricopa</td>\n",
       "      <td>Phoenix</td>\n",
       "      <td>2000-01-01</td>\n",
       "      <td>19.041667</td>\n",
       "      <td>49.0</td>\n",
       "      <td>19</td>\n",
       "      <td>46</td>\n",
       "      <td>0.022500</td>\n",
       "      <td>0.040</td>\n",
       "      <td>10</td>\n",
       "      <td>34</td>\n",
       "      <td>2.975000</td>\n",
       "      <td>6.6</td>\n",
       "      <td>23</td>\n",
       "      <td>NaN</td>\n",
       "      <td>1.145833</td>\n",
       "      <td>4.200</td>\n",
       "      <td>21</td>\n",
       "      <td>NaN</td>\n",
       "    </tr>\n",
       "    <tr>\n",
       "      <th>3</th>\n",
       "      <td>Arizona</td>\n",
       "      <td>Maricopa</td>\n",
       "      <td>Phoenix</td>\n",
       "      <td>2000-01-01</td>\n",
       "      <td>19.041667</td>\n",
       "      <td>49.0</td>\n",
       "      <td>19</td>\n",
       "      <td>46</td>\n",
       "      <td>0.022500</td>\n",
       "      <td>0.040</td>\n",
       "      <td>10</td>\n",
       "      <td>34</td>\n",
       "      <td>2.975000</td>\n",
       "      <td>6.6</td>\n",
       "      <td>23</td>\n",
       "      <td>NaN</td>\n",
       "      <td>0.878947</td>\n",
       "      <td>2.200</td>\n",
       "      <td>23</td>\n",
       "      <td>25.0</td>\n",
       "    </tr>\n",
       "    <tr>\n",
       "      <th>4</th>\n",
       "      <td>Arizona</td>\n",
       "      <td>Maricopa</td>\n",
       "      <td>Phoenix</td>\n",
       "      <td>2000-01-02</td>\n",
       "      <td>22.958333</td>\n",
       "      <td>36.0</td>\n",
       "      <td>19</td>\n",
       "      <td>34</td>\n",
       "      <td>0.013375</td>\n",
       "      <td>0.032</td>\n",
       "      <td>10</td>\n",
       "      <td>27</td>\n",
       "      <td>1.958333</td>\n",
       "      <td>3.0</td>\n",
       "      <td>22</td>\n",
       "      <td>4.0</td>\n",
       "      <td>0.850000</td>\n",
       "      <td>1.600</td>\n",
       "      <td>23</td>\n",
       "      <td>NaN</td>\n",
       "    </tr>\n",
       "    <tr>\n",
       "      <th>...</th>\n",
       "      <td>...</td>\n",
       "      <td>...</td>\n",
       "      <td>...</td>\n",
       "      <td>...</td>\n",
       "      <td>...</td>\n",
       "      <td>...</td>\n",
       "      <td>...</td>\n",
       "      <td>...</td>\n",
       "      <td>...</td>\n",
       "      <td>...</td>\n",
       "      <td>...</td>\n",
       "      <td>...</td>\n",
       "      <td>...</td>\n",
       "      <td>...</td>\n",
       "      <td>...</td>\n",
       "      <td>...</td>\n",
       "      <td>...</td>\n",
       "      <td>...</td>\n",
       "      <td>...</td>\n",
       "      <td>...</td>\n",
       "    </tr>\n",
       "    <tr>\n",
       "      <th>1746656</th>\n",
       "      <td>Wyoming</td>\n",
       "      <td>Laramie</td>\n",
       "      <td>Not in a city</td>\n",
       "      <td>2016-03-30</td>\n",
       "      <td>1.083333</td>\n",
       "      <td>1.6</td>\n",
       "      <td>9</td>\n",
       "      <td>1</td>\n",
       "      <td>0.043917</td>\n",
       "      <td>0.048</td>\n",
       "      <td>18</td>\n",
       "      <td>44</td>\n",
       "      <td>0.000000</td>\n",
       "      <td>0.0</td>\n",
       "      <td>2</td>\n",
       "      <td>NaN</td>\n",
       "      <td>0.091667</td>\n",
       "      <td>0.100</td>\n",
       "      <td>2</td>\n",
       "      <td>1.0</td>\n",
       "    </tr>\n",
       "    <tr>\n",
       "      <th>1746657</th>\n",
       "      <td>Wyoming</td>\n",
       "      <td>Laramie</td>\n",
       "      <td>Not in a city</td>\n",
       "      <td>2016-03-31</td>\n",
       "      <td>0.939130</td>\n",
       "      <td>1.3</td>\n",
       "      <td>5</td>\n",
       "      <td>1</td>\n",
       "      <td>0.045263</td>\n",
       "      <td>0.047</td>\n",
       "      <td>9</td>\n",
       "      <td>44</td>\n",
       "      <td>-0.022727</td>\n",
       "      <td>0.0</td>\n",
       "      <td>0</td>\n",
       "      <td>0.0</td>\n",
       "      <td>0.067714</td>\n",
       "      <td>0.127</td>\n",
       "      <td>0</td>\n",
       "      <td>NaN</td>\n",
       "    </tr>\n",
       "    <tr>\n",
       "      <th>1746658</th>\n",
       "      <td>Wyoming</td>\n",
       "      <td>Laramie</td>\n",
       "      <td>Not in a city</td>\n",
       "      <td>2016-03-31</td>\n",
       "      <td>0.939130</td>\n",
       "      <td>1.3</td>\n",
       "      <td>5</td>\n",
       "      <td>1</td>\n",
       "      <td>0.045263</td>\n",
       "      <td>0.047</td>\n",
       "      <td>9</td>\n",
       "      <td>44</td>\n",
       "      <td>-0.022727</td>\n",
       "      <td>0.0</td>\n",
       "      <td>0</td>\n",
       "      <td>0.0</td>\n",
       "      <td>0.100000</td>\n",
       "      <td>0.100</td>\n",
       "      <td>0</td>\n",
       "      <td>1.0</td>\n",
       "    </tr>\n",
       "    <tr>\n",
       "      <th>1746659</th>\n",
       "      <td>Wyoming</td>\n",
       "      <td>Laramie</td>\n",
       "      <td>Not in a city</td>\n",
       "      <td>2016-03-31</td>\n",
       "      <td>0.939130</td>\n",
       "      <td>1.3</td>\n",
       "      <td>5</td>\n",
       "      <td>1</td>\n",
       "      <td>0.045263</td>\n",
       "      <td>0.047</td>\n",
       "      <td>9</td>\n",
       "      <td>44</td>\n",
       "      <td>0.000000</td>\n",
       "      <td>0.0</td>\n",
       "      <td>5</td>\n",
       "      <td>NaN</td>\n",
       "      <td>0.067714</td>\n",
       "      <td>0.127</td>\n",
       "      <td>0</td>\n",
       "      <td>NaN</td>\n",
       "    </tr>\n",
       "    <tr>\n",
       "      <th>1746660</th>\n",
       "      <td>Wyoming</td>\n",
       "      <td>Laramie</td>\n",
       "      <td>Not in a city</td>\n",
       "      <td>2016-03-31</td>\n",
       "      <td>0.939130</td>\n",
       "      <td>1.3</td>\n",
       "      <td>5</td>\n",
       "      <td>1</td>\n",
       "      <td>0.045263</td>\n",
       "      <td>0.047</td>\n",
       "      <td>9</td>\n",
       "      <td>44</td>\n",
       "      <td>0.000000</td>\n",
       "      <td>0.0</td>\n",
       "      <td>5</td>\n",
       "      <td>NaN</td>\n",
       "      <td>0.100000</td>\n",
       "      <td>0.100</td>\n",
       "      <td>0</td>\n",
       "      <td>1.0</td>\n",
       "    </tr>\n",
       "  </tbody>\n",
       "</table>\n",
       "<p>1741629 rows × 20 columns</p>\n",
       "</div>\n",
       "      <button class=\"colab-df-convert\" onclick=\"convertToInteractive('df-8eb39725-6dfd-459f-89ba-8e6ff7724a74')\"\n",
       "              title=\"Convert this dataframe to an interactive table.\"\n",
       "              style=\"display:none;\">\n",
       "        \n",
       "  <svg xmlns=\"http://www.w3.org/2000/svg\" height=\"24px\"viewBox=\"0 0 24 24\"\n",
       "       width=\"24px\">\n",
       "    <path d=\"M0 0h24v24H0V0z\" fill=\"none\"/>\n",
       "    <path d=\"M18.56 5.44l.94 2.06.94-2.06 2.06-.94-2.06-.94-.94-2.06-.94 2.06-2.06.94zm-11 1L8.5 8.5l.94-2.06 2.06-.94-2.06-.94L8.5 2.5l-.94 2.06-2.06.94zm10 10l.94 2.06.94-2.06 2.06-.94-2.06-.94-.94-2.06-.94 2.06-2.06.94z\"/><path d=\"M17.41 7.96l-1.37-1.37c-.4-.4-.92-.59-1.43-.59-.52 0-1.04.2-1.43.59L10.3 9.45l-7.72 7.72c-.78.78-.78 2.05 0 2.83L4 21.41c.39.39.9.59 1.41.59.51 0 1.02-.2 1.41-.59l7.78-7.78 2.81-2.81c.8-.78.8-2.07 0-2.86zM5.41 20L4 18.59l7.72-7.72 1.47 1.35L5.41 20z\"/>\n",
       "  </svg>\n",
       "      </button>\n",
       "      \n",
       "  <style>\n",
       "    .colab-df-container {\n",
       "      display:flex;\n",
       "      flex-wrap:wrap;\n",
       "      gap: 12px;\n",
       "    }\n",
       "\n",
       "    .colab-df-convert {\n",
       "      background-color: #E8F0FE;\n",
       "      border: none;\n",
       "      border-radius: 50%;\n",
       "      cursor: pointer;\n",
       "      display: none;\n",
       "      fill: #1967D2;\n",
       "      height: 32px;\n",
       "      padding: 0 0 0 0;\n",
       "      width: 32px;\n",
       "    }\n",
       "\n",
       "    .colab-df-convert:hover {\n",
       "      background-color: #E2EBFA;\n",
       "      box-shadow: 0px 1px 2px rgba(60, 64, 67, 0.3), 0px 1px 3px 1px rgba(60, 64, 67, 0.15);\n",
       "      fill: #174EA6;\n",
       "    }\n",
       "\n",
       "    [theme=dark] .colab-df-convert {\n",
       "      background-color: #3B4455;\n",
       "      fill: #D2E3FC;\n",
       "    }\n",
       "\n",
       "    [theme=dark] .colab-df-convert:hover {\n",
       "      background-color: #434B5C;\n",
       "      box-shadow: 0px 1px 3px 1px rgba(0, 0, 0, 0.15);\n",
       "      filter: drop-shadow(0px 1px 2px rgba(0, 0, 0, 0.3));\n",
       "      fill: #FFFFFF;\n",
       "    }\n",
       "  </style>\n",
       "\n",
       "      <script>\n",
       "        const buttonEl =\n",
       "          document.querySelector('#df-8eb39725-6dfd-459f-89ba-8e6ff7724a74 button.colab-df-convert');\n",
       "        buttonEl.style.display =\n",
       "          google.colab.kernel.accessAllowed ? 'block' : 'none';\n",
       "\n",
       "        async function convertToInteractive(key) {\n",
       "          const element = document.querySelector('#df-8eb39725-6dfd-459f-89ba-8e6ff7724a74');\n",
       "          const dataTable =\n",
       "            await google.colab.kernel.invokeFunction('convertToInteractive',\n",
       "                                                     [key], {});\n",
       "          if (!dataTable) return;\n",
       "\n",
       "          const docLinkHtml = 'Like what you see? Visit the ' +\n",
       "            '<a target=\"_blank\" href=https://colab.research.google.com/notebooks/data_table.ipynb>data table notebook</a>'\n",
       "            + ' to learn more about interactive tables.';\n",
       "          element.innerHTML = '';\n",
       "          dataTable['output_type'] = 'display_data';\n",
       "          await google.colab.output.renderOutput(dataTable, element);\n",
       "          const docLink = document.createElement('div');\n",
       "          docLink.innerHTML = docLinkHtml;\n",
       "          element.appendChild(docLink);\n",
       "        }\n",
       "      </script>\n",
       "    </div>\n",
       "  </div>\n",
       "  "
      ],
      "text/plain": [
       "           State    County           City  Date Local   NO2 Mean  \\\n",
       "0        Arizona  Maricopa        Phoenix  2000-01-01  19.041667   \n",
       "1        Arizona  Maricopa        Phoenix  2000-01-01  19.041667   \n",
       "2        Arizona  Maricopa        Phoenix  2000-01-01  19.041667   \n",
       "3        Arizona  Maricopa        Phoenix  2000-01-01  19.041667   \n",
       "4        Arizona  Maricopa        Phoenix  2000-01-02  22.958333   \n",
       "...          ...       ...            ...         ...        ...   \n",
       "1746656  Wyoming   Laramie  Not in a city  2016-03-30   1.083333   \n",
       "1746657  Wyoming   Laramie  Not in a city  2016-03-31   0.939130   \n",
       "1746658  Wyoming   Laramie  Not in a city  2016-03-31   0.939130   \n",
       "1746659  Wyoming   Laramie  Not in a city  2016-03-31   0.939130   \n",
       "1746660  Wyoming   Laramie  Not in a city  2016-03-31   0.939130   \n",
       "\n",
       "         NO2 1st Max Value  NO2 1st Max Hour  NO2 AQI   O3 Mean  \\\n",
       "0                     49.0                19       46  0.022500   \n",
       "1                     49.0                19       46  0.022500   \n",
       "2                     49.0                19       46  0.022500   \n",
       "3                     49.0                19       46  0.022500   \n",
       "4                     36.0                19       34  0.013375   \n",
       "...                    ...               ...      ...       ...   \n",
       "1746656                1.6                 9        1  0.043917   \n",
       "1746657                1.3                 5        1  0.045263   \n",
       "1746658                1.3                 5        1  0.045263   \n",
       "1746659                1.3                 5        1  0.045263   \n",
       "1746660                1.3                 5        1  0.045263   \n",
       "\n",
       "         O3 1st Max Value  O3 1st Max Hour  O3 AQI  SO2 Mean  \\\n",
       "0                   0.040               10      34  3.000000   \n",
       "1                   0.040               10      34  3.000000   \n",
       "2                   0.040               10      34  2.975000   \n",
       "3                   0.040               10      34  2.975000   \n",
       "4                   0.032               10      27  1.958333   \n",
       "...                   ...              ...     ...       ...   \n",
       "1746656             0.048               18      44  0.000000   \n",
       "1746657             0.047                9      44 -0.022727   \n",
       "1746658             0.047                9      44 -0.022727   \n",
       "1746659             0.047                9      44  0.000000   \n",
       "1746660             0.047                9      44  0.000000   \n",
       "\n",
       "         SO2 1st Max Value  SO2 1st Max Hour  SO2 AQI   CO Mean  \\\n",
       "0                      9.0                21     13.0  1.145833   \n",
       "1                      9.0                21     13.0  0.878947   \n",
       "2                      6.6                23      NaN  1.145833   \n",
       "3                      6.6                23      NaN  0.878947   \n",
       "4                      3.0                22      4.0  0.850000   \n",
       "...                    ...               ...      ...       ...   \n",
       "1746656                0.0                 2      NaN  0.091667   \n",
       "1746657                0.0                 0      0.0  0.067714   \n",
       "1746658                0.0                 0      0.0  0.100000   \n",
       "1746659                0.0                 5      NaN  0.067714   \n",
       "1746660                0.0                 5      NaN  0.100000   \n",
       "\n",
       "         CO 1st Max Value  CO 1st Max Hour  CO AQI  \n",
       "0                   4.200               21     NaN  \n",
       "1                   2.200               23    25.0  \n",
       "2                   4.200               21     NaN  \n",
       "3                   2.200               23    25.0  \n",
       "4                   1.600               23     NaN  \n",
       "...                   ...              ...     ...  \n",
       "1746656             0.100                2     1.0  \n",
       "1746657             0.127                0     NaN  \n",
       "1746658             0.100                0     1.0  \n",
       "1746659             0.127                0     NaN  \n",
       "1746660             0.100                0     1.0  \n",
       "\n",
       "[1741629 rows x 20 columns]"
      ]
     },
     "execution_count": 15,
     "metadata": {},
     "output_type": "execute_result"
    }
   ],
   "source": [
    "us_pollution.drop_duplicates()"
   ]
  },
  {
   "cell_type": "markdown",
   "id": "24328a11",
   "metadata": {
    "id": "24328a11"
   },
   "source": [
    "Let's check for missing values"
   ]
  },
  {
   "cell_type": "code",
   "execution_count": 16,
   "id": "94c1c0f0",
   "metadata": {
    "colab": {
     "base_uri": "https://localhost:8080/"
    },
    "executionInfo": {
     "elapsed": 21,
     "status": "ok",
     "timestamp": 1664986107081,
     "user": {
      "displayName": "Chiamaka Anuebunwa",
      "userId": "02342427973017665432"
     },
     "user_tz": -60
    },
    "id": "94c1c0f0",
    "outputId": "df2ec2b0-28a5-46a9-f0e6-553833696d87",
    "scrolled": true
   },
   "outputs": [
    {
     "data": {
      "text/plain": [
       "State                     0\n",
       "County                    0\n",
       "City                      0\n",
       "Date Local                0\n",
       "NO2 Mean                  0\n",
       "NO2 1st Max Value         0\n",
       "NO2 1st Max Hour          0\n",
       "NO2 AQI                   0\n",
       "O3 Mean                   0\n",
       "O3 1st Max Value          0\n",
       "O3 1st Max Hour           0\n",
       "O3 AQI                    0\n",
       "SO2 Mean                  0\n",
       "SO2 1st Max Value         0\n",
       "SO2 1st Max Hour          0\n",
       "SO2 AQI              872907\n",
       "CO Mean                   0\n",
       "CO 1st Max Value          0\n",
       "CO 1st Max Hour           0\n",
       "CO AQI               873323\n",
       "dtype: int64"
      ]
     },
     "execution_count": 16,
     "metadata": {},
     "output_type": "execute_result"
    }
   ],
   "source": [
    "us_pollution.isna().sum()"
   ]
  },
  {
   "cell_type": "markdown",
   "id": "0284a26c",
   "metadata": {
    "id": "0284a26c"
   },
   "source": [
    "#### Detecting missing data visually using Missingno library\n",
    "\n",
    "To graphically analyse the missingness of the data, let's use a library called Missingno It is a package for graphical analysis of missing values. To use this library, we need to install and import it as follows:"
   ]
  },
  {
   "cell_type": "code",
   "execution_count": 17,
   "id": "d8540c3f",
   "metadata": {
    "executionInfo": {
     "elapsed": 2821,
     "status": "ok",
     "timestamp": 1664986109887,
     "user": {
      "displayName": "Chiamaka Anuebunwa",
      "userId": "02342427973017665432"
     },
     "user_tz": -60
    },
    "id": "d8540c3f"
   },
   "outputs": [],
   "source": [
    "!pip install missingno --upgrade --quiet"
   ]
  },
  {
   "cell_type": "code",
   "execution_count": 18,
   "id": "13f5ed23",
   "metadata": {
    "executionInfo": {
     "elapsed": 536,
     "status": "ok",
     "timestamp": 1664986110415,
     "user": {
      "displayName": "Chiamaka Anuebunwa",
      "userId": "02342427973017665432"
     },
     "user_tz": -60
    },
    "id": "13f5ed23"
   },
   "outputs": [],
   "source": [
    "import missingno as msno"
   ]
  },
  {
   "cell_type": "code",
   "execution_count": 19,
   "id": "1589fb82",
   "metadata": {
    "colab": {
     "base_uri": "https://localhost:8080/",
     "height": 747
    },
    "executionInfo": {
     "elapsed": 2428,
     "status": "ok",
     "timestamp": 1664986112838,
     "user": {
      "displayName": "Chiamaka Anuebunwa",
      "userId": "02342427973017665432"
     },
     "user_tz": -60
    },
    "id": "1589fb82",
    "outputId": "a139d499-69ff-468b-becc-42ccc87fa7fa"
   },
   "outputs": [
    {
     "data": {
      "image/png": "[encoded data removed]",
      "text/plain": [
       "<Figure size 1800x720 with 3 Axes>"
      ]
     },
     "metadata": {
      "needs_background": "light"
     },
     "output_type": "display_data"
    }
   ],
   "source": [
    "msno.bar(us_pollution);"
   ]
  },
  {
   "cell_type": "markdown",
   "id": "c261bf20",
   "metadata": {
    "id": "c261bf20"
   },
   "source": [
    "The bar chart above gives a quick graphical overview of the completeness of the dataset. We can see that SO2 AQI and CO AQI columns have over 50% of the values missing. It is not known why this number of values are missing and so it would not be okay to drop these rows. Let's now see how we can impute these missing values."
   ]
  },
  {
   "cell_type": "code",
   "execution_count": 20,
   "id": "85bd368c",
   "metadata": {
    "executionInfo": {
     "elapsed": 18,
     "status": "ok",
     "timestamp": 1664986112840,
     "user": {
      "displayName": "Chiamaka Anuebunwa",
      "userId": "02342427973017665432"
     },
     "user_tz": -60
    },
    "id": "85bd368c"
   },
   "outputs": [],
   "source": [
    "# Make a copy of the dataframe\n",
    "\n",
    "us_pollution1 = us_pollution.copy()"
   ]
  },
  {
   "cell_type": "markdown",
   "id": "798e4f5d",
   "metadata": {
    "id": "798e4f5d"
   },
   "source": [
    "#### Imputing using interpolation method\n",
    "\n",
    "Linear interpolation is an imputation technique that assumes a linear relationship between data points and utilises non-missing values from adjacent data points to compute a value for a missing data point.\n",
    "\n",
    "Refer to the official documentation for a complete list of interpolation strategies, [here](https://pandas.pydata.org/docs/reference/api/pandas.DataFrame.interpolate.html)."
   ]
  },
  {
   "cell_type": "code",
   "execution_count": 21,
   "id": "3c012d8c",
   "metadata": {
    "executionInfo": {
     "elapsed": 1407,
     "status": "ok",
     "timestamp": 1664986114231,
     "user": {
      "displayName": "Chiamaka Anuebunwa",
      "userId": "02342427973017665432"
     },
     "user_tz": -60
    },
    "id": "3c012d8c"
   },
   "outputs": [],
   "source": [
    "# Imputing using interpolation method\n",
    "\n",
    "us_pollution1.interpolate(limit_direction=\"both\",inplace=True)"
   ]
  },
  {
   "cell_type": "code",
   "execution_count": 22,
   "id": "161267ca",
   "metadata": {
    "colab": {
     "base_uri": "https://localhost:8080/"
    },
    "executionInfo": {
     "elapsed": 20,
     "status": "ok",
     "timestamp": 1664986114232,
     "user": {
      "displayName": "Chiamaka Anuebunwa",
      "userId": "02342427973017665432"
     },
     "user_tz": -60
    },
    "id": "161267ca",
    "outputId": "f5838225-1de1-45cc-9d6e-8dc850317743"
   },
   "outputs": [
    {
     "data": {
      "text/plain": [
       "State                0\n",
       "County               0\n",
       "City                 0\n",
       "Date Local           0\n",
       "NO2 Mean             0\n",
       "NO2 1st Max Value    0\n",
       "NO2 1st Max Hour     0\n",
       "NO2 AQI              0\n",
       "O3 Mean              0\n",
       "O3 1st Max Value     0\n",
       "O3 1st Max Hour      0\n",
       "O3 AQI               0\n",
       "SO2 Mean             0\n",
       "SO2 1st Max Value    0\n",
       "SO2 1st Max Hour     0\n",
       "SO2 AQI              0\n",
       "CO Mean              0\n",
       "CO 1st Max Value     0\n",
       "CO 1st Max Hour      0\n",
       "CO AQI               0\n",
       "dtype: int64"
      ]
     },
     "execution_count": 22,
     "metadata": {},
     "output_type": "execute_result"
    }
   ],
   "source": [
    "us_pollution1.isna().sum()"
   ]
  },
  {
   "cell_type": "markdown",
   "id": "8ca70d6e",
   "metadata": {
    "id": "8ca70d6e"
   },
   "source": [
    "All the missing values have been filled. There is no more missing data"
   ]
  },
  {
   "cell_type": "markdown",
   "id": "b51820f7",
   "metadata": {
    "id": "b51820f7"
   },
   "source": [
    "Let's parse dates, this will add in our analysis. This can be done by using the `pd.to_datetime` function"
   ]
  },
  {
   "cell_type": "code",
   "execution_count": 23,
   "id": "d9dd9457",
   "metadata": {
    "executionInfo": {
     "elapsed": 312,
     "status": "ok",
     "timestamp": 1664986114529,
     "user": {
      "displayName": "Chiamaka Anuebunwa",
      "userId": "02342427973017665432"
     },
     "user_tz": -60
    },
    "id": "d9dd9457"
   },
   "outputs": [],
   "source": [
    "us_pollution1['Date Local'] = pd.to_datetime(us_pollution1['Date Local'])\n"
   ]
  },
  {
   "cell_type": "code",
   "execution_count": 24,
   "id": "f3ac3ec2",
   "metadata": {
    "executionInfo": {
     "elapsed": 6,
     "status": "ok",
     "timestamp": 1664986114530,
     "user": {
      "displayName": "Chiamaka Anuebunwa",
      "userId": "02342427973017665432"
     },
     "user_tz": -60
    },
    "id": "f3ac3ec2"
   },
   "outputs": [],
   "source": [
    "us_pollution1['Year'] = us_pollution1['Date Local'].dt.year\n",
    "us_pollution1['Month'] = us_pollution1['Date Local'].dt.month\n",
    "us_pollution1['Day'] = us_pollution1['Date Local'].dt.day\n",
    "us_pollution1['DayofWeek'] = us_pollution1['Date Local'].dt.dayofweek"
   ]
  },
  {
   "cell_type": "markdown",
   "id": "c3fe2072",
   "metadata": {
    "id": "c3fe2072"
   },
   "source": [
    "## Exploratory Analysis and Visualization\n",
    "\n",
    "Now that we have a clean data we can explore it visually, establish some relationships and answer some questions. \n",
    "\n",
    "First, we will install and import some python libraries that will aid in this analysis; `plotly`, `seaborn` and `matplotlib`."
   ]
  },
  {
   "cell_type": "code",
   "execution_count": 25,
   "id": "8033243b",
   "metadata": {
    "colab": {
     "base_uri": "https://localhost:8080/"
    },
    "executionInfo": {
     "elapsed": 54739,
     "status": "ok",
     "timestamp": 1664986169264,
     "user": {
      "displayName": "Chiamaka Anuebunwa",
      "userId": "02342427973017665432"
     },
     "user_tz": -60
    },
    "id": "8033243b",
    "outputId": "f2c4f9fe-f748-4de6-e41d-a79bff63af7d"
   },
   "outputs": [
    {
     "name": "stdout",
     "output_type": "stream",
     "text": [
      "\u001b[K     |████████████████████████████████| 15.2 MB 5.3 MB/s \n",
      "\u001b[K     |████████████████████████████████| 285 kB 56.3 MB/s \n",
      "\u001b[K     |████████████████████████████████| 11.2 MB 50.5 MB/s \n",
      "\u001b[K     |████████████████████████████████| 960 kB 58.9 MB/s \n",
      "\u001b[?25h"
     ]
    }
   ],
   "source": [
    "!pip install plotly seaborn matplotlib --upgrade --quiet"
   ]
  },
  {
   "cell_type": "code",
   "execution_count": 26,
   "id": "cfe28d54",
   "metadata": {
    "executionInfo": {
     "elapsed": 1631,
     "status": "ok",
     "timestamp": 1664986170868,
     "user": {
      "displayName": "Chiamaka Anuebunwa",
      "userId": "02342427973017665432"
     },
     "user_tz": -60
    },
    "id": "cfe28d54",
    "scrolled": false
   },
   "outputs": [],
   "source": [
    "import seaborn as sns\n",
    "import plotly.express as px\n",
    "import matplotlib\n",
    "import matplotlib.pyplot as plt\n",
    "%matplotlib inline\n",
    "\n",
    "sns.set_style('darkgrid')\n",
    "matplotlib.rcParams['font.size'] = 14\n",
    "matplotlib.rcParams['figure.figsize'] = (9, 5)\n",
    "matplotlib.rcParams['figure.facecolor'] = '#00000000'"
   ]
  },
  {
   "cell_type": "markdown",
   "id": "8f403f3c",
   "metadata": {
    "id": "8f403f3c"
   },
   "source": [
    "To begin, let's look at the distribution of these pollutants"
   ]
  },
  {
   "cell_type": "code",
   "execution_count": 27,
   "id": "ca00ea7a",
   "metadata": {
    "colab": {
     "base_uri": "https://localhost:8080/",
     "height": 523
    },
    "executionInfo": {
     "elapsed": 1754,
     "status": "ok",
     "timestamp": 1664986172597,
     "user": {
      "displayName": "Chiamaka Anuebunwa",
      "userId": "02342427973017665432"
     },
     "user_tz": -60
    },
    "id": "ca00ea7a",
    "outputId": "38326e16-7ee9-4d00-e12f-1f177896db5a",
    "scrolled": false
   },
   "outputs": [
    {
     "data": {
      "image/png": "[encoded data removed]",
      "text/plain": [
       "<Figure size 1008x576 with 4 Axes>"
      ]
     },
     "metadata": {
      "needs_background": "light"
     },
     "output_type": "display_data"
    }
   ],
   "source": [
    "fig, axes = plt.subplots(2, 2, figsize=(14, 8))\n",
    "\n",
    "\n",
    "axes[0,0].set_title('Distribution of NO2 AQI')\n",
    "axes[0,0].hist(x=us_pollution1['NO2 AQI'], bins=30)\n",
    "axes[0,0].set_xlabel('NO2 AQI')\n",
    "axes[0,0].set_ylabel('Count');\n",
    "\n",
    "\n",
    "axes[0,1].set_title('Distribution of SO2 AQI')\n",
    "axes[0,1].hist(x=us_pollution1['SO2 AQI'],bins=30)\n",
    "axes[0,1].set_xlabel('SO2 AQI')\n",
    "axes[0,1].set_ylabel('Count');\n",
    "\n",
    "\n",
    "axes[1,0].set_title('Distribution of CO AQI')\n",
    "axes[1,0].hist(x=us_pollution1['CO AQI'],bins=30)\n",
    "axes[1,0].set_xlabel('CO AQI')\n",
    "axes[1,0].set_ylabel('Count');\n",
    "\n",
    "\n",
    "axes[1,1].set_title('Distribution of O3 AQI')\n",
    "axes[1,1].hist(x=us_pollution1['O3 AQI'],bins=30)\n",
    "axes[1,1].set_xlabel('O3 AQI')\n",
    "axes[1,1].set_ylabel('Count');\n",
    "\n",
    "\n",
    "plt.tight_layout(pad=3);"
   ]
  },
  {
   "cell_type": "markdown",
   "id": "6fade675",
   "metadata": {
    "id": "6fade675"
   },
   "source": [
    "When you look at the distribution of SO2 and CO AQIs you will notice that they seem to have extreme outliers with bulk of their data centered around the values (0 - 20). This forms an exponential distribution (positive skew).Skewness is simply a reflection of a data set in which activity is heavily condensed in one range and less condensed in another. This means the outliers of the distribution curve are further out towards the right and closer to the mean on the left. The consequence of this on human health is hardly known."
   ]
  },
  {
   "cell_type": "markdown",
   "id": "4b078a3b",
   "metadata": {
    "id": "4b078a3b"
   },
   "source": [
    "Let's check the city with the highest concentration of CO"
   ]
  },
  {
   "cell_type": "code",
   "execution_count": 28,
   "id": "eb0763f9",
   "metadata": {
    "executionInfo": {
     "elapsed": 1259,
     "status": "ok",
     "timestamp": 1664986188754,
     "user": {
      "displayName": "Chiamaka Anuebunwa",
      "userId": "02342427973017665432"
     },
     "user_tz": -60
    },
    "id": "eb0763f9",
    "scrolled": false
   },
   "outputs": [],
   "source": [
    "us_city = us_pollution1[['NO2 AQI','SO2 AQI','CO AQI','O3 AQI']].groupby([us_pollution1['State'], us_pollution1['City'],us_pollution1['County']]).sum()"
   ]
  },
  {
   "cell_type": "code",
   "execution_count": 29,
   "id": "0b57c90b",
   "metadata": {
    "executionInfo": {
     "elapsed": 351,
     "status": "ok",
     "timestamp": 1664986200728,
     "user": {
      "displayName": "Chiamaka Anuebunwa",
      "userId": "02342427973017665432"
     },
     "user_tz": -60
    },
    "id": "0b57c90b"
   },
   "outputs": [],
   "source": [
    "us_city = us_city.reset_index()\n",
    "us_city_highco = us_city.sort_values('CO AQI', ascending=False).head(10)"
   ]
  },
  {
   "cell_type": "code",
   "execution_count": 30,
   "id": "0f125bd3",
   "metadata": {
    "colab": {
     "base_uri": "https://localhost:8080/",
     "height": 542
    },
    "executionInfo": {
     "elapsed": 464,
     "status": "ok",
     "timestamp": 1664986201537,
     "user": {
      "displayName": "Chiamaka Anuebunwa",
      "userId": "02342427973017665432"
     },
     "user_tz": -60
    },
    "id": "0f125bd3",
    "outputId": "3c030f6d-ff4c-40cd-c44f-741da0195227",
    "scrolled": false
   },
   "outputs": [
    {
     "data": {
      "text/html": [
       "<html>\n",
       "<head><meta charset=\"utf-8\" /></head>\n",
       "<body>\n",
       "    <div>            <script src=\"https://cdnjs.cloudflare.com/ajax/libs/mathjax/2.7.5/MathJax.js?config=TeX-AMS-MML_SVG\"></script><script type=\"text/javascript\">if (window.MathJax && window.MathJax.Hub && window.MathJax.Hub.Config) {window.MathJax.Hub.Config({SVG: {font: \"STIX-Web\"}});}</script>                <script type=\"text/javascript\">window.PlotlyConfig = {MathJaxConfig: 'local'};</script>\n",
       "        <script src=\"https://cdn.plot.ly/plotly-2.14.0.min.js\"></script>                <div id=\"0965d17b-2ee1-4dfa-ac71-f09d69daacc2\" class=\"plotly-graph-div\" style=\"height:525px; width:100%;\"></div>            <script type=\"text/javascript\">                                    window.PLOTLYENV=window.PLOTLYENV || {};                                    if (document.getElementById(\"0965d17b-2ee1-4dfa-ac71-f09d69daacc2\")) {                    Plotly.newPlot(                        \"0965d17b-2ee1-4dfa-ac71-f09d69daacc2\",                        [{\"alignmentgroup\":\"True\",\"bingroup\":\"x\",\"histfunc\":\"sum\",\"hovertemplate\":\"City=%{x}<br>sum of CO AQI=%{y}<extra></extra>\",\"legendgroup\":\"\",\"marker\":{\"color\":\"#636efa\",\"pattern\":{\"shape\":\"\"}},\"name\":\"\",\"offsetgroup\":\"\",\"orientation\":\"v\",\"showlegend\":false,\"x\":[\"Phoenix\",\"Los Angeles\",\"San Diego\",\"Calexico\",\"Washington\",\"Rubidoux\",\"Long Beach\",\"Burbank\",\"El Paso\",\"North Little Rock\"],\"xaxis\":\"x\",\"y\":[418832.0,404101.5,393985.0,329524.0,298188.5,263311.0,247670.5,238000.0,218850.0,209506.0],\"yaxis\":\"y\",\"type\":\"histogram\"}],                        {\"template\":{\"data\":{\"histogram2dcontour\":[{\"type\":\"histogram2dcontour\",\"colorbar\":{\"outlinewidth\":0,\"ticks\":\"\"},\"colorscale\":[[0.0,\"#0d0887\"],[0.1111111111111111,\"#46039f\"],[0.2222222222222222,\"#7201a8\"],[0.3333333333333333,\"#9c179e\"],[0.4444444444444444,\"#bd3786\"],[0.5555555555555556,\"#d8576b\"],[0.6666666666666666,\"#ed7953\"],[0.7777777777777778,\"#fb9f3a\"],[0.8888888888888888,\"#fdca26\"],[1.0,\"#f0f921\"]]}],\"choropleth\":[{\"type\":\"choropleth\",\"colorbar\":{\"outlinewidth\":0,\"ticks\":\"\"}}],\"histogram2d\":[{\"type\":\"histogram2d\",\"colorbar\":{\"outlinewidth\":0,\"ticks\":\"\"},\"colorscale\":[[0.0,\"#0d0887\"],[0.1111111111111111,\"#46039f\"],[0.2222222222222222,\"#7201a8\"],[0.3333333333333333,\"#9c179e\"],[0.4444444444444444,\"#bd3786\"],[0.5555555555555556,\"#d8576b\"],[0.6666666666666666,\"#ed7953\"],[0.7777777777777778,\"#fb9f3a\"],[0.8888888888888888,\"#fdca26\"],[1.0,\"#f0f921\"]]}],\"heatmap\":[{\"type\":\"heatmap\",\"colorbar\":{\"outlinewidth\":0,\"ticks\":\"\"},\"colorscale\":[[0.0,\"#0d0887\"],[0.1111111111111111,\"#46039f\"],[0.2222222222222222,\"#7201a8\"],[0.3333333333333333,\"#9c179e\"],[0.4444444444444444,\"#bd3786\"],[0.5555555555555556,\"#d8576b\"],[0.6666666666666666,\"#ed7953\"],[0.7777777777777778,\"#fb9f3a\"],[0.8888888888888888,\"#fdca26\"],[1.0,\"#f0f921\"]]}],\"heatmapgl\":[{\"type\":\"heatmapgl\",\"colorbar\":{\"outlinewidth\":0,\"ticks\":\"\"},\"colorscale\":[[0.0,\"#0d0887\"],[0.1111111111111111,\"#46039f\"],[0.2222222222222222,\"#7201a8\"],[0.3333333333333333,\"#9c179e\"],[0.4444444444444444,\"#bd3786\"],[0.5555555555555556,\"#d8576b\"],[0.6666666666666666,\"#ed7953\"],[0.7777777777777778,\"#fb9f3a\"],[0.8888888888888888,\"#fdca26\"],[1.0,\"#f0f921\"]]}],\"contourcarpet\":[{\"type\":\"contourcarpet\",\"colorbar\":{\"outlinewidth\":0,\"ticks\":\"\"}}],\"contour\":[{\"type\":\"contour\",\"colorbar\":{\"outlinewidth\":0,\"ticks\":\"\"},\"colorscale\":[[0.0,\"#0d0887\"],[0.1111111111111111,\"#46039f\"],[0.2222222222222222,\"#7201a8\"],[0.3333333333333333,\"#9c179e\"],[0.4444444444444444,\"#bd3786\"],[0.5555555555555556,\"#d8576b\"],[0.6666666666666666,\"#ed7953\"],[0.7777777777777778,\"#fb9f3a\"],[0.8888888888888888,\"#fdca26\"],[1.0,\"#f0f921\"]]}],\"surface\":[{\"type\":\"surface\",\"colorbar\":{\"outlinewidth\":0,\"ticks\":\"\"},\"colorscale\":[[0.0,\"#0d0887\"],[0.1111111111111111,\"#46039f\"],[0.2222222222222222,\"#7201a8\"],[0.3333333333333333,\"#9c179e\"],[0.4444444444444444,\"#bd3786\"],[0.5555555555555556,\"#d8576b\"],[0.6666666666666666,\"#ed7953\"],[0.7777777777777778,\"#fb9f3a\"],[0.8888888888888888,\"#fdca26\"],[1.0,\"#f0f921\"]]}],\"mesh3d\":[{\"type\":\"mesh3d\",\"colorbar\":{\"outlinewidth\":0,\"ticks\":\"\"}}],\"scatter\":[{\"fillpattern\":{\"fillmode\":\"overlay\",\"size\":10,\"solidity\":0.2},\"type\":\"scatter\"}],\"parcoords\":[{\"type\":\"parcoords\",\"line\":{\"colorbar\":{\"outlinewidth\":0,\"ticks\":\"\"}}}],\"scatterpolargl\":[{\"type\":\"scatterpolargl\",\"marker\":{\"colorbar\":{\"outlinewidth\":0,\"ticks\":\"\"}}}],\"bar\":[{\"error_x\":{\"color\":\"#2a3f5f\"},\"error_y\":{\"color\":\"#2a3f5f\"},\"marker\":{\"line\":{\"color\":\"#E5ECF6\",\"width\":0.5},\"pattern\":{\"fillmode\":\"overlay\",\"size\":10,\"solidity\":0.2}},\"type\":\"bar\"}],\"scattergeo\":[{\"type\":\"scattergeo\",\"marker\":{\"colorbar\":{\"outlinewidth\":0,\"ticks\":\"\"}}}],\"scatterpolar\":[{\"type\":\"scatterpolar\",\"marker\":{\"colorbar\":{\"outlinewidth\":0,\"ticks\":\"\"}}}],\"histogram\":[{\"marker\":{\"pattern\":{\"fillmode\":\"overlay\",\"size\":10,\"solidity\":0.2}},\"type\":\"histogram\"}],\"scattergl\":[{\"type\":\"scattergl\",\"marker\":{\"colorbar\":{\"outlinewidth\":0,\"ticks\":\"\"}}}],\"scatter3d\":[{\"type\":\"scatter3d\",\"line\":{\"colorbar\":{\"outlinewidth\":0,\"ticks\":\"\"}},\"marker\":{\"colorbar\":{\"outlinewidth\":0,\"ticks\":\"\"}}}],\"scattermapbox\":[{\"type\":\"scattermapbox\",\"marker\":{\"colorbar\":{\"outlinewidth\":0,\"ticks\":\"\"}}}],\"scatterternary\":[{\"type\":\"scatterternary\",\"marker\":{\"colorbar\":{\"outlinewidth\":0,\"ticks\":\"\"}}}],\"scattercarpet\":[{\"type\":\"scattercarpet\",\"marker\":{\"colorbar\":{\"outlinewidth\":0,\"ticks\":\"\"}}}],\"carpet\":[{\"aaxis\":{\"endlinecolor\":\"#2a3f5f\",\"gridcolor\":\"white\",\"linecolor\":\"white\",\"minorgridcolor\":\"white\",\"startlinecolor\":\"#2a3f5f\"},\"baxis\":{\"endlinecolor\":\"#2a3f5f\",\"gridcolor\":\"white\",\"linecolor\":\"white\",\"minorgridcolor\":\"white\",\"startlinecolor\":\"#2a3f5f\"},\"type\":\"carpet\"}],\"table\":[{\"cells\":{\"fill\":{\"color\":\"#EBF0F8\"},\"line\":{\"color\":\"white\"}},\"header\":{\"fill\":{\"color\":\"#C8D4E3\"},\"line\":{\"color\":\"white\"}},\"type\":\"table\"}],\"barpolar\":[{\"marker\":{\"line\":{\"color\":\"#E5ECF6\",\"width\":0.5},\"pattern\":{\"fillmode\":\"overlay\",\"size\":10,\"solidity\":0.2}},\"type\":\"barpolar\"}],\"pie\":[{\"automargin\":true,\"type\":\"pie\"}]},\"layout\":{\"autotypenumbers\":\"strict\",\"colorway\":[\"#636efa\",\"#EF553B\",\"#00cc96\",\"#ab63fa\",\"#FFA15A\",\"#19d3f3\",\"#FF6692\",\"#B6E880\",\"#FF97FF\",\"#FECB52\"],\"font\":{\"color\":\"#2a3f5f\"},\"hovermode\":\"closest\",\"hoverlabel\":{\"align\":\"left\"},\"paper_bgcolor\":\"white\",\"plot_bgcolor\":\"#E5ECF6\",\"polar\":{\"bgcolor\":\"#E5ECF6\",\"angularaxis\":{\"gridcolor\":\"white\",\"linecolor\":\"white\",\"ticks\":\"\"},\"radialaxis\":{\"gridcolor\":\"white\",\"linecolor\":\"white\",\"ticks\":\"\"}},\"ternary\":{\"bgcolor\":\"#E5ECF6\",\"aaxis\":{\"gridcolor\":\"white\",\"linecolor\":\"white\",\"ticks\":\"\"},\"baxis\":{\"gridcolor\":\"white\",\"linecolor\":\"white\",\"ticks\":\"\"},\"caxis\":{\"gridcolor\":\"white\",\"linecolor\":\"white\",\"ticks\":\"\"}},\"coloraxis\":{\"colorbar\":{\"outlinewidth\":0,\"ticks\":\"\"}},\"colorscale\":{\"sequential\":[[0.0,\"#0d0887\"],[0.1111111111111111,\"#46039f\"],[0.2222222222222222,\"#7201a8\"],[0.3333333333333333,\"#9c179e\"],[0.4444444444444444,\"#bd3786\"],[0.5555555555555556,\"#d8576b\"],[0.6666666666666666,\"#ed7953\"],[0.7777777777777778,\"#fb9f3a\"],[0.8888888888888888,\"#fdca26\"],[1.0,\"#f0f921\"]],\"sequentialminus\":[[0.0,\"#0d0887\"],[0.1111111111111111,\"#46039f\"],[0.2222222222222222,\"#7201a8\"],[0.3333333333333333,\"#9c179e\"],[0.4444444444444444,\"#bd3786\"],[0.5555555555555556,\"#d8576b\"],[0.6666666666666666,\"#ed7953\"],[0.7777777777777778,\"#fb9f3a\"],[0.8888888888888888,\"#fdca26\"],[1.0,\"#f0f921\"]],\"diverging\":[[0,\"#8e0152\"],[0.1,\"#c51b7d\"],[0.2,\"#de77ae\"],[0.3,\"#f1b6da\"],[0.4,\"#fde0ef\"],[0.5,\"#f7f7f7\"],[0.6,\"#e6f5d0\"],[0.7,\"#b8e186\"],[0.8,\"#7fbc41\"],[0.9,\"#4d9221\"],[1,\"#276419\"]]},\"xaxis\":{\"gridcolor\":\"white\",\"linecolor\":\"white\",\"ticks\":\"\",\"title\":{\"standoff\":15},\"zerolinecolor\":\"white\",\"automargin\":true,\"zerolinewidth\":2},\"yaxis\":{\"gridcolor\":\"white\",\"linecolor\":\"white\",\"ticks\":\"\",\"title\":{\"standoff\":15},\"zerolinecolor\":\"white\",\"automargin\":true,\"zerolinewidth\":2},\"scene\":{\"xaxis\":{\"backgroundcolor\":\"#E5ECF6\",\"gridcolor\":\"white\",\"linecolor\":\"white\",\"showbackground\":true,\"ticks\":\"\",\"zerolinecolor\":\"white\",\"gridwidth\":2},\"yaxis\":{\"backgroundcolor\":\"#E5ECF6\",\"gridcolor\":\"white\",\"linecolor\":\"white\",\"showbackground\":true,\"ticks\":\"\",\"zerolinecolor\":\"white\",\"gridwidth\":2},\"zaxis\":{\"backgroundcolor\":\"#E5ECF6\",\"gridcolor\":\"white\",\"linecolor\":\"white\",\"showbackground\":true,\"ticks\":\"\",\"zerolinecolor\":\"white\",\"gridwidth\":2}},\"shapedefaults\":{\"line\":{\"color\":\"#2a3f5f\"}},\"annotationdefaults\":{\"arrowcolor\":\"#2a3f5f\",\"arrowhead\":0,\"arrowwidth\":1},\"geo\":{\"bgcolor\":\"white\",\"landcolor\":\"#E5ECF6\",\"subunitcolor\":\"white\",\"showland\":true,\"showlakes\":true,\"lakecolor\":\"white\"},\"title\":{\"x\":0.05},\"mapbox\":{\"style\":\"light\"}}},\"xaxis\":{\"anchor\":\"y\",\"domain\":[0.0,1.0],\"title\":{\"text\":\"City\"}},\"yaxis\":{\"anchor\":\"x\",\"domain\":[0.0,1.0],\"title\":{\"text\":\"sum of CO AQI\"}},\"legend\":{\"tracegroupgap\":0},\"title\":{\"text\":\"City with Highest Concentration of CO\"},\"barmode\":\"relative\"},                        {\"responsive\": true}                    ).then(function(){\n",
       "                            \n",
       "var gd = document.getElementById('0965d17b-2ee1-4dfa-ac71-f09d69daacc2');\n",
       "var x = new MutationObserver(function (mutations, observer) {{\n",
       "        var display = window.getComputedStyle(gd).display;\n",
       "        if (!display || display === 'none') {{\n",
       "            console.log([gd, 'removed!']);\n",
       "            Plotly.purge(gd);\n",
       "            observer.disconnect();\n",
       "        }}\n",
       "}});\n",
       "\n",
       "// Listen for the removal of the full notebook cells\n",
       "var notebookContainer = gd.closest('#notebook-container');\n",
       "if (notebookContainer) {{\n",
       "    x.observe(notebookContainer, {childList: true});\n",
       "}}\n",
       "\n",
       "// Listen for the clearing of the current output cell\n",
       "var outputEl = gd.closest('.output');\n",
       "if (outputEl) {{\n",
       "    x.observe(outputEl, {childList: true});\n",
       "}}\n",
       "\n",
       "                        })                };                            </script>        </div>\n",
       "</body>\n",
       "</html>"
      ]
     },
     "metadata": {},
     "output_type": "display_data"
    }
   ],
   "source": [
    "fig = px.histogram(us_city_highco, x='City', y='CO AQI', title='City with Highest Concentration of CO')\n",
    "fig.show()"
   ]
  },
  {
   "cell_type": "markdown",
   "id": "c87c464d",
   "metadata": {
    "id": "c87c464d"
   },
   "source": [
    "Phoenix, which is a city in Arizona, appears to have the highest concentration of CO. "
   ]
  },
  {
   "cell_type": "markdown",
   "id": "df5cd642",
   "metadata": {
    "id": "df5cd642"
   },
   "source": [
    "## Answering Questions about the Data"
   ]
  },
  {
   "cell_type": "markdown",
   "id": "a38d77c7",
   "metadata": {
    "id": "a38d77c7"
   },
   "source": [
    "### Q1: Which two states have the highest concentration of all four pollutants?"
   ]
  },
  {
   "cell_type": "code",
   "execution_count": 31,
   "id": "70975948",
   "metadata": {
    "executionInfo": {
     "elapsed": 845,
     "status": "ok",
     "timestamp": 1664986212419,
     "user": {
      "displayName": "Chiamaka Anuebunwa",
      "userId": "02342427973017665432"
     },
     "user_tz": -60
    },
    "id": "70975948"
   },
   "outputs": [],
   "source": [
    "# NO2\n",
    "us_pollution1_no2 = us_pollution1.groupby('State')['NO2 AQI'].sum().sort_values(ascending=False).head(2)\n",
    "\n",
    "# SO2\n",
    "us_pollution1_so2 = us_pollution1.groupby('State')['SO2 AQI'].sum().sort_values(ascending=False).head(2)\n",
    "\n",
    "# CO\n",
    "us_pollution1_co = us_pollution1.groupby('State')['CO AQI'].sum().sort_values(ascending=False).head(2)\n",
    "\n",
    "# O3\n",
    "us_pollution1_o3 = us_pollution1.groupby('State')['O3 AQI'].sum().sort_values(ascending=False).head(2)"
   ]
  },
  {
   "cell_type": "markdown",
   "id": "3601b71a",
   "metadata": {
    "id": "3601b71a"
   },
   "source": [
    "Let's visualise this using matplotlib subplots."
   ]
  },
  {
   "cell_type": "code",
   "execution_count": 32,
   "id": "8a0ec690",
   "metadata": {
    "colab": {
     "base_uri": "https://localhost:8080/",
     "height": 523
    },
    "executionInfo": {
     "elapsed": 2020,
     "status": "ok",
     "timestamp": 1664986219408,
     "user": {
      "displayName": "Chiamaka Anuebunwa",
      "userId": "02342427973017665432"
     },
     "user_tz": -60
    },
    "id": "8a0ec690",
    "outputId": "51ffd24d-2969-4e4d-9cd2-0a825f6ff49c"
   },
   "outputs": [
    {
     "data": {
      "image/png": "[encoded data removed]",
      "text/plain": [
       "<Figure size 1008x576 with 4 Axes>"
      ]
     },
     "metadata": {
      "needs_background": "light"
     },
     "output_type": "display_data"
    }
   ],
   "source": [
    "fig, axes = plt.subplots(2, 2, figsize=(14, 8))\n",
    "\n",
    "# Pass the axes into seaborn\n",
    "\n",
    "axes[0,0].set_title('Top 2 states with highest NO2 AQI')\n",
    "sns.barplot(x=us_pollution1_no2, \n",
    "            y=us_pollution1_no2.index, ax=axes[0,0]);\n",
    "\n",
    "axes[0,1].set_title('Top 2 states with highest SO2 AQI')\n",
    "sns.barplot(x=us_pollution1_so2, \n",
    "                y=us_pollution1_so2.index, \n",
    "                ax=axes[0,1]);\n",
    "\n",
    "axes[1,0].set_title('Top 2 states with highest CO AQI')\n",
    "sns.barplot(x=us_pollution1_co, \n",
    "                y=us_pollution1_co.index, \n",
    "                ax=axes[1,0]);\n",
    "\n",
    "axes[1,1].set_title('Top 2 states with highest O3 AQI')\n",
    "sns.barplot(x=us_pollution1_o3, \n",
    "                y=us_pollution1_o3.index, \n",
    "                ax=axes[1,1])\n",
    "\n",
    "\n",
    "plt.tight_layout(pad=3);"
   ]
  },
  {
   "cell_type": "markdown",
   "id": "daf39cde",
   "metadata": {
    "id": "daf39cde"
   },
   "source": [
    "We can see from the above that for all four pollutants, `California` and `Pennsylvania`are in the top two. It is no surprise that California is top on this list as it is the most populated state in the U.S while Pennsylvania ranks at number 5.\n",
    "\n",
    "\n",
    "We will now be exploring these two states further to gain more insights."
   ]
  },
  {
   "cell_type": "markdown",
   "id": "1f779881",
   "metadata": {
    "id": "1f779881"
   },
   "source": [
    "### Q2: What is the distribution of all four pollutants in California and Pennsylvania?"
   ]
  },
  {
   "cell_type": "code",
   "execution_count": 33,
   "id": "a9ae7b64",
   "metadata": {
    "executionInfo": {
     "elapsed": 1356,
     "status": "ok",
     "timestamp": 1664986271224,
     "user": {
      "displayName": "Chiamaka Anuebunwa",
      "userId": "02342427973017665432"
     },
     "user_tz": -60
    },
    "id": "a9ae7b64"
   },
   "outputs": [],
   "source": [
    "us_pollution_state = us_pollution1.groupby('State')[['SO2 AQI', 'NO2 AQI', 'CO AQI', 'O3 AQI']].mean()"
   ]
  },
  {
   "cell_type": "markdown",
   "id": "bd5f2f34",
   "metadata": {
    "id": "bd5f2f34"
   },
   "source": [
    "Let's create a dataframe for the two states."
   ]
  },
  {
   "cell_type": "code",
   "execution_count": 34,
   "id": "5c841843",
   "metadata": {
    "colab": {
     "base_uri": "https://localhost:8080/",
     "height": 143
    },
    "executionInfo": {
     "elapsed": 7,
     "status": "ok",
     "timestamp": 1664986271728,
     "user": {
      "displayName": "Chiamaka Anuebunwa",
      "userId": "02342427973017665432"
     },
     "user_tz": -60
    },
    "id": "5c841843",
    "outputId": "59183e24-67bb-4e6a-bd38-49d2e2da0ee1",
    "scrolled": true
   },
   "outputs": [
    {
     "data": {
      "text/html": [
       "\n",
       "  <div id=\"df-831242fd-aa2e-4779-a330-3cc6e83c6e93\">\n",
       "    <div class=\"colab-df-container\">\n",
       "      <div>\n",
       "<style scoped>\n",
       "    .dataframe tbody tr th:only-of-type {\n",
       "        vertical-align: middle;\n",
       "    }\n",
       "\n",
       "    .dataframe tbody tr th {\n",
       "        vertical-align: top;\n",
       "    }\n",
       "\n",
       "    .dataframe thead th {\n",
       "        text-align: right;\n",
       "    }\n",
       "</style>\n",
       "<table border=\"1\" class=\"dataframe\">\n",
       "  <thead>\n",
       "    <tr style=\"text-align: right;\">\n",
       "      <th></th>\n",
       "      <th>SO2 AQI</th>\n",
       "      <th>NO2 AQI</th>\n",
       "      <th>CO AQI</th>\n",
       "      <th>O3 AQI</th>\n",
       "    </tr>\n",
       "    <tr>\n",
       "      <th>State</th>\n",
       "      <th></th>\n",
       "      <th></th>\n",
       "      <th></th>\n",
       "      <th></th>\n",
       "    </tr>\n",
       "  </thead>\n",
       "  <tbody>\n",
       "    <tr>\n",
       "      <th>California</th>\n",
       "      <td>3.599617</td>\n",
       "      <td>24.110238</td>\n",
       "      <td>7.404699</td>\n",
       "      <td>35.722673</td>\n",
       "    </tr>\n",
       "    <tr>\n",
       "      <th>Pennsylvania</th>\n",
       "      <td>15.807702</td>\n",
       "      <td>23.814084</td>\n",
       "      <td>3.986738</td>\n",
       "      <td>39.712682</td>\n",
       "    </tr>\n",
       "  </tbody>\n",
       "</table>\n",
       "</div>\n",
       "      <button class=\"colab-df-convert\" onclick=\"convertToInteractive('df-831242fd-aa2e-4779-a330-3cc6e83c6e93')\"\n",
       "              title=\"Convert this dataframe to an interactive table.\"\n",
       "              style=\"display:none;\">\n",
       "        \n",
       "  <svg xmlns=\"http://www.w3.org/2000/svg\" height=\"24px\"viewBox=\"0 0 24 24\"\n",
       "       width=\"24px\">\n",
       "    <path d=\"M0 0h24v24H0V0z\" fill=\"none\"/>\n",
       "    <path d=\"M18.56 5.44l.94 2.06.94-2.06 2.06-.94-2.06-.94-.94-2.06-.94 2.06-2.06.94zm-11 1L8.5 8.5l.94-2.06 2.06-.94-2.06-.94L8.5 2.5l-.94 2.06-2.06.94zm10 10l.94 2.06.94-2.06 2.06-.94-2.06-.94-.94-2.06-.94 2.06-2.06.94z\"/><path d=\"M17.41 7.96l-1.37-1.37c-.4-.4-.92-.59-1.43-.59-.52 0-1.04.2-1.43.59L10.3 9.45l-7.72 7.72c-.78.78-.78 2.05 0 2.83L4 21.41c.39.39.9.59 1.41.59.51 0 1.02-.2 1.41-.59l7.78-7.78 2.81-2.81c.8-.78.8-2.07 0-2.86zM5.41 20L4 18.59l7.72-7.72 1.47 1.35L5.41 20z\"/>\n",
       "  </svg>\n",
       "      </button>\n",
       "      \n",
       "  <style>\n",
       "    .colab-df-container {\n",
       "      display:flex;\n",
       "      flex-wrap:wrap;\n",
       "      gap: 12px;\n",
       "    }\n",
       "\n",
       "    .colab-df-convert {\n",
       "      background-color: #E8F0FE;\n",
       "      border: none;\n",
       "      border-radius: 50%;\n",
       "      cursor: pointer;\n",
       "      display: none;\n",
       "      fill: #1967D2;\n",
       "      height: 32px;\n",
       "      padding: 0 0 0 0;\n",
       "      width: 32px;\n",
       "    }\n",
       "\n",
       "    .colab-df-convert:hover {\n",
       "      background-color: #E2EBFA;\n",
       "      box-shadow: 0px 1px 2px rgba(60, 64, 67, 0.3), 0px 1px 3px 1px rgba(60, 64, 67, 0.15);\n",
       "      fill: #174EA6;\n",
       "    }\n",
       "\n",
       "    [theme=dark] .colab-df-convert {\n",
       "      background-color: #3B4455;\n",
       "      fill: #D2E3FC;\n",
       "    }\n",
       "\n",
       "    [theme=dark] .colab-df-convert:hover {\n",
       "      background-color: #434B5C;\n",
       "      box-shadow: 0px 1px 3px 1px rgba(0, 0, 0, 0.15);\n",
       "      filter: drop-shadow(0px 1px 2px rgba(0, 0, 0, 0.3));\n",
       "      fill: #FFFFFF;\n",
       "    }\n",
       "  </style>\n",
       "\n",
       "      <script>\n",
       "        const buttonEl =\n",
       "          document.querySelector('#df-831242fd-aa2e-4779-a330-3cc6e83c6e93 button.colab-df-convert');\n",
       "        buttonEl.style.display =\n",
       "          google.colab.kernel.accessAllowed ? 'block' : 'none';\n",
       "\n",
       "        async function convertToInteractive(key) {\n",
       "          const element = document.querySelector('#df-831242fd-aa2e-4779-a330-3cc6e83c6e93');\n",
       "          const dataTable =\n",
       "            await google.colab.kernel.invokeFunction('convertToInteractive',\n",
       "                                                     [key], {});\n",
       "          if (!dataTable) return;\n",
       "\n",
       "          const docLinkHtml = 'Like what you see? Visit the ' +\n",
       "            '<a target=\"_blank\" href=https://colab.research.google.com/notebooks/data_table.ipynb>data table notebook</a>'\n",
       "            + ' to learn more about interactive tables.';\n",
       "          element.innerHTML = '';\n",
       "          dataTable['output_type'] = 'display_data';\n",
       "          await google.colab.output.renderOutput(dataTable, element);\n",
       "          const docLink = document.createElement('div');\n",
       "          docLink.innerHTML = docLinkHtml;\n",
       "          element.appendChild(docLink);\n",
       "        }\n",
       "      </script>\n",
       "    </div>\n",
       "  </div>\n",
       "  "
      ],
      "text/plain": [
       "                SO2 AQI    NO2 AQI    CO AQI     O3 AQI\n",
       "State                                                  \n",
       "California     3.599617  24.110238  7.404699  35.722673\n",
       "Pennsylvania  15.807702  23.814084  3.986738  39.712682"
      ]
     },
     "execution_count": 34,
     "metadata": {},
     "output_type": "execute_result"
    }
   ],
   "source": [
    "us_pollution_top = us_pollution_state.loc[['California','Pennsylvania']]\n",
    "us_pollution_top"
   ]
  },
  {
   "cell_type": "markdown",
   "id": "326578b4",
   "metadata": {
    "id": "326578b4"
   },
   "source": [
    "Let's visualize this using matplotlib subplots."
   ]
  },
  {
   "cell_type": "code",
   "execution_count": 35,
   "id": "47a20bb4",
   "metadata": {
    "colab": {
     "base_uri": "https://localhost:8080/",
     "height": 551
    },
    "executionInfo": {
     "elapsed": 2202,
     "status": "ok",
     "timestamp": 1664986276315,
     "user": {
      "displayName": "Chiamaka Anuebunwa",
      "userId": "02342427973017665432"
     },
     "user_tz": -60
    },
    "id": "47a20bb4",
    "outputId": "09dd8271-82e8-419c-8433-5dcf89d62070"
   },
   "outputs": [
    {
     "data": {
      "image/png": "[encoded data removed]",
      "text/plain": [
       "<Figure size 1008x576 with 4 Axes>"
      ]
     },
     "metadata": {
      "needs_background": "light"
     },
     "output_type": "display_data"
    }
   ],
   "source": [
    "fig, axes = plt.subplots(2, 2, figsize=(14, 8))\n",
    "\n",
    "\n",
    "axes[0,0].set_title('Mean NO2 AQI distribution in the top 2 states ')\n",
    "axes[0,0].bar(x=us_pollution_top.index, \n",
    "              height=us_pollution_top['NO2 AQI'],\n",
    "              color='Gray')\n",
    "axes[0,0].set_xlabel('State')\n",
    "axes[0,0].set_ylabel('Mean NO2 AQI');\n",
    "\n",
    "\n",
    "axes[0,1].set_title('Mean SO2 AQI distribution in the top 2 states ')\n",
    "axes[0,1].bar(x=us_pollution_top.index, \n",
    "              height=us_pollution_top['SO2 AQI'],\n",
    "              color='Gray')\n",
    "axes[0,1].set_xlabel('State')\n",
    "axes[0,1].set_ylabel('Mean SO2 AQI');\n",
    "\n",
    "\n",
    "axes[1,0].set_title('Mean CO AQI distribution in the top 2 states')\n",
    "axes[1,0].bar(x=us_pollution_top.index, \n",
    "              height=us_pollution_top['CO AQI'],\n",
    "             color='Grey')\n",
    "axes[1,0].set_xlabel('State')\n",
    "axes[1,0].set_ylabel('Mean CO AQI');\n",
    "\n",
    "\n",
    "axes[1,1].set_title('Mean O3 AQI distribution in the top 2 states')\n",
    "axes[1,1].bar(x=us_pollution_top.index, \n",
    "              height=us_pollution_top['O3 AQI'],\n",
    "              color='Grey')\n",
    "axes[1,1].set_xlabel('State')\n",
    "axes[1,1].set_ylabel('Mean O3 AQI');\n",
    "\n",
    "\n",
    "plt.tight_layout(pad=2);\n",
    "\n"
   ]
  },
  {
   "cell_type": "markdown",
   "id": "70af8d84",
   "metadata": {
    "id": "70af8d84"
   },
   "source": [
    "The states show a relatively low mean AQI, with values less than 50. Thus, signifying that there's little or no risk of air pollution in these regions. However, daily values have to be studied to understand the concentration levels of these pollutants and their health impacts."
   ]
  },
  {
   "cell_type": "markdown",
   "id": "fb1a0308",
   "metadata": {
    "id": "fb1a0308"
   },
   "source": [
    "#### Relationships and Trends\n",
    "\n",
    "In order to better understand the variables we will try to establish;\n",
    "* Relationship between pairs\n",
    "* Yearly trends\n",
    "* Monthly trends\n",
    "* Weekly trends\n",
    "\n",
    "**Relationship between pairs**\n",
    "\n",
    "### Q3: Is there any relationship between pollutants? If there is, how has it changed overtime in California and Pennsylvania?\n",
    "\n",
    "Using a correlation matrix we will check if there is any relationship between pairs of variable\n",
    "\n",
    "Let's create a dataframe with the four pollutants we are analysing."
   ]
  },
  {
   "cell_type": "code",
   "execution_count": 36,
   "id": "7ebcb139",
   "metadata": {
    "executionInfo": {
     "elapsed": 323,
     "status": "ok",
     "timestamp": 1664986283654,
     "user": {
      "displayName": "Chiamaka Anuebunwa",
      "userId": "02342427973017665432"
     },
     "user_tz": -60
    },
    "id": "7ebcb139"
   },
   "outputs": [],
   "source": [
    "us_pollution1_pol = us_pollution1[['NO2 AQI','SO2 AQI','CO AQI','O3 AQI']]"
   ]
  },
  {
   "cell_type": "markdown",
   "id": "1ad3d67e",
   "metadata": {
    "id": "1ad3d67e"
   },
   "source": [
    "Using the pandas `corr()`method, we can compute the correlation matrix"
   ]
  },
  {
   "cell_type": "code",
   "execution_count": 37,
   "id": "06df432a",
   "metadata": {
    "executionInfo": {
     "elapsed": 999,
     "status": "ok",
     "timestamp": 1664986292762,
     "user": {
      "displayName": "Chiamaka Anuebunwa",
      "userId": "02342427973017665432"
     },
     "user_tz": -60
    },
    "id": "06df432a",
    "scrolled": true
   },
   "outputs": [],
   "source": [
    "correlation_mat = us_pollution1_pol.corr()"
   ]
  },
  {
   "cell_type": "markdown",
   "id": "f23564fa",
   "metadata": {
    "id": "f23564fa"
   },
   "source": [
    "We will now visualize this relationship by using the seaborn’s `heatmap()` method to plot the matrix. The parameter `‘annot=True‘` displays the values of the correlation coefficient in each cell."
   ]
  },
  {
   "cell_type": "code",
   "execution_count": 38,
   "id": "23f5fa8d",
   "metadata": {
    "colab": {
     "base_uri": "https://localhost:8080/",
     "height": 442
    },
    "executionInfo": {
     "elapsed": 966,
     "status": "ok",
     "timestamp": 1664986308184,
     "user": {
      "displayName": "Chiamaka Anuebunwa",
      "userId": "02342427973017665432"
     },
     "user_tz": -60
    },
    "id": "23f5fa8d",
    "outputId": "0405b991-6549-42a5-ce0f-f72f91d38f05",
    "scrolled": false
   },
   "outputs": [
    {
     "data": {
      "image/png": "[encoded data removed]",
      "text/plain": [
       "<Figure size 720x432 with 2 Axes>"
      ]
     },
     "metadata": {
      "needs_background": "light"
     },
     "output_type": "display_data"
    }
   ],
   "source": [
    "plt.figure(figsize=(10,6))\n",
    "plt.title(\"Correlation matrix of Pollutants\", y=-0.25)\n",
    "sns.heatmap(correlation_mat, annot = True);"
   ]
  },
  {
   "cell_type": "markdown",
   "id": "45f187d1",
   "metadata": {
    "id": "45f187d1"
   },
   "source": [
    "We can now see that CO and NO2 is a strong correlation pair (with a correlation coefficient greater than 0.6). This means when the value of CO increases, the value of NO2 increases in a similar fashion. This could be because they have the same sources of pollution which is primarily from burning of fuel."
   ]
  },
  {
   "cell_type": "markdown",
   "id": "2199f3cd",
   "metadata": {
    "id": "2199f3cd"
   },
   "source": [
    "Let's visualize this using our top 2 states"
   ]
  },
  {
   "cell_type": "code",
   "execution_count": 39,
   "id": "30ae1cd0",
   "metadata": {
    "executionInfo": {
     "elapsed": 1181,
     "status": "ok",
     "timestamp": 1664986311821,
     "user": {
      "displayName": "Chiamaka Anuebunwa",
      "userId": "02342427973017665432"
     },
     "user_tz": -60
    },
    "id": "30ae1cd0"
   },
   "outputs": [],
   "source": [
    "us_pol = us_pollution1.query(\"State in ('California','Pennsylvania')\")"
   ]
  },
  {
   "cell_type": "code",
   "execution_count": 40,
   "id": "663245d7",
   "metadata": {
    "colab": {
     "base_uri": "https://localhost:8080/",
     "height": 542,
     "output_embedded_package_id": "1raOedqiK-Zs19QhmDGFue_SgxtSGS3-V"
    },
    "executionInfo": {
     "elapsed": 3313,
     "status": "ok",
     "timestamp": 1664986318097,
     "user": {
      "displayName": "Chiamaka Anuebunwa",
      "userId": "02342427973017665432"
     },
     "user_tz": -60
    },
    "id": "663245d7",
    "outputId": "4d6a331f-5742-4821-998c-993114eaf676"
   },
   "outputs": [
    {
     "data": {
      "text/plain": [
       "Output hidden; open in https://colab.research.google.com to view."
      ]
     },
     "metadata": {},
     "output_type": "display_data"
    }
   ],
   "source": [
    "px.scatter(us_pol, x=us_pol['NO2 AQI'], y=us_pol['CO AQI'], \n",
    "           color='State', animation_frame=\"Year\",\n",
    "          title='Growth pattern of CO and NO2 Overtime in California and Pennsylvania')"
   ]
  },
  {
   "cell_type": "markdown",
   "id": "79ac2bf2",
   "metadata": {
    "id": "79ac2bf2"
   },
   "source": [
    "We can see from this plot that california has a number of outliers, This could be why there is a disproportionate amount of these pollutants in California than in most other states.  Outliers could reflect measurement errors or unusual high air pollution events. Additional evaluation using expert knowledge is needed to decide on treatment of the identified outliers."
   ]
  },
  {
   "cell_type": "markdown",
   "id": "e40c5e35",
   "metadata": {
    "id": "e40c5e35"
   },
   "source": [
    "**Yearly trends**\n",
    "\n",
    "### Q4: What is the yearly trend between pollutants? Has their been an upward or downward trend in the rate of pollution?\n",
    "\n",
    "Let's check whether there has been an improvement in air quality in the United states over the years."
   ]
  },
  {
   "cell_type": "code",
   "execution_count": 41,
   "id": "809371c2",
   "metadata": {
    "colab": {
     "base_uri": "https://localhost:8080/",
     "height": 416
    },
    "executionInfo": {
     "elapsed": 1537,
     "status": "ok",
     "timestamp": 1664986326691,
     "user": {
      "displayName": "Chiamaka Anuebunwa",
      "userId": "02342427973017665432"
     },
     "user_tz": -60
    },
    "id": "809371c2",
    "outputId": "2df98f48-c61e-4ac6-a209-277e3a16a0a4",
    "scrolled": false
   },
   "outputs": [
    {
     "data": {
      "image/png": "[encoded data removed]",
      "text/plain": [
       "<Figure size 1008x432 with 1 Axes>"
      ]
     },
     "metadata": {
      "needs_background": "light"
     },
     "output_type": "display_data"
    }
   ],
   "source": [
    "# Plot the aggregate of all four pollutants\n",
    "\n",
    "f, ax = plt.subplots(figsize=[14, 6])\n",
    "us_pollution1.groupby(['Year']).agg({'SO2 AQI': 'mean',\n",
    "                          'CO AQI': 'mean',\n",
    "                          'NO2 AQI': 'mean',\n",
    "                          'O3 AQI': 'mean'})\\\n",
    ".plot(colormap='rainbow',marker='.',markersize=10, ax =ax,linewidth=2.5)\n",
    "ax.set_title('Mean Pollutant AQI Over time')\n",
    "ax.set_xlabel('Average AQI')\n",
    "ax.set_ylabel('Year')\n",
    "\n",
    "plt.show()"
   ]
  },
  {
   "cell_type": "markdown",
   "id": "67be6398",
   "metadata": {
    "id": "67be6398"
   },
   "source": [
    "The trend of all pollutants, except for Ozone, which keeps fluctuating, is downward, signifying that the air quality in the United States has gotten better over the years.\n",
    "\n",
    "Let's explore ozone trends in relation to the two most polluted states"
   ]
  },
  {
   "cell_type": "markdown",
   "id": "08c3b6cb",
   "metadata": {
    "id": "08c3b6cb"
   },
   "source": [
    "**Monthly trends**\n",
    "\n",
    "Let's take a closer look at the year 2016 as it is the latest year in our dataset.\n",
    "\n",
    "### Q5: What is the monthly trend of ozone(O3) in the year 2016 in California?"
   ]
  },
  {
   "cell_type": "code",
   "execution_count": 42,
   "id": "27bd2b90",
   "metadata": {
    "executionInfo": {
     "elapsed": 295,
     "status": "ok",
     "timestamp": 1664986336887,
     "user": {
      "displayName": "Chiamaka Anuebunwa",
      "userId": "02342427973017665432"
     },
     "user_tz": -60
    },
    "id": "27bd2b90"
   },
   "outputs": [],
   "source": [
    "us_ozone_cali = us_pollution1[['State','O3 AQI','Month','Year']]"
   ]
  },
  {
   "cell_type": "code",
   "execution_count": 43,
   "id": "6e799940",
   "metadata": {
    "executionInfo": {
     "elapsed": 504,
     "status": "ok",
     "timestamp": 1664986344451,
     "user": {
      "displayName": "Chiamaka Anuebunwa",
      "userId": "02342427973017665432"
     },
     "user_tz": -60
    },
    "id": "6e799940",
    "scrolled": true
   },
   "outputs": [],
   "source": [
    "us_ozone_cali16 = us_ozone_cali.query('Year == 2016 and State ==\"California\"')"
   ]
  },
  {
   "cell_type": "code",
   "execution_count": 44,
   "id": "e166112b",
   "metadata": {
    "executionInfo": {
     "elapsed": 299,
     "status": "ok",
     "timestamp": 1664986348880,
     "user": {
      "displayName": "Chiamaka Anuebunwa",
      "userId": "02342427973017665432"
     },
     "user_tz": -60
    },
    "id": "e166112b"
   },
   "outputs": [],
   "source": [
    "#Using Plotly as a plotting backend for Pandas\n",
    "\n",
    "pd.options.plotting.backend = \"plotly\""
   ]
  },
  {
   "cell_type": "code",
   "execution_count": 45,
   "id": "7e6e07d9",
   "metadata": {
    "colab": {
     "base_uri": "https://localhost:8080/",
     "height": 542
    },
    "executionInfo": {
     "elapsed": 373,
     "status": "ok",
     "timestamp": 1664986353405,
     "user": {
      "displayName": "Chiamaka Anuebunwa",
      "userId": "02342427973017665432"
     },
     "user_tz": -60
    },
    "id": "7e6e07d9",
    "outputId": "b92fa4ab-c6c6-45fd-8993-6aefbecfe798"
   },
   "outputs": [
    {
     "data": {
      "text/html": [
       "<html>\n",
       "<head><meta charset=\"utf-8\" /></head>\n",
       "<body>\n",
       "    <div>            <script src=\"https://cdnjs.cloudflare.com/ajax/libs/mathjax/2.7.5/MathJax.js?config=TeX-AMS-MML_SVG\"></script><script type=\"text/javascript\">if (window.MathJax && window.MathJax.Hub && window.MathJax.Hub.Config) {window.MathJax.Hub.Config({SVG: {font: \"STIX-Web\"}});}</script>                <script type=\"text/javascript\">window.PlotlyConfig = {MathJaxConfig: 'local'};</script>\n",
       "        <script src=\"https://cdn.plot.ly/plotly-2.14.0.min.js\"></script>                <div id=\"3453f462-b806-4a46-bf30-f194b6e5d77d\" class=\"plotly-graph-div\" style=\"height:525px; width:100%;\"></div>            <script type=\"text/javascript\">                                    window.PLOTLYENV=window.PLOTLYENV || {};                                    if (document.getElementById(\"3453f462-b806-4a46-bf30-f194b6e5d77d\")) {                    Plotly.newPlot(                        \"3453f462-b806-4a46-bf30-f194b6e5d77d\",                        [{\"alignmentgroup\":\"True\",\"hovertemplate\":\"Month=%{x}<br>O3 AQI=%{y}<extra></extra>\",\"legendgroup\":\"\",\"marker\":{\"color\":\"#636efa\"},\"name\":\"\",\"notched\":false,\"offsetgroup\":\"\",\"orientation\":\"v\",\"showlegend\":false,\"x\":[1,1,1,1,1,1,1,1,1,1,1,1,1,1,1,1,1,1,1,1,1,1,1,1,1,1,1,1,1,1,1,1,1,1,1,1,1,1,1,1,1,1,1,1,1,1,1,1,1,1,1,1,1,1,1,1,1,1,1,1,1,1,1,1,1,1,1,1,1,1,1,1,1,1,1,1,1,1,1,1,1,1,1,1,1,1,1,1,1,1,1,1,1,1,1,1,1,1,1,1,1,1,1,1,1,1,1,1,1,1,1,1,1,1,1,1,1,1,1,1,1,1,1,1,2,2,2,2,2,2,2,2,2,2,2,2,2,2,2,2,2,2,2,2,2,2,2,2,2,2,2,2,2,2,2,2,2,2,2,2,2,2,2,2,2,2,2,2,2,2,2,2,2,2,2,2,2,2,2,2,2,2,2,2,2,2,2,2,2,2,2,2,2,2,2,2,2,2,2,2,2,2,2,2,2,2,2,2,2,2,2,2,2,2,2,2,2,2,2,2,2,2,2,2,2,2,2,2,2,2,2,2,2,2,2,2,2,2,2,2,3,3,3,3,3,3,3,3,3,3,3,3,3,3,3,3,3,3,3,3,3,3,3,3,3,3,3,3,3,3,3,3,3,3,3,3,3,3,3,3,3,3,3,3,3,3,3,3,3,3,3,3,3,3,3,3,3,3,3,3,3,3,3,3,3,3,3,3,3,3,3,3,3,3,3,3,3,3,3,3,3,3,3,3,3,3,3,3,3,3,3,3,3,3,3,3,3,3,3,3,3,3,3,3,3,3,3,3,4,4,4,4,4,4,4,4,4,4,4,4,4,4,4,4,4,4,4,4,4,4,4,4,4,4,4,4,4,4,4,4,4,4,4,4,4,4,4,4,4,4,4,4,4,4,4,4,4,4,4,4,4,4,4,4,4,4,4,4,4,4,4,4,4,4,4,4,4,4,4,4,4,4,4,4,4,4,4,4,4,4,4,4,4,4,4,4,4,4,4,4,4,4,4,4,4,4,4,4,4,4,4,4,4,4,4,4,4,4,4,4,4,4,4,4,4,4,4,4,1,1,1,1,1,1,1,1,1,1,1,1,1,1,1,1,1,1,1,1,1,1,1,1,1,1,1,1,1,1,1,1,1,1,1,1,1,1,1,1,1,1,1,1,1,1,1,1,1,1,1,1,1,1,1,1,1,1,1,1,1,1,1,1,1,1,1,1,1,1,1,1,1,1,1,1,1,1,1,1,1,1,1,1,1,1,1,1,1,1,1,1,1,1,1,1,1,1,1,1,1,1,1,1,1,1,1,1,1,1,1,1,1,1,1,1,1,1,1,1,1,1,1,1,2,2,2,2,2,2,2,2,2,2,2,2,2,2,2,2,2,2,2,2,2,2,2,2,2,2,2,2,2,2,2,2,2,2,2,2,2,2,2,2,2,2,2,2,2,2,2,2,2,2,2,2,2,2,2,2,2,2,2,2,2,2,2,2,2,2,2,2,2,2,2,2,2,2,2,2,2,2,2,2,2,2,2,2,2,2,2,2,2,2,2,2,2,2,2,2,2,2,2,2,2,2,2,2,2,2,2,2,2,2,2,2,2,2,2,2,3,3,3,3,3,3,3,3,3,3,3,3,3,3,3,3,3,3,3,3,3,3,3,3,3,3,3,3,3,3,3,3,3,3,3,3,3,3,3,3,3,3,3,3,3,3,3,3,3,3,3,3,3,3,3,3,3,3,3,3,3,3,3,3,3,3,3,3,3,3,3,3,3,3,3,3,3,3,3,3,3,3,3,3,3,3,3,3,3,3,3,3,3,3,3,3,3,3,3,3,3,3,3,3,3,3,3,3,3,3,3,3,3,3,3,3,3,3,3,3,3,3,3,3,4,4,4,4,4,4,4,4,4,4,4,4,4,4,4,4,4,4,4,4,4,4,4,4,4,4,4,4,4,4,4,4,4,4,4,4,4,4,4,4,4,4,4,4,4,4,4,4,4,4,4,4,4,4,4,4,4,4,4,4,4,4,4,4,4,4,4,4,4,4,4,4,4,4,4,4,4,4,4,4,4,4,4,4,4,4,4,4,4,4,4,4,4,4,4,4,4,4,4,4,4,4,4,4,4,4,4,4,4,4,4,4,4,4,4,4,4,4,4,4,1,1,1,1,1,1,1,1,1,1,1,1,1,1,1,1,1,1,1,1,1,1,1,1,1,1,1,1,1,1,1,1,1,1,1,1,1,1,1,1,1,1,1,1,1,1,1,1,1,1,1,1,1,1,1,1,1,1,1,1,1,1,1,1,1,1,1,1,1,1,1,1,1,1,1,1,1,1,1,1,1,1,1,1,1,1,1,1,1,1,1,1,1,1,1,1,1,1,1,1,1,1,1,1,1,1,1,1,1,1,1,1,1,1,1,1,1,1,1,1,1,1,1,1,2,2,2,2,2,2,2,2,2,2,2,2,2,2,2,2,2,2,2,2,2,2,2,2,2,2,2,2,2,2,2,2,2,2,2,2,2,2,2,2,2,2,2,2,2,2,2,2,2,2,2,2,2,2,2,2,2,2,2,2,2,2,2,2,2,2,2,2,2,2,2,2,2,2,2,2,2,2,2,2,2,2,2,2,2,2,2,2,2,2,2,2,2,2,2,2,2,2,2,2,2,2,2,2,2,2,2,2,2,2,2,2,2,2,2,2,3,3,3,3,3,3,3,3,3,3,3,3,3,3,3,3,3,3,3,3,3,3,3,3,3,3,3,3,3,3,3,3,3,3,3,3,3,3,3,3,3,3,3,3,3,3,3,3,3,3,3,3,3,3,3,3,3,3,3,3,3,3,3,3,3,3,3,3,3,3,3,3,3,3,3,3,3,3,3,3,3,3,3,3,3,3,3,3,3,3,3,3,3,3,3,3,3,3,3,3,3,3,3,3,3,3,3,3,3,3,3,3,3,3,3,3,3,3,3,3,3,3,3,3,4,4,4,4,4,4,4,4,4,4,4,4,4,4,4,4,4,4,4,4,4,4,4,4,4,4,4,4,4,4,4,4,4,4,4,4,4,4,4,4,4,4,4,4,4,4,4,4,4,4,4,4,4,4,4,4,4,4,4,4,4,4,4,4,4,4,4,4,4,4,4,4,4,4,4,4,4,4,4,4,4,4,4,4,4,4,4,4,4,4,4,4,4,4,4,4,4,4,4,4,4,4,4,4,4,4,4,4,4,4,4,4,4,4,4,4,4,4,4,4,1,1,1,1,1,1,1,1,1,1,1,1,1,1,1,1,1,1,1,1,1,1,1,1,1,1,1,1,1,1,1,1,1,1,1,1,1,1,1,1,1,1,1,1,1,1,1,1,1,1,1,1,1,1,1,1,1,1,1,1,1,1,1,1,1,1,1,1,1,1,1,1,1,1,1,1,1,1,1,1,1,1,1,1,1,1,1,1,1,1,1,1,1,1,1,1,1,1,1,1,1,1,1,1,1,1,1,1,1,1,1,1,1,1,1,1,1,1,1,1,1,1,1,1,2,2,2,2,2,2,2,2,2,2,2,2,2,2,2,2,2,2,2,2,2,2,2,2,2,2,2,2,2,2,2,2,2,2,2,2,2,2,2,2,2,2,2,2,2,2,2,2,2,2,2,2,2,2,2,2,2,2,2,2,2,2,2,2,2,2,2,2,2,2,2,2,2,2,2,2,2,2,2,2,2,2,2,2,2,2,2,2,2,2,2,2,2,2,2,2,2,2,2,2,2,2,2,2,2,2,2,2,3,3,3,3,3,3,3,3,3,3,3,3,3,3,3,3,3,3,3,3,3,3,3,3,3,3,3,3,3,3,3,3,3,3,3,3,3,3,3,3,3,3,3,3,3,3,3,3,3,3,3,3,3,3,3,3,3,3,3,3,3,3,3,3,3,3,3,3,3,3,3,3,3,3,3,3,3,3,3,3,3,3,3,3,3,3,3,3,3,3,3,3,3,3,3,3,3,3,3,3,3,3,3,3,3,3,3,3,3,3,3,3,3,3,3,3,3,3,3,3,3,3,3,3,4,4,4,4,4,4,4,4,4,4,4,4,4,4,4,4,4,4,4,4,4,4,4,4,4,4,4,4,4,4,4,4,4,4,4,4,4,4,4,4,4,4,4,4,4,4,4,4,4,4,4,4,4,4,4,4,4,4,4,4,4,4,4,4,4,4,4,4,4,4,4,4,4,4,4,4,4,4,4,4,4,4,4,4,4,4,4,4,4,4,4,4,4,4,4,4,4,4,4,4,4,4,4,4,4,4,4,4,4,4,4,4,4,4,4,4,4,4,4,4,1,1,1,1,1,1,1,1,1,1,1,1,1,1,1,1,1,1,1,1,1,1,1,1,1,1,1,1,1,1,1,1,1,1,1,1,1,1,1,1,1,1,1,1,1,1,1,1,1,1,1,1,1,1,1,1,1,1,1,1,1,1,1,1,1,1,1,1,1,1,1,1,1,1,1,1,1,1,1,1,1,1,1,1,1,1,1,1,1,1,1,1,1,1,1,1,1,1,1,1,1,1,1,1,1,1,1,1,1,1,1,1,1,1,1,1,2,2,2,2,2,2,2,2,2,2,2,2,2,2,2,2,2,2,2,2,2,2,2,2,2,2,2,2,2,2,2,2,2,2,2,2,2,2,2,2,2,2,2,2,2,2,2,2,2,2,2,2,2,2,2,2,2,2,2,2,2,2,2,2,2,2,2,2,2,2,2,2,2,2,2,2,2,2,2,2,2,2,2,2,2,2,2,2,2,2,2,2,2,2,2,2,2,2,2,2,2,2,2,2,2,2,2,2,2,2,2,2,2,2,2,2,1,1,1,1,1,1,1,1,1,1,1,1,1,1,1,1,1,1,1,1,1,1,1,1,1,1,1,1,1,1,1,1,1,1,1,1,1,1,1,1,1,1,1,1,1,1,1,1,1,1,1,1,1,1,1,1,1,1,1,1,1,1,1,1,1,1,1,1,1,1,1,1,1,1,1,1,1,1,1,1,1,1,1,1,1,1,1,1,1,1,1,1,1,1,1,1,1,1,1,1,1,1,1,1,1,1,1,1,1,1,1,1,1,1,1,1,1,1,1,1,1,1,1,1,2,2,2,2,2,2,2,2,2,2,2,2,2,2,2,2,2,2,2,2,2,2,2,2,2,2,2,2,2,2,2,2,2,2,2,2,2,2,2,2,2,2,2,2,2,2,2,2,2,2,2,2,2,2,2,2,2,2,2,2,2,2,2,2,2,2,2,2,2,2,2,2,2,2,2,2,2,2,2,2,2,2,2,2,2,2,2,2,2,2,2,2,2,2,2,2,2,2,2,2,2,2,2,2,2,2,2,2,2,2,2,2,2,2,2,2,3,3,3,3,3,3,3,3,3,3,3,3,3,3,3,3,3,3,3,3,3,3,3,3,3,3,3,3,3,3,3,3,3,3,3,3,3,3,3,3,3,3,3,3,3,3,3,3,3,3,3,3,3,3,3,3,3,3,3,3,3,3,3,3,3,3,3,3,3,3,3,3,3,3,3,3,3,3,3,3,3,3,3,3,3,3,3,3,3,3,3,3,3,3,3,3,3,3,3,3,3,3,3,3,3,3,3,3,3,3,3,3,3,3,3,3,3,3,3,3,3,3,3,3,1,1,1,1,1,1,1,1,1,1,1,1,1,1,1,1,1,1,1,1,1,1,1,1,1,1,1,1,1,1,1,1,1,1,1,1,1,1,1,1,1,1,1,1,1,1,1,1,1,1,1,1,1,1,1,1,1,1,1,1,1,1,1,1,1,1,1,1,1,1,1,1,1,1,1,1,1,1,1,1,1,1,1,1,1,1,1,1,1,1,1,1,1,1,1,1,1,1,1,1,1,1,1,1,1,1,1,1,1,1,1,1,1,1,1,1,1,1,1,1,1,1,1,1,2,2,2,2,2,2,2,2,2,2,2,2,2,2,2,2,2,2,2,2,2,2,2,2,2,2,2,2,2,2,2,2,2,2,2,2,2,2,2,2,2,2,2,2,2,2,2,2,2,2,2,2,2,2,2,2,2,2,2,2,2,2,2,2,2,2,2,2,2,2,2,2,2,2,2,2,2,2,2,2,2,2,2,2,2,2,2,2,2,2,2,2,2,2,2,2,2,2,2,2,2,2,2,2,2,2,2,2,2,2,2,2,2,2,2,2,3,3,3,3,3,3,3,3,3,3,3,3,3,3,3,3,3,3,3,3,3,3,3,3,3,3,3,3,3,3,3,3,3,3,3,3,3,3,3,3,3,3,3,3,3,3,3,3,3,3,3,3,3,3,3,3,3,3,3,3,3,3,3,3,3,3,3,3,3,3,3,3,3,3,3,3,3,3,3,3,3,3,3,3,3,3,3,3,3,3,3,3,3,3,3,3,3,3,3,3,3,3,3,3,3,3,3,3,3,3,3,3,3,3,3,3,3,3,3,3,3,3,3,3,1,1,1,1,1,1,1,1,1,1,1,1,1,1,1,1,1,1,1,1,1,1,1,1,1,1,1,1,1,1,1,1,1,1,1,1,1,1,1,1,1,1,1,1,1,1,1,1,1,1,1,1,1,1,1,1,1,1,1,1,1,1,1,1,1,1,1,1,1,1,1,1,1,1,1,1,1,1,1,1,1,1,1,1,1,1,1,1,1,1,1,1,1,1,1,1,1,1,1,1,1,1,1,1,1,1,1,1,1,1,1,1,1,1,1,1,1,1,1,1,1,1,1,1,2,2,2,2,2,2,2,2,2,2,2,2,2,2,2,2,2,2,2,2,2,2,2,2,2,2,2,2,2,2,2,2,2,2,2,2,2,2,2,2,2,2,2,2,2,2,2,2,2,2,2,2,2,2,2,2,2,2,2,2,2,2,2,2,2,2,2,2,2,2,2,2,2,2,2,2,2,2,2,2,2,2,2,2,2,2,2,2,2,2,2,2,2,2,2,2,2,2,2,2,2,2,2,2,2,2,2,2,2,2,2,2,2,2,2,2,3,3,3,3,3,3,3,3,3,3,3,3,3,3,3,3,3,3,3,3,3,3,3,3,3,3,3,3,3,3,3,3,3,3,3,3,3,3,3,3,3,3,3,3,3,3,3,3,3,3,3,3,3,3,3,3,3,3,3,3,3,3,3,3,3,3,3,3,3,3,3,3,3,3,3,3,3,3,3,3,3,3,3,3,3,3,3,3,3,3,3,3,3,3,3,3,3,3,3,3,3,3,3,3,3,3,3,3,3,3,3,3,3,3,3,3,3,3,3,3,3,3,3,3,1,1,1,1,1,1,1,1,1,1,1,1,1,1,1,1,1,1,1,1,1,1,1,1,1,1,1,1,1,1,1,1,1,1,1,1,1,1,1,1,1,1,1,1,1,1,1,1,1,1,1,1,1,1,1,1,1,1,1,1,1,1,1,1,1,1,1,1,1,1,1,1,1,1,1,1,1,1,1,1,1,1,1,1,1,1,1,1,1,1,1,1,1,1,1,1,1,1,1,1,1,1,1,1,1,1,1,1,1,1,1,1,1,1,1,1,1,1,1,1,1,1,1,1,1,1,1,1,1,1,1,1,1,1,1,1,1,1,1,1,1,1,1,1,1,1,1,1,1,1,1,1,1,1,1,1,1,1,1,1,1,1,1,1,1,1,1,1,1,1,1,1,1,1,1,1,1,1,1,1,1,1,1,1,1,1,1,1,1,1,1,1,1,1,1,1,1,1,1,1,1,1,1,1,1,1,1,1,1,1,1,1,1,1,1,1,1,1,1,1,1,1,1,1,1,1,1,1,1,1,1,1,2,2,2,2,2,2,2,2,2,2,2,2,2,2,2,2,2,2,2,2,2,2,2,2,2,2,2,2,2,2,2,2,2,2,2,2,2,2,2,2,2,2,2,2,2,2,2,2,2,2,2,2,2,2,2,2,2,2,2,2,2,2,2,2,2,2,2,2,2,2,2,2,2,2,2,2,2,2,2,2,2,2,2,2,2,2,2,2,2,2,2,2,2,2,2,2,2,2,2,2,2,2,2,2,2,2,2,2,2,2,2,2,3,3,3,3,3,3,3,3,3,3,3,3,3,3,3,3,3,3,3,3,3,3,3,3,3,3,3,3,3,3,3,3,3,3,3,3,3,3,3,3,3,3,3,3,3,3,3,3,3,3,3,3,3,3,3,3,3,3,3,3,3,3,3,3,3,3,3,3,3,3,3,3,3,3,3,3,3,3,3,3,3,3,3,3,3,3,3,3,3,3,3,3,3,3,3,3,3,3,3,3,3,3,3,3,3,3,3,3,3,3,3,3,3,3,3,3,3,3,3,3,1,1,1,1,1,1,1,1,1,1,1,1,1,1,1,1,1,1,1,1,1,1,1,1,1,1,1,1,1,1,1,1,1,1,1,1,1,1,1,1,1,1,1,1,1,1,1,1,1,1,1,1,1,1,1,1,1,1,1,1,1,1,1,1,1,1,1,1,1,1,1,1,1,1,1,1,1,1,1,1,1,1,1,1,1,1,1,1,1,1,1,1,1,1,1,1,1,1,1,1,1,1,1,1,1,1,1,1,1,1,1,1,1,1,1,1,1,1,1,1,1,1,1,1,2,2,2,2,2,2,2,2,2,2,2,2,2,2,2,2,2,2,2,2,2,2,2,2,2,2,2,2,2,2,2,2,2,2,2,2,2,2,2,2,2,2,2,2,2,2,2,2,2,2,2,2,2,2,2,2,2,2,2,2,2,2,2,2,2,2,2,2,2,2,2,2,2,2,2,2,2,2,2,2,2,2,2,2,2,2,2,2,2,2,2,2,2,2,2,2,2,2,2,2,2,2,2,2,2,2,2,2,2,2,2,2,2,2,2,2,3,3,3,3,3,3,3,3,3,3,3,3,3,3,3,3,3,3,3,3,3,3,3,3,3,3,3,3,3,3,3,3,3,3,3,3,3,3,3,3,3,3,3,3,3,3,3,3,3,3,3,3,3,3,3,3,3,3,3,3,3,3,3,3,3,3,3,3,3,3,3,3,3,3,3,3,3,3,3,3,3,3,3,3,3,3,3,3,3,3,3,3,3,3,3,3,3,3,3,3,3,3,3,3,3,3,3,3,3,3,3,3,3,3,3,3,3,3,3,3,1,1,1,1,1,1,1,1,1,1,1,1,1,1,1,1,1,1,1,1,1,1,1,1,1,1,1,1,1,1,1,1,1,1,1,1,1,1,1,1,1,1,1,1,1,1,1,1,1,1,1,1,1,1,1,1,1,1,1,1,1,1,1,1,1,1,1,1,1,1,1,1,1,1,1,1,1,1,1,1,1,1,1,1,1,1,1,1,1,1,1,1,1,1,1,1,1,1,1,1,1,1,1,1,1,1,1,1,1,1,1,1,1,1,1,1,1,1,1,1,1,1,1,1,2,2,2,2,2,2,2,2,2,2,2,2,2,2,2,2,2,2,2,2,2,2,2,2,2,2,2,2,2,2,2,2,2,2,2,2,2,2,2,2,2,2,2,2,2,2,2,2,2,2,2,2,2,2,2,2,2,2,2,2,2,2,2,2,2,2,2,2,2,2,2,2,2,2,2,2,2,2,2,2,2,2,2,2,2,2,2,2,2,2,2,2,2,2,2,2,2,2,2,2,2,2,2,2,2,2,2,2,2,2,2,2,2,2,2,2,1,1,1,1,1,1,1,1,1,1,1,1,1,1,1,1,1,1,1,1,1,1,1,1,1,1,1,1,1,1,1,1,1,1,1,1,1,1,1,1,1,1,1,1,1,1,1,1,1,1,1,1,1,1,1,1,1,1,1,1,1,1,1,1,1,1,1,1,1,1,1,1,1,1,1,1,1,1,1,1,1,1,1,1,1,1,1,1,1,1,1,1,1,1,1,1,1,1,1,1,1,1,1,1,1,1,1,1,1,1,1,1,1,1,1,1,1,1,1,1,1,1,1,1,2,2,2,2,2,2,2,2,2,2,2,2,2,2,2,2,2,2,2,2,2,2,2,2,2,2,2,2,2,2,2,2,2,2,2,2,2,2,2,2,2,2,2,2,2,2,2,2,2,2,2,2,2,2,2,2,2,2,2,2,2,2,2,2,2,2,2,2,2,2,2,2,2,2,2,2,2,2,2,2,2,2,2,2,2,2,2,2,2,2,2,2,2,2,2,2,2,2,2,2,2,2,2,2,2,2,2,2,1,1,1,1,1,1,1,1,1,1,1,1,1,1,1,1,1,1,1,1,1,1,1,1,1,1,1,1,1,1,1,1,1,1,1,1,1,1,1,1,1,1,1,1,1,1,1,1,1,1,1,1,1,1,1,1,1,1,1,1,1,1,1,1,1,1,1,1,1,1,1,1,1,1,1,1,1,1,1,1,1,1,1,1,1,1,1,1,1,1,1,1,1,1,1,1,1,1,1,1,1,1,1,1,1,1,1,1,1,1,1,1,1,1,1,1,1,1,1,1,1,1,1,1,2,2,2,2,2,2,2,2,2,2,2,2,2,2,2,2,2,2,2,2,2,2,2,2,2,2,2,2,2,2,2,2,2,2,2,2,2,2,2,2,2,2,2,2,2,2,2,2,2,2,2,2,2,2,2,2,2,2,2,2,2,2,2,2,2,2,2,2,2,2,2,2,2,2,2,2,2,2,2,2,2,2,2,2,2,2,2,2,2,2,2,2,2,2,2,2,2,2,2,2,2,2,2,2,2,2,2,2,2,2,2,2,2,2,2,2,3,3,3,3,3,3,3,3,3,3,3,3,3,3,3,3,3,3,3,3,3,3,3,3,3,3,3,3,3,3,3,3,3,3,3,3,3,3,3,3,3,3,3,3,3,3,3,3,3,3,3,3,3,3,3,3,3,3,3,3,3,3,3,3,3,3,3,3,3,3,3,3,3,3,3,3,3,3,3,3,3,3,3,3,3,3,3,3,3,3,3,3,3,3,3,3,3,3,3,3,3,3,3,3,3,3,3,3,3,3,3,3,3,3,3,3,3,3,3,3,3,3,3,3,4,4,4,4,4,4,4,4,4,4,4,4,4,4,4,4,4,4,4,4,4,4,4,4,4,4,4,4,4,4,4,4,4,4,4,4,4,4,4,4,4,4,4,4,4,4,4,4,4,4,4,4,4,4,4,4,4,4,4,4,4,4,4,4,4,4,4,4,4,4,4,4,4,4,4,4,4,4,4,4,4,4,4,4,4,4,4,4,4,4,4,4,4,4,4,4,4,4,4,4,4,4,4,4,4,4,4,4,4,4,4,4,4,4,4,4,4,4,4,4,1,1,1,1,1,1,1,1,1,1,1,1,1,1,1,1,1,1,1,1,1,1,1,1,1,1,1,1,1,1,1,1,1,1,1,1,1,1,1,1,1,1,1,1,1,1,1,1,1,1,1,1,1,1,1,1,1,1,1,1,1,1,1,1,1,1,1,1,1,1,1,1,1,1,1,1,1,1,1,1,1,1,1,1,1,1,1,1,1,1,1,1,1,1,1,1,1,1,1,1,1,1,1,1,1,1,1,1,1,1,1,1,1,1,1,1,1,1,1,1,1,1,1,1,2,2,2,2,2,2,2,2,2,2,2,2,2,2,2,2,2,2,2,2,2,2,2,2,2,2,2,2,2,2,2,2,2,2,2,2,2,2,2,2,2,2,2,2,2,2,2,2,2,2,2,2,2,2,2,2,2,2,2,2,2,2,2,2,2,2,2,2,2,2,2,2,2,2,2,2,2,2,2,2,2,2,2,2,2,2,2,2,2,2,2,2,2,2,2,2,2,2,2,2,2,2,2,2,2,2,2,2,2,2,2,2,2,2,2,2,3,3,3,3,3,3,3,3,3,3,3,3,3,3,3,3,3,3,3,3,3,3,3,3,3,3,3,3,3,3,3,3,3,3,3,3,3,3,3,3,3,3,3,3,3,3,3,3,3,3,3,3,3,3,3,3,3,3,3,3,3,3,3,3,3,3,3,3,3,3,3,3,3,3,3,3,3,3,3,3,3,3,3,3,3,3,3,3,3,3,3,3,3,3,3,3,3,3,3,3,3,3,3,3,3,3,3,3,3,3,3,3,3,3,3,3,3,3,3,3,3,3,3,3,4,4,4,4,4,4,4,4,4,4,4,4,4,4,4,4,4,4,4,4,4,4,4,4,4,4,4,4,4,4,4,4,4,4,4,4,4,4,4,4,4,4,4,4,4,4,4,4,4,4,4,4,4,4,4,4,4,4,4,4,4,4,4,4,4,4,4,4,4,4,4,4,4,4,4,4,4,4,4,4,4,4,4,4,4,4,4,4,4,4,4,4,4,4,4,4,4,4,4,4,4,4,4,4,4,4,4,4,4,4,4,4,4,4,4,4,4,4,4,4],\"x0\":\" \",\"xaxis\":\"x\",\"y\":[28,28,28,28,22,22,22,22,19,19,19,19,23,23,23,23,22,22,22,22,25,25,25,25,19,19,19,19,14,14,14,14,22,22,22,22,21,21,21,21,12,12,12,12,25,25,25,25,27,27,27,27,25,25,25,25,14,14,14,14,15,15,15,15,17,17,17,17,20,20,20,20,20,20,20,20,10,10,10,10,26,26,26,26,31,31,31,31,31,31,31,31,28,28,28,28,16,16,16,16,10,10,10,10,15,15,15,15,7,7,7,7,30,30,30,30,31,31,31,31,29,29,29,29,26,26,26,26,25,25,25,25,18,18,18,18,29,29,29,29,16,16,16,16,18,18,18,18,20,20,20,20,26,26,26,26,15,15,15,15,11,11,11,11,13,13,13,13,17,17,17,17,17,17,17,17,20,20,20,20,17,17,17,17,28,28,28,28,34,34,34,34,35,35,35,35,31,31,31,31,26,26,26,26,29,29,29,29,19,19,19,19,19,19,19,19,27,27,27,27,28,28,28,28,25,25,25,25,30,30,30,30,25,25,25,25,18,18,18,18,25,25,25,25,24,24,24,24,19,19,19,19,22,22,22,22,39,39,39,39,39,39,39,39,34,34,34,34,31,31,31,31,19,19,19,19,26,26,26,26,38,38,38,38,32,32,32,32,33,33,33,33,38,38,38,38,29,29,29,29,21,21,21,21,28,28,28,28,28,28,28,28,25,25,25,25,25,25,25,25,30,30,30,30,27,27,27,27,36,36,36,36,35,35,35,35,31,31,31,31,31,31,31,31,32,32,32,32,35,35,35,35,34,34,34,34,32,32,32,32,24,24,24,24,31,31,31,31,45,45,45,45,35,35,35,35,28,28,28,28,23,23,23,23,32,32,32,32,32,32,32,32,37,37,37,37,38,38,38,38,40,40,40,40,33,33,33,33,38,38,38,38,42,42,42,42,40,40,40,40,37,37,37,37,34,34,34,34,32,32,32,32,43,43,43,43,39,39,39,39,39,39,39,39,35,35,35,35,34,34,34,34,36,36,36,36,31,31,31,31,32,32,32,32,36,36,36,36,31,31,31,31,26,26,26,26,22,22,22,22,19,19,19,19,31,31,31,31,33,33,33,33,24,24,24,24,19,19,19,19,19,19,19,19,25,25,25,25,15,15,15,15,24,24,24,24,33,33,33,33,31,31,31,31,21,21,21,21,9,9,9,9,22,22,22,22,23,23,23,23,27,27,27,27,18,18,18,18,26,26,26,26,35,35,35,35,35,35,35,35,32,32,32,32,27,27,27,27,19,19,19,19,26,26,26,26,12,12,12,12,32,32,32,32,36,36,36,36,33,33,33,33,31,31,31,31,24,24,24,24,25,25,25,25,30,30,30,30,23,23,23,23,29,29,29,29,30,30,30,30,33,33,33,33,31,31,31,31,29,29,29,29,20,20,20,20,26,26,26,26,29,29,29,29,25,25,25,25,25,25,25,25,33,33,33,33,37,37,37,37,38,38,38,38,36,36,36,36,34,34,34,34,33,33,33,33,32,32,32,32,34,34,34,34,35,35,35,35,42,42,42,42,30,30,30,30,33,33,33,33,29,29,29,29,31,31,31,31,33,33,33,33,24,24,24,24,22,22,22,22,21,21,21,21,37,37,37,37,40,40,40,40,34,34,34,34,31,31,31,31,19,19,19,19,31,31,31,31,37,37,37,37,33,33,33,33,35,35,35,35,42,42,42,42,39,39,39,39,31,31,31,31,34,34,34,34,30,30,30,30,31,31,31,31,30,30,30,30,39,39,39,39,35,35,35,35,33,33,33,33,31,31,31,31,35,35,35,35,35,35,35,35,35,35,35,35,37,37,37,37,36,36,36,36,34,34,34,34,34,34,34,34,38,38,38,38,40,40,40,40,36,36,36,36,35,35,35,35,44,44,44,44,43,43,43,43,44,44,44,44,30,30,30,30,24,24,24,24,31,31,31,31,34,34,34,34,39,39,39,39,42,42,42,42,42,42,42,42,40,40,40,40,44,44,44,44,74,74,74,74,97,97,97,97,58,58,58,58,49,49,49,49,34,34,34,34,44,44,44,44,44,44,44,44,40,40,40,40,40,40,40,40,40,40,40,40,42,42,42,42,37,37,37,37,38,38,38,38,38,38,38,38,25,25,25,25,20,20,20,20,19,19,19,19,18,18,18,18,26,26,26,26,26,26,26,26,24,24,24,24,24,24,24,24,28,28,28,28,23,23,23,23,19,19,19,19,17,17,17,17,29,29,29,29,23,23,23,23,22,22,22,22,22,22,22,22,18,18,18,18,26,26,26,26,24,24,24,24,22,22,22,22,19,19,19,19,30,30,30,30,31,31,31,31,29,29,29,29,25,25,25,25,15,15,15,15,21,21,21,21,9,9,9,9,30,30,30,30,31,31,31,31,33,33,33,33,32,32,32,32,23,23,23,23,26,26,26,26,27,27,27,27,24,24,24,24,29,29,29,29,28,28,28,28,31,31,31,31,29,29,29,29,26,26,26,26,26,26,26,26,31,31,31,31,28,28,28,28,25,25,25,25,24,24,24,24,32,32,32,32,35,35,35,35,34,34,34,34,33,33,33,33,32,32,32,32,30,30,30,30,31,31,31,31,29,29,29,29,31,31,31,31,36,36,36,36,29,29,29,29,28,28,28,28,25,25,25,25,29,29,29,29,30,30,30,30,23,23,23,23,22,22,22,22,19,19,19,19,35,35,35,35,37,37,37,37,32,32,32,32,26,26,26,26,24,24,24,24,14,14,14,14,32,32,32,32,31,31,31,31,27,27,27,27,39,39,39,39,34,34,34,34,29,29,29,29,35,35,35,35,23,23,23,23,26,26,26,26,30,30,30,30,36,36,36,36,32,32,32,32,31,31,31,31,30,30,30,30,31,31,31,31,35,35,35,35,32,32,32,32,36,36,36,36,33,33,33,33,33,33,33,33,33,33,33,33,36,36,36,36,38,38,38,38,31,31,31,31,33,33,33,33,39,39,39,39,41,41,41,41,38,38,38,38,30,30,30,30,23,23,23,23,27,27,27,27,31,31,31,31,37,37,37,37,44,44,44,44,42,42,42,42,41,41,41,41,42,42,42,42,80,80,80,80,97,97,97,97,67,67,67,67,50,50,50,50,34,34,34,34,44,44,44,44,44,44,44,44,40,40,40,40,42,42,42,42,40,40,40,40,41,41,41,41,39,39,39,39,40,40,40,40,38,38,38,38,31,31,31,31,27,27,27,27,26,26,26,26,29,29,29,29,28,28,28,28,29,29,29,29,24,24,24,24,19,19,19,19,18,18,18,18,25,25,25,25,19,19,19,19,30,30,30,30,34,34,34,34,34,34,34,34,23,23,23,23,16,16,16,16,24,24,24,24,29,29,29,29,29,29,29,29,17,17,17,17,29,29,29,29,37,37,37,37,36,36,36,36,32,32,32,32,25,25,25,25,15,15,15,15,26,26,26,26,12,12,12,12,32,32,32,32,35,35,35,35,32,32,32,32,31,31,31,31,23,23,23,23,22,22,22,22,29,29,29,29,26,26,26,26,25,25,25,25,26,26,26,26,30,30,30,30,34,34,34,34,20,20,20,20,21,21,21,21,24,24,24,24,23,23,23,23,35,35,35,35,39,39,39,39,37,37,37,37,33,33,33,33,28,28,28,28,31,31,31,31,27,27,27,27,30,30,30,30,37,37,37,37,34,34,34,34,27,27,27,27,33,33,33,33,23,23,23,23,25,25,25,25,25,25,25,25,24,24,24,24,20,20,20,20,21,21,21,21,41,41,41,41,40,40,40,40,33,33,33,33,31,31,31,31,18,18,18,18,25,25,25,25,39,39,39,39,37,37,37,37,37,37,37,37,40,40,40,40,35,35,35,35,30,30,30,30,32,32,32,32,28,28,28,28,33,33,33,33,28,28,28,28,40,40,40,40,32,32,32,32,30,30,30,30,29,29,29,29,34,34,34,34,29,29,29,29,37,37,37,37,35,35,35,35,35,35,35,35,33,33,33,33,35,35,35,35,35,35,35,35,31,31,31,31,35,35,35,35,32,32,32,32,37,37,37,37,42,42,42,42,40,40,40,40,28,28,28,28,27,27,27,27,31,31,31,31,33,33,33,33,37,37,37,37,38,38,38,38,41,41,41,41,37,37,37,37,40,40,40,40,61,61,61,61,51,51,51,51,39,39,39,39,41,41,41,41,33,33,33,33,44,44,44,44,40,40,40,40,40,40,40,40,38,38,38,38,40,40,40,40,38,38,38,38,33,33,33,33,35,35,35,35,37,37,37,37,23,23,23,23,18,18,18,18,22,22,22,22,6,6,6,6,21,21,21,21,29,29,29,29,31,31,31,31,15,15,15,15,27,27,27,27,30,30,30,30,22,22,22,22,14,14,14,14,26,26,26,26,10,10,10,10,31,31,31,31,29,29,29,29,25,25,25,25,21,21,21,21,26,26,26,26,21,21,21,21,10,10,10,10,22,22,22,22,32,32,32,32,31,31,31,31,17,17,17,17,24,24,24,24,16,16,16,16,27,27,27,27,29,29,29,29,27,27,27,27,21,21,21,21,29,29,29,29,25,25,25,25,24,24,24,24,28,28,28,28,35,35,35,35,37,37,37,37,31,31,31,31,16,16,16,16,33,33,33,33,31,31,31,31,28,28,28,28,35,35,35,35,38,38,38,38,44,44,44,44,30,30,30,30,34,34,34,34,40,40,40,40,28,28,28,28,31,31,31,31,32,32,32,32,41,41,41,41,44,44,44,44,42,42,42,42,50,50,50,50,36,36,36,36,29,29,29,29,36,36,36,36,28,28,28,28,20,20,20,20,31,31,31,31,29,29,29,29,30,30,30,30,28,28,28,28,26,26,26,26,30,30,30,30,29,29,29,29,30,30,30,30,30,30,30,30,30,30,30,30,29,29,29,29,29,29,29,29,29,29,29,29,27,27,27,27,29,29,29,29,27,27,27,27,30,30,30,30,30,30,30,30,28,28,28,28,31,31,31,31,32,32,32,32,24,24,24,24,14,14,14,14,21,21,21,21,16,16,16,16,30,30,30,30,31,31,31,31,32,32,32,32,33,33,33,33,26,26,26,26,30,30,30,30,27,27,27,27,20,20,20,20,18,18,18,18,18,18,18,18,14,14,14,14,19,19,19,19,28,28,28,28,26,26,26,26,20,20,20,20,25,25,25,25,21,21,21,21,26,26,26,26,15,15,15,15,8,8,8,8,35,35,35,35,33,33,33,33,36,36,36,36,26,26,26,26,22,22,22,22,19,19,19,19,21,21,21,21,24,24,24,24,9,9,9,9,28,28,28,28,20,20,20,20,31,31,31,31,13,13,13,13,24,24,24,24,20,20,20,20,24,24,24,24,31,31,31,31,33,33,33,33,31,31,31,31,31,31,31,31,26,26,26,26,29,29,29,29,31,31,31,31,31,31,31,31,34,34,34,34,36,36,36,36,38,38,38,38,38,38,38,38,26,26,26,26,17,17,17,17,28,28,28,28,37,37,37,37,34,34,34,34,36,36,36,36,32,32,32,32,26,26,26,26,35,35,35,35,34,34,34,34,25,25,25,25,38,38,38,38,33,33,33,33,31,31,31,31,23,23,23,23,26,26,26,26,35,35,35,35,34,34,34,34,39,39,39,39,35,35,35,35,36,36,36,36,35,35,35,35,35,35,35,35,35,35,35,35,34,34,34,34,33,33,33,33,33,33,33,33,38,38,38,38,38,38,38,38,37,37,37,37,34,34,34,34,32,32,32,32,39,39,39,39,36,36,36,36,36,36,36,36,33,33,33,33,34,34,34,34,38,38,38,38,38,38,38,38,33,33,33,33,31,31,31,31,24,24,24,24,27,27,27,27,36,36,36,36,39,39,39,39,37,37,37,37,37,37,37,37,33,33,33,33,36,36,36,36,31,31,31,31,26,26,26,26,30,30,30,30,30,30,30,30,30,30,30,30,32,32,32,32,37,37,37,37,32,32,32,32,29,29,29,29,31,31,31,31,26,26,26,26,31,31,31,31,17,17,17,17,17,17,17,17,41,41,41,41,40,40,40,40,41,41,41,41,30,30,30,30,30,30,30,30,28,28,28,28,31,31,31,31,29,29,29,29,20,20,20,20,35,35,35,35,33,33,33,33,37,37,37,37,31,31,31,31,31,31,31,31,29,29,29,29,41,41,41,41,35,35,35,35,39,39,39,39,39,39,39,39,38,38,38,38,32,32,32,32,36,36,36,36,39,39,39,39,39,39,39,39,41,41,41,41,42,42,42,42,44,44,44,44,43,43,43,43,34,34,34,34,21,21,21,21,32,32,32,32,43,43,43,43,40,40,40,40,44,44,44,44,37,37,37,37,34,34,34,34,40,40,40,40,39,39,39,39,33,33,33,33,43,43,43,43,39,39,39,39,36,36,36,36,29,29,29,29,34,34,34,34,35,35,35,35,35,35,35,35,33,33,33,33,30,30,30,30,37,37,37,37,35,35,35,35,37,37,37,37,37,37,37,37,32,32,32,32,38,38,38,38,32,32,32,32,37,37,37,37,31,31,31,31,27,27,27,27,35,35,35,35,34,34,34,34,37,37,37,37,16,16,16,16,26,26,26,26,30,30,30,30,32,32,32,32,31,31,31,31,32,32,32,32,40,40,40,40,34,34,34,34,39,39,39,39,35,35,35,35,35,35,35,35,33,33,33,33,39,39,39,39,42,42,42,42,39,39,39,39,33,33,33,33,38,38,38,38,37,37,37,37,40,40,40,40,42,42,42,42,41,41,41,41,40,40,40,40,39,39,39,39,37,37,37,37,39,39,39,39,40,40,40,40,45,45,45,45,42,42,42,42,38,38,38,38,35,35,35,35,17,17,17,17,33,33,33,33,38,38,38,38,50,50,50,50,49,49,49,49,44,44,44,44,42,42,42,42,44,44,44,44,46,46,46,46,46,46,46,46,77,77,77,77,84,84,84,84,93,93,93,93,84,84,84,84,45,45,45,45,44,44,44,44,45,45,45,45,31,31,31,31,44,44,44,44,42,42,42,42,45,45,45,45,46,46,46,46,43,43,43,43,42,42,42,42,44,44,44,44,48,48,48,48,39,39,39,39,46,46,46,46,49,49,49,49,54,54,54,54,71,71,71,71,84,84,84,84,71,71,71,71,49,49,49,49,51,51,51,51,41,41,41,41,44,44,44,44,97,97,97,97,49,49,49,49,54,54,54,54,45,45,45,45,46,46,46,46,44,44,44,44,44,44,44,44,24,24,24,24,19,19,19,19,25,25,25,25,23,23,23,23,25,25,25,25,31,31,31,31,25,25,25,25,16,16,16,16,26,26,26,26,25,25,25,25,18,18,18,18,23,23,23,23,31,31,31,31,29,29,29,29,21,21,21,21,31,31,31,31,25,25,25,25,31,31,31,31,30,30,30,30,19,19,19,19,21,21,21,21,31,31,31,31,32,32,32,32,25,25,25,25,26,26,26,26,22,22,22,22,18,18,18,18,13,13,13,13,30,30,30,30,24,24,24,24,31,31,31,31,32,32,32,32,34,34,34,34,39,39,39,39,39,39,39,39,29,29,29,29,31,31,31,31,31,31,31,31,29,29,29,29,32,32,32,32,38,38,38,38,39,39,39,39,33,33,33,33,30,30,30,30,35,35,35,35,17,17,17,17,33,33,33,33,30,30,30,30,25,25,25,25,34,34,34,34,38,38,38,38,32,32,32,32,36,36,36,36,34,34,34,34,31,31,31,31,34,34,34,34,32,32,32,32,35,35,35,35,37,37,37,37,32,32,32,32,33,33,33,33,34,34,34,34,35,35,35,35,37,37,37,37,35,35,35,35,31,31,31,31,29,29,29,29,29,29,29,29,34,34,34,34,43,43,43,43,34,34,34,34,34,34,34,34,31,31,31,31,44,44,44,44,40,40,40,40,43,43,43,43,44,44,44,44,44,44,44,44,43,43,43,43,38,38,38,38,39,39,39,39,39,39,39,39,43,43,43,43,46,46,46,46,39,39,39,39,39,39,39,39,50,50,50,50,51,51,51,51,36,36,36,36,31,31,31,31,44,44,44,44,38,38,38,38,44,44,44,44,40,40,40,40,33,33,33,33,40,40,40,40,38,38,38,38,41,41,41,41,43,43,43,43,41,41,41,41,44,44,44,44,77,77,77,77,51,51,51,51,54,54,54,54,77,77,77,77,42,42,42,42,45,45,45,45,40,40,40,40,45,45,45,45,47,47,47,47,44,44,44,44,84,84,84,84,40,40,40,40,38,38,38,38,42,42,42,42,42,42,42,42,43,43,43,43,41,41,41,41,44,44,44,44,38,38,38,38,40,40,40,40,40,40,40,40,41,41,41,41,37,37,37,37,35,35,35,35,35,35,35,35,34,34,34,34,39,39,39,39,37,37,37,37,40,40,40,40,40,40,40,40,32,32,32,32,28,28,28,28,28,28,28,28,25,25,25,25,28,28,28,28,31,31,31,31,37,37,37,37,38,38,38,38,36,36,36,36,38,38,38,38,40,40,40,40,38,38,38,38,41,41,41,41,39,39,39,39,39,39,39,39,41,41,41,41,36,36,36,36,38,38,38,38,41,41,41,41,44,44,44,44,44,44,44,44,44,44,44,44,44,44,44,44,43,43,43,43,45,45,45,45,45,45,45,45,50,50,50,50,49,49,49,49,44,44,44,44,42,42,42,42,43,43,43,43,67,67,67,67,42,42,42,42,43,43,43,43,41,41,41,41,44,44,44,44,42,42,42,42,47,47,47,47,50,50,50,50,51,51,51,51,64,64,64,64,46,46,46,46,43,43,43,43,43,43,43,43,44,44,44,44,44,44,44,44,47,47,47,47,38,38,38,38,36,36,36,36,39,39,39,39,44,44,44,44,44,44,44,44,35,35,35,35,36,36,36,36,32,32,32,32,42,42,40,40,40,40,40,40,40,40,43,43,47,47,47,47,61,61,61,61,74,74,74,74,38,38,38,38,37,37,37,37,36,36,36,36,40,40,40,40,38,38,38,38,41,41,41,41,41,41,41,41,41,41,41,41,46,46,46,46,42,42,42,42,41,41,41,41,39,39,39,39,40,40,40,40,40,40,40,40,33,33,33,33,37,37,37,37,40,40,40,40,35,35,35,35,35,35,35,35,37,37,37,37,35,35,35,35,31,31,31,31,32,32,32,32,28,28,28,28,22,22,22,22,31,31,31,31,30,30,30,30,29,29,29,29,31,31,31,31,30,30,30,30,19,19,19,19,28,28,28,28,27,27,27,27,25,25,25,25,27,27,27,27,32,32,32,32,35,35,35,35,32,32,32,32,32,32,32,32,31,31,31,31,24,24,24,24,29,29,29,29,26,26,26,26,36,36,36,36,40,40,40,40,36,36,36,36,32,32,32,32,33,33,33,33,34,34,34,34,31,31,31,31,32,32,32,32,33,33,33,33,32,32,32,32,33,33,33,33,31,31,31,31,31,31,31,31,31,31,31,31,32,32,32,32,35,35,35,35,33,33,33,33,48,48,48,48,38,38,38,38,39,39,39,39,37,37,37,37,36,36,36,36,36,36,36,36,39,39,39,39,36,36,36,36,39,39,39,39,41,41,41,41,39,39,39,39,33,33,33,33,38,38,38,38,37,37,37,37,39,39,39,39,42,42,42,42,44,44,44,44,40,40,40,40,39,39,39,39,40,40,40,40,40,40,40,40,37,37,37,37,35,35,35,35,33,33,33,33,29,29,29,29,40,40,40,40,37,37,37,37,36,36,36,36,36,36,36,36,32,32,32,32,25,25,25,25,31,31,31,31,31,31,31,31,31,31,31,31,33,33,33,33,37,37,37,37,38,38,38,38,36,36,36,36,36,36,36,36,38,38,38,38,32,32,32,32,34,34,34,34,30,30,30,30,40,40,40,40,45,45,45,45,37,37,37,37,39,39,39,39,40,40,40,40,38,38,38,38,41,41,41,41,42,42,42,42,44,44,44,44,42,42,42,42,40,40,40,40,37,37,37,37,39,39,39,39,38,38,38,38,38,38,38,38,39,39,39,39,51,51,51,51,41,41,41,41,42,42,42,42,41,41,41,41,39,39,39,39,43,43,43,43,43,43,43,43,50,50,50,50,46,46,46,46,42,42,42,42,36,36,36,36,41,41,41,41,41,41,41,41,20,20,20,20,10,10,10,10,12,12,12,12,25,25,25,25,23,23,23,23,26,26,26,26,27,27,27,27,19,19,19,19,27,27,27,27,16,16,16,16,11,11,11,11,24,24,24,24,31,31,31,31,28,28,28,28,22,22,22,22,21,21,21,21,18,18,18,18,28,28,28,28,24,24,24,24,22,22,22,22,33,33,33,33,27,27,27,27,32,32,32,32,32,32,32,32,21,21,21,21,6,6,6,6,10,10,10,10,6,6,6,6,31,31,31,31,36,36,36,36,32,32,32,32,29,29,29,29,31,31,31,31,22,22,22,22,19,19,19,19,19,19,19,19,21,21,21,21,31,31,31,31,20,20,20,20,17,17,17,17,25,25,25,25,23,23,23,23,24,24,24,24,25,25,25,25,26,26,26,26,25,25,25,25,31,31,31,31,32,32,32,32,35,35,35,35,35,35,35,35,30,30,30,30,34,34,34,34,26,26,26,26,25,25,25,25,29,29,29,29,35,35,35,35,31,31,31,31,36,36,36,36,31,31,31,31,21,21,21,21,31,31,31,31,26,26,26,26,18,18,18,18,16,16,16,16,31,31,31,31,39,39,39,39,32,32,32,32,29,29,29,29,24,24,24,24,30,30,30,30,34,34,34,34,32,32,32,32,30,30,30,30,43,43,43,43,34,34,34,34,30,30,30,30,33,33,33,33,29,29,29,29,29,29,29,29,29,29,29,29,35,35,35,35,35,35,35,35,30,30,30,30,31,31,31,31,36,36,36,36,34,34,34,34,37,37,37,37,37,37,37,37,35,35,35,35,34,34,34,34,36,36,36,36,40,40,40,40,41,41,41,41,39,39,39,39,36,36,36,36,42,42,42,42,48,48,48,48,41,41,41,41,24,24,24,24,23,23,23,23,29,29,29,29,31,31,31,31,39,39,39,39,43,43,43,43,42,42,42,42,38,38,38,38,45,45,45,45,58,58,58,58,67,67,67,67,50,50,50,50,50,50,50,50,34,34,34,34,42,42,42,42,44,44,44,44,42,42,42,42,40,40,40,40,37,37,37,37,40,40,40,40,36,36,36,36,37,37,37,37,40,40,40,40,29,29,29,29,28,28,28,28,25,25,25,25,18,18,18,18,28,28,28,28,30,30,30,30,22,22,22,22,25,25,25,25,19,19,19,19,28,28,28,28,21,21,21,21,19,19,19,19,33,33,33,33,31,31,31,31,23,23,23,23,15,15,15,15,21,21,21,21,29,29,29,29,27,27,27,27,19,19,19,19,19,19,19,19,35,35,35,35,35,35,35,35,31,31,31,31,22,22,22,22,16,16,16,16,24,24,24,24,6,6,6,6,32,32,32,32,33,33,33,33,31,31,31,31,31,31,31,31,20,20,20,20,26,26,26,26,27,27,27,27,29,29,29,29,24,24,24,24,28,28,28,28,30,30,30,30,31,31,31,31,20,20,20,20,29,29,29,29,23,23,23,23,23,23,23,23,24,24,24,24,24,24,24,24,35,35,35,35,38,38,38,38,37,37,37,37,35,35,35,35,27,27,27,27,32,32,32,32,24,24,24,24,30,30,30,30,38,38,38,38,41,41,41,41,26,26,26,26,32,32,32,32,27,27,27,27,28,28,28,28,28,28,28,28,23,23,23,23,21,21,21,21,22,22,22,22,40,40,40,40,40,40,40,40,34,34,34,34,31,31,31,31,19,19,19,19,27,27,27,27,38,38,38,38,34,34,34,34,35,35,35,35,40,40,40,40,35,35,35,35,32,32,32,32,32,32,32,32,30,30,30,30,33,33,33,33,27,27,27,27,41,41,41,41,33,33,33,33,31,31,31,31,30,30,30,30,34,34,34,34,29,29,29,29,35,35,35,35,36,36,36,36,35,35,35,35,34,34,34,34,35,35,35,35,37,37,37,37,35,35,35,35,32,32,32,32,33,33,33,33,43,43,43,43,41,41,41,41,40,40,40,40,31,31,31,31,27,27,27,27,31,31,31,31,34,34,34,34,38,38,38,38,41,41,41,41,41,41,41,41,39,39,39,39,44,44,44,44,71,71,71,71,84,84,84,84,49,49,49,49,42,42,42,42,33,33,33,33,44,44,44,44,42,42,42,42,38,38,38,38,37,37,37,37,37,37,37,37,39,39,39,39,34,34,34,34,35,35,35,35,38,38,38,38],\"y0\":\" \",\"yaxis\":\"y\",\"type\":\"box\"}],                        {\"template\":{\"data\":{\"histogram2dcontour\":[{\"type\":\"histogram2dcontour\",\"colorbar\":{\"outlinewidth\":0,\"ticks\":\"\"},\"colorscale\":[[0.0,\"#0d0887\"],[0.1111111111111111,\"#46039f\"],[0.2222222222222222,\"#7201a8\"],[0.3333333333333333,\"#9c179e\"],[0.4444444444444444,\"#bd3786\"],[0.5555555555555556,\"#d8576b\"],[0.6666666666666666,\"#ed7953\"],[0.7777777777777778,\"#fb9f3a\"],[0.8888888888888888,\"#fdca26\"],[1.0,\"#f0f921\"]]}],\"choropleth\":[{\"type\":\"choropleth\",\"colorbar\":{\"outlinewidth\":0,\"ticks\":\"\"}}],\"histogram2d\":[{\"type\":\"histogram2d\",\"colorbar\":{\"outlinewidth\":0,\"ticks\":\"\"},\"colorscale\":[[0.0,\"#0d0887\"],[0.1111111111111111,\"#46039f\"],[0.2222222222222222,\"#7201a8\"],[0.3333333333333333,\"#9c179e\"],[0.4444444444444444,\"#bd3786\"],[0.5555555555555556,\"#d8576b\"],[0.6666666666666666,\"#ed7953\"],[0.7777777777777778,\"#fb9f3a\"],[0.8888888888888888,\"#fdca26\"],[1.0,\"#f0f921\"]]}],\"heatmap\":[{\"type\":\"heatmap\",\"colorbar\":{\"outlinewidth\":0,\"ticks\":\"\"},\"colorscale\":[[0.0,\"#0d0887\"],[0.1111111111111111,\"#46039f\"],[0.2222222222222222,\"#7201a8\"],[0.3333333333333333,\"#9c179e\"],[0.4444444444444444,\"#bd3786\"],[0.5555555555555556,\"#d8576b\"],[0.6666666666666666,\"#ed7953\"],[0.7777777777777778,\"#fb9f3a\"],[0.8888888888888888,\"#fdca26\"],[1.0,\"#f0f921\"]]}],\"heatmapgl\":[{\"type\":\"heatmapgl\",\"colorbar\":{\"outlinewidth\":0,\"ticks\":\"\"},\"colorscale\":[[0.0,\"#0d0887\"],[0.1111111111111111,\"#46039f\"],[0.2222222222222222,\"#7201a8\"],[0.3333333333333333,\"#9c179e\"],[0.4444444444444444,\"#bd3786\"],[0.5555555555555556,\"#d8576b\"],[0.6666666666666666,\"#ed7953\"],[0.7777777777777778,\"#fb9f3a\"],[0.8888888888888888,\"#fdca26\"],[1.0,\"#f0f921\"]]}],\"contourcarpet\":[{\"type\":\"contourcarpet\",\"colorbar\":{\"outlinewidth\":0,\"ticks\":\"\"}}],\"contour\":[{\"type\":\"contour\",\"colorbar\":{\"outlinewidth\":0,\"ticks\":\"\"},\"colorscale\":[[0.0,\"#0d0887\"],[0.1111111111111111,\"#46039f\"],[0.2222222222222222,\"#7201a8\"],[0.3333333333333333,\"#9c179e\"],[0.4444444444444444,\"#bd3786\"],[0.5555555555555556,\"#d8576b\"],[0.6666666666666666,\"#ed7953\"],[0.7777777777777778,\"#fb9f3a\"],[0.8888888888888888,\"#fdca26\"],[1.0,\"#f0f921\"]]}],\"surface\":[{\"type\":\"surface\",\"colorbar\":{\"outlinewidth\":0,\"ticks\":\"\"},\"colorscale\":[[0.0,\"#0d0887\"],[0.1111111111111111,\"#46039f\"],[0.2222222222222222,\"#7201a8\"],[0.3333333333333333,\"#9c179e\"],[0.4444444444444444,\"#bd3786\"],[0.5555555555555556,\"#d8576b\"],[0.6666666666666666,\"#ed7953\"],[0.7777777777777778,\"#fb9f3a\"],[0.8888888888888888,\"#fdca26\"],[1.0,\"#f0f921\"]]}],\"mesh3d\":[{\"type\":\"mesh3d\",\"colorbar\":{\"outlinewidth\":0,\"ticks\":\"\"}}],\"scatter\":[{\"fillpattern\":{\"fillmode\":\"overlay\",\"size\":10,\"solidity\":0.2},\"type\":\"scatter\"}],\"parcoords\":[{\"type\":\"parcoords\",\"line\":{\"colorbar\":{\"outlinewidth\":0,\"ticks\":\"\"}}}],\"scatterpolargl\":[{\"type\":\"scatterpolargl\",\"marker\":{\"colorbar\":{\"outlinewidth\":0,\"ticks\":\"\"}}}],\"bar\":[{\"error_x\":{\"color\":\"#2a3f5f\"},\"error_y\":{\"color\":\"#2a3f5f\"},\"marker\":{\"line\":{\"color\":\"#E5ECF6\",\"width\":0.5},\"pattern\":{\"fillmode\":\"overlay\",\"size\":10,\"solidity\":0.2}},\"type\":\"bar\"}],\"scattergeo\":[{\"type\":\"scattergeo\",\"marker\":{\"colorbar\":{\"outlinewidth\":0,\"ticks\":\"\"}}}],\"scatterpolar\":[{\"type\":\"scatterpolar\",\"marker\":{\"colorbar\":{\"outlinewidth\":0,\"ticks\":\"\"}}}],\"histogram\":[{\"marker\":{\"pattern\":{\"fillmode\":\"overlay\",\"size\":10,\"solidity\":0.2}},\"type\":\"histogram\"}],\"scattergl\":[{\"type\":\"scattergl\",\"marker\":{\"colorbar\":{\"outlinewidth\":0,\"ticks\":\"\"}}}],\"scatter3d\":[{\"type\":\"scatter3d\",\"line\":{\"colorbar\":{\"outlinewidth\":0,\"ticks\":\"\"}},\"marker\":{\"colorbar\":{\"outlinewidth\":0,\"ticks\":\"\"}}}],\"scattermapbox\":[{\"type\":\"scattermapbox\",\"marker\":{\"colorbar\":{\"outlinewidth\":0,\"ticks\":\"\"}}}],\"scatterternary\":[{\"type\":\"scatterternary\",\"marker\":{\"colorbar\":{\"outlinewidth\":0,\"ticks\":\"\"}}}],\"scattercarpet\":[{\"type\":\"scattercarpet\",\"marker\":{\"colorbar\":{\"outlinewidth\":0,\"ticks\":\"\"}}}],\"carpet\":[{\"aaxis\":{\"endlinecolor\":\"#2a3f5f\",\"gridcolor\":\"white\",\"linecolor\":\"white\",\"minorgridcolor\":\"white\",\"startlinecolor\":\"#2a3f5f\"},\"baxis\":{\"endlinecolor\":\"#2a3f5f\",\"gridcolor\":\"white\",\"linecolor\":\"white\",\"minorgridcolor\":\"white\",\"startlinecolor\":\"#2a3f5f\"},\"type\":\"carpet\"}],\"table\":[{\"cells\":{\"fill\":{\"color\":\"#EBF0F8\"},\"line\":{\"color\":\"white\"}},\"header\":{\"fill\":{\"color\":\"#C8D4E3\"},\"line\":{\"color\":\"white\"}},\"type\":\"table\"}],\"barpolar\":[{\"marker\":{\"line\":{\"color\":\"#E5ECF6\",\"width\":0.5},\"pattern\":{\"fillmode\":\"overlay\",\"size\":10,\"solidity\":0.2}},\"type\":\"barpolar\"}],\"pie\":[{\"automargin\":true,\"type\":\"pie\"}]},\"layout\":{\"autotypenumbers\":\"strict\",\"colorway\":[\"#636efa\",\"#EF553B\",\"#00cc96\",\"#ab63fa\",\"#FFA15A\",\"#19d3f3\",\"#FF6692\",\"#B6E880\",\"#FF97FF\",\"#FECB52\"],\"font\":{\"color\":\"#2a3f5f\"},\"hovermode\":\"closest\",\"hoverlabel\":{\"align\":\"left\"},\"paper_bgcolor\":\"white\",\"plot_bgcolor\":\"#E5ECF6\",\"polar\":{\"bgcolor\":\"#E5ECF6\",\"angularaxis\":{\"gridcolor\":\"white\",\"linecolor\":\"white\",\"ticks\":\"\"},\"radialaxis\":{\"gridcolor\":\"white\",\"linecolor\":\"white\",\"ticks\":\"\"}},\"ternary\":{\"bgcolor\":\"#E5ECF6\",\"aaxis\":{\"gridcolor\":\"white\",\"linecolor\":\"white\",\"ticks\":\"\"},\"baxis\":{\"gridcolor\":\"white\",\"linecolor\":\"white\",\"ticks\":\"\"},\"caxis\":{\"gridcolor\":\"white\",\"linecolor\":\"white\",\"ticks\":\"\"}},\"coloraxis\":{\"colorbar\":{\"outlinewidth\":0,\"ticks\":\"\"}},\"colorscale\":{\"sequential\":[[0.0,\"#0d0887\"],[0.1111111111111111,\"#46039f\"],[0.2222222222222222,\"#7201a8\"],[0.3333333333333333,\"#9c179e\"],[0.4444444444444444,\"#bd3786\"],[0.5555555555555556,\"#d8576b\"],[0.6666666666666666,\"#ed7953\"],[0.7777777777777778,\"#fb9f3a\"],[0.8888888888888888,\"#fdca26\"],[1.0,\"#f0f921\"]],\"sequentialminus\":[[0.0,\"#0d0887\"],[0.1111111111111111,\"#46039f\"],[0.2222222222222222,\"#7201a8\"],[0.3333333333333333,\"#9c179e\"],[0.4444444444444444,\"#bd3786\"],[0.5555555555555556,\"#d8576b\"],[0.6666666666666666,\"#ed7953\"],[0.7777777777777778,\"#fb9f3a\"],[0.8888888888888888,\"#fdca26\"],[1.0,\"#f0f921\"]],\"diverging\":[[0,\"#8e0152\"],[0.1,\"#c51b7d\"],[0.2,\"#de77ae\"],[0.3,\"#f1b6da\"],[0.4,\"#fde0ef\"],[0.5,\"#f7f7f7\"],[0.6,\"#e6f5d0\"],[0.7,\"#b8e186\"],[0.8,\"#7fbc41\"],[0.9,\"#4d9221\"],[1,\"#276419\"]]},\"xaxis\":{\"gridcolor\":\"white\",\"linecolor\":\"white\",\"ticks\":\"\",\"title\":{\"standoff\":15},\"zerolinecolor\":\"white\",\"automargin\":true,\"zerolinewidth\":2},\"yaxis\":{\"gridcolor\":\"white\",\"linecolor\":\"white\",\"ticks\":\"\",\"title\":{\"standoff\":15},\"zerolinecolor\":\"white\",\"automargin\":true,\"zerolinewidth\":2},\"scene\":{\"xaxis\":{\"backgroundcolor\":\"#E5ECF6\",\"gridcolor\":\"white\",\"linecolor\":\"white\",\"showbackground\":true,\"ticks\":\"\",\"zerolinecolor\":\"white\",\"gridwidth\":2},\"yaxis\":{\"backgroundcolor\":\"#E5ECF6\",\"gridcolor\":\"white\",\"linecolor\":\"white\",\"showbackground\":true,\"ticks\":\"\",\"zerolinecolor\":\"white\",\"gridwidth\":2},\"zaxis\":{\"backgroundcolor\":\"#E5ECF6\",\"gridcolor\":\"white\",\"linecolor\":\"white\",\"showbackground\":true,\"ticks\":\"\",\"zerolinecolor\":\"white\",\"gridwidth\":2}},\"shapedefaults\":{\"line\":{\"color\":\"#2a3f5f\"}},\"annotationdefaults\":{\"arrowcolor\":\"#2a3f5f\",\"arrowhead\":0,\"arrowwidth\":1},\"geo\":{\"bgcolor\":\"white\",\"landcolor\":\"#E5ECF6\",\"subunitcolor\":\"white\",\"showland\":true,\"showlakes\":true,\"lakecolor\":\"white\"},\"title\":{\"x\":0.05},\"mapbox\":{\"style\":\"light\"}}},\"xaxis\":{\"anchor\":\"y\",\"domain\":[0.0,1.0],\"title\":{\"text\":\"Month\"}},\"yaxis\":{\"anchor\":\"x\",\"domain\":[0.0,1.0],\"title\":{\"text\":\"O3 AQI\"}},\"legend\":{\"tracegroupgap\":0},\"title\":{\"text\":\"Concentrations of Ozone by month in California in the year 2016\"},\"boxmode\":\"group\"},                        {\"responsive\": true}                    ).then(function(){\n",
       "                            \n",
       "var gd = document.getElementById('3453f462-b806-4a46-bf30-f194b6e5d77d');\n",
       "var x = new MutationObserver(function (mutations, observer) {{\n",
       "        var display = window.getComputedStyle(gd).display;\n",
       "        if (!display || display === 'none') {{\n",
       "            console.log([gd, 'removed!']);\n",
       "            Plotly.purge(gd);\n",
       "            observer.disconnect();\n",
       "        }}\n",
       "}});\n",
       "\n",
       "// Listen for the removal of the full notebook cells\n",
       "var notebookContainer = gd.closest('#notebook-container');\n",
       "if (notebookContainer) {{\n",
       "    x.observe(notebookContainer, {childList: true});\n",
       "}}\n",
       "\n",
       "// Listen for the clearing of the current output cell\n",
       "var outputEl = gd.closest('.output');\n",
       "if (outputEl) {{\n",
       "    x.observe(outputEl, {childList: true});\n",
       "}}\n",
       "\n",
       "                        })                };                            </script>        </div>\n",
       "</body>\n",
       "</html>"
      ]
     },
     "metadata": {},
     "output_type": "display_data"
    }
   ],
   "source": [
    "us_ozone_cali16.plot( x='Month', \n",
    "                     y='O3 AQI', \n",
    "                     kind='box', \n",
    "                     title='Concentrations of Ozone by month in California in the year 2016')"
   ]
  },
  {
   "cell_type": "markdown",
   "id": "cb204c94",
   "metadata": {
    "id": "cb204c94"
   },
   "source": [
    "In California, the air quality index for ozone(O3) seems to be on the increase from January through to April. \n",
    "\n",
    "**Note:** The trend for the rest of the year is not known and this could be due to the time this dataset was created."
   ]
  },
  {
   "cell_type": "markdown",
   "id": "71d38b63",
   "metadata": {
    "id": "71d38b63"
   },
   "source": [
    "### Q6: What is the monthly trend of ozone(O3) in the year 2016 in Pennsylvania?"
   ]
  },
  {
   "cell_type": "code",
   "execution_count": 46,
   "id": "4de48cbc",
   "metadata": {
    "executionInfo": {
     "elapsed": 301,
     "status": "ok",
     "timestamp": 1664986360550,
     "user": {
      "displayName": "Chiamaka Anuebunwa",
      "userId": "02342427973017665432"
     },
     "user_tz": -60
    },
    "id": "4de48cbc"
   },
   "outputs": [],
   "source": [
    "us_ozone_penn = us_pollution1[['State','O3 AQI','Month','Year']]"
   ]
  },
  {
   "cell_type": "code",
   "execution_count": 47,
   "id": "3c39cd2f",
   "metadata": {
    "executionInfo": {
     "elapsed": 319,
     "status": "ok",
     "timestamp": 1664986367646,
     "user": {
      "displayName": "Chiamaka Anuebunwa",
      "userId": "02342427973017665432"
     },
     "user_tz": -60
    },
    "id": "3c39cd2f",
    "scrolled": false
   },
   "outputs": [],
   "source": [
    "us_ozone_penn16 = us_ozone_penn.query('Year == 2016 and State ==\"Pennsylvania\"')"
   ]
  },
  {
   "cell_type": "code",
   "execution_count": 48,
   "id": "ad643d10",
   "metadata": {
    "colab": {
     "base_uri": "https://localhost:8080/",
     "height": 542
    },
    "executionInfo": {
     "elapsed": 389,
     "status": "ok",
     "timestamp": 1664986372267,
     "user": {
      "displayName": "Chiamaka Anuebunwa",
      "userId": "02342427973017665432"
     },
     "user_tz": -60
    },
    "id": "ad643d10",
    "outputId": "a87a3a90-82d0-423b-e00e-1b8298b631e6"
   },
   "outputs": [
    {
     "data": {
      "text/html": [
       "<html>\n",
       "<head><meta charset=\"utf-8\" /></head>\n",
       "<body>\n",
       "    <div>            <script src=\"https://cdnjs.cloudflare.com/ajax/libs/mathjax/2.7.5/MathJax.js?config=TeX-AMS-MML_SVG\"></script><script type=\"text/javascript\">if (window.MathJax && window.MathJax.Hub && window.MathJax.Hub.Config) {window.MathJax.Hub.Config({SVG: {font: \"STIX-Web\"}});}</script>                <script type=\"text/javascript\">window.PlotlyConfig = {MathJaxConfig: 'local'};</script>\n",
       "        <script src=\"https://cdn.plot.ly/plotly-2.14.0.min.js\"></script>                <div id=\"839a0d8c-fdf0-4fa9-b94b-99f716ae2d36\" class=\"plotly-graph-div\" style=\"height:525px; width:100%;\"></div>            <script type=\"text/javascript\">                                    window.PLOTLYENV=window.PLOTLYENV || {};                                    if (document.getElementById(\"839a0d8c-fdf0-4fa9-b94b-99f716ae2d36\")) {                    Plotly.newPlot(                        \"839a0d8c-fdf0-4fa9-b94b-99f716ae2d36\",                        [{\"alignmentgroup\":\"True\",\"hovertemplate\":\"Month=%{x}<br>O3 AQI=%{y}<extra></extra>\",\"legendgroup\":\"\",\"marker\":{\"color\":\"#636efa\"},\"name\":\"\",\"notched\":false,\"offsetgroup\":\"\",\"orientation\":\"v\",\"showlegend\":false,\"x\":[1,1,1,1,1,1,1,1,1,1,1,1,1,1,1,1,1,1,1,1,1,1,1,1,1,1,1,1,1,1,1,1,1,1,1,1,1,1,1,1,1,1,1,1,1,1,1,1,1,1,1,1,1,1,1,1,1,1,1,1,1,1,1,1,1,1,1,1,1,1,1,1,1,1,1,1,1,1,1,1,1,1,1,1,1,1,1,1,1,1,1,1,1,1,1,1,1,1,1,1,1,1,1,1,1,1,1,1,1,1,1,1,1,1,1,1,1,1,1,1,1,1,1,1,2,2,2,2,2,2,2,2,2,2,2,2,2,2,2,2,2,2,2,2,2,2,2,2,2,2,2,2,2,2,2,2,2,2,2,2,2,2,2,2,2,2,2,2,2,2,2,2,2,2,2,2,2,2,2,2,2,2,2,2,2,2,2,2,2,2,2,2,2,2,2,2,2,2,2,2,2,2,2,2,2,2,2,2,2,2,2,2,2,2,2,2,2,2,2,2,2,2,2,2,2,2,2,2,2,2,2,2,2,2,2,2,2,2,2,2,3,3,3,3,3,3,3,3,3,3,3,3,3,3,3,3,3,3,3,3,3,3,3,3,3,3,3,3,3,3,3,3,3,3,3,3,3,3,3,3,3,3,3,3,3,3,3,3,3,3,3,3,3,3,3,3,3,3,3,3,3,3,3,3,3,3,3,3,3,3,3,3,3,3,3,3,3,3,3,3,3,3,3,3,3,3,3,3,3,3,3,3,3,3,3,3,3,3,3,3,3,3,3,3,3,3,3,3,3,3,3,3,3,3,3,3,3,3,3,3,1,1,1,1,1,1,1,1,1,1,1,1,1,1,1,1,1,1,1,1,1,1,1,1,1,1,1,1,1,1,1,1,1,1,1,1,1,1,1,1,1,1,1,1,1,1,1,1,1,1,1,1,1,1,1,1,1,1,1,1,2,2,2,2,2,2,2,2,2,2,2,2,2,2,2,2,2,2,2,2,2,2,2,2,2,2,2,2,2,2,2,2,2,2,2,2,2,2,2,2,2,2,2,2,2,2,2,2,2,2,2,2,2,2,2,2,2,2,2,2,2,2,2,2,2,2,2,2,2,2,2,2,2,2,2,2,2,2,2,2,2,2,2,2,2,2,2,2,2,2,2,2,2,2,2,2,2,2,2,2,2,2,2,2,2,2,2,2,2,2,2,2,2,2,2,2,3,3,3,3,3,3,3,3,3,3,3,3,3,3,3,3,3,3,3,3,3,3,3,3,3,3,3,3,3,3,3,3,3,3,3,3,3,3,3,3,3,3,3,3,3,3,3,3,3,3,3,3,3,3,3,3,3,3,3,3,3,3,3,3,3,3,3,3,3,3,3,3,3,3,3,3,3,3,3,3,3,3,3,3,3,3,3,3,3,3,3,3,3,3,3,3,3,3,3,3,3,3,3,3,3,3,3,3,3,3,3,3,3,3,3,3,1,1,1,1,1,1,1,1,1,1,1,1,1,1,1,1,1,1,1,1,1,1,1,1,1,1,1,1,1,1,1,1,1,1,1,1,1,1,1,1,1,1,1,1,1,1,1,1,1,1,1,1,1,1,1,1,1,1,1,1,1,1,1,1,1,1,1,1,1,1,1,1,1,1,1,1,1,1,1,1,1,1,1,1,1,1,1,1,1,1,1,1,1,1,1,1,1,1,1,1,1,1,1,1,1,1,1,1,1,1,1,1,1,1,1,1,1,1,1,1,1,1,1,1,2,2,2,2,2,2,2,2,2,2,2,2,2,2,2,2,2,2,2,2,2,2,2,2,2,2,2,2,2,2,2,2,2,2,2,2,2,2,2,2,2,2,2,2,2,2,2,2,2,2,2,2,2,2,2,2,2,2,2,2,2,2,2,2,2,2,2,2,2,2,2,2,2,2,2,2,2,2,2,2,2,2,2,2,2,2,2,2,2,2,2,2,2,2,2,2,2,2,2,2,2,2,2,2,2,2,2,2,2,2,3,3,3,3,3,3,3,3,3,3,3,3,3,3,3,3,3,3,3,3,3,3,3,3,3,3,3,3,3,3,3,3,3,3,3,3,3,3,3,3,3,3,3,3,3,3,3,3,3,3,3,3,3,3,3,3,3,3,3,3,3,3,3,3,3,3,3,3,3,3,3,3,3,3,3,3,3,3,3,3,3,3,3,3,3,3,3,3,3,3,3,3,3,3,3,3,3,3,3,3,3,3,3,3,3,3,3,3,3,3,3,3,1,1,1,1,1,1,1,1,1,1,1,1,1,1,1,1,1,1,1,1,1,1,1,1,1,1,1,1,1,1,1,1,1,1,1,1,1,1,1,1,1,1,1,1,1,1,1,1,1,1,1,1,1,1,1,1,1,1,1,1,1,1,1,1,1,1,1,1,1,1,1,1,1,1,1,1,1,1,1,1,1,1,1,1,1,1,1,1,1,1,1,1,1,1,1,1,1,1,1,1,1,1,1,1,1,1,1,1,1,1,1,1,2,2,2,2,2,2,2,2,2,2,2,2,2,2,2,2,2,2,2,2,2,2,2,2,2,2,2,2,2,2,2,2,2,2,2,2,2,2,2,2,2,2,2,2,2,2,2,2,2,2,2,2,2,2,2,2,2,2,2,2,2,2,2,2,2,2,2,2,2,2,2,2,2,2,2,2,2,2,2,2,2,2,2,2,2,2,2,2,2,2,2,2,2,2,2,2,2,2,2,2,2,2,2,2,2,2,2,2,2,2,2,2,3,3,3,3,3,3,3,3,3,3,3,3,3,3,3,3,3,3,3,3,3,3,3,3,3,3,3,3,3,3,3,3,3,3,3,3,3,3,3,3,3,3,3,3,3,3,3,3,3,3,3,3,3,3,3,3,3,3,3,3,3,3,3,3,3,3,3,3,3,3,3,3,3,3,3,3,3,3,3,3,3,3,3,3,3,3,3,3,3,3,3,3,3,3,3,3,3,3,3,3,3,3,3,3,3,3,3,3],\"x0\":\" \",\"xaxis\":\"x\",\"y\":[33,33,33,33,32,32,32,32,33,33,33,33,34,34,34,34,31,31,31,31,27,27,27,27,23,23,23,23,14,14,14,14,19,19,19,19,32,32,32,32,31,31,31,31,31,31,31,31,34,34,34,34,34,34,34,34,31,31,31,31,29,29,29,29,28,28,28,28,28,28,28,28,28,28,28,28,26,26,26,26,31,31,31,31,34,34,34,34,38,38,38,38,37,37,37,37,42,42,42,42,32,32,32,32,32,32,32,32,29,29,29,29,31,31,31,31,37,37,37,37,48,48,48,48,44,44,44,44,39,39,39,39,30,30,30,30,31,31,31,31,32,32,32,32,31,31,31,31,38,38,38,38,36,36,36,36,26,26,26,26,30,30,30,30,36,36,36,36,36,36,36,36,37,37,37,37,37,37,37,37,31,31,31,31,31,31,31,31,34,34,34,34,41,41,41,41,34,34,34,34,43,43,43,43,39,39,39,39,32,32,32,32,23,23,23,23,33,33,33,33,36,36,36,36,38,38,38,38,37,37,37,37,47,47,47,47,41,41,41,41,43,43,43,43,35,35,35,35,39,39,39,39,31,31,31,31,32,32,32,32,37,37,37,37,40,40,40,40,61,61,61,61,71,71,71,71,48,48,48,48,43,43,43,43,27,27,27,27,33,33,33,33,34,34,34,34,27,27,27,27,44,44,44,44,44,44,44,44,44,44,44,44,34,34,34,34,34,34,34,34,44,44,44,44,61,61,61,61,74,74,74,74,42,42,42,42,41,41,41,41,34,34,34,34,43,43,43,43,46,46,46,46,46,46,46,46,45,45,45,45,32,32,32,32,30,30,30,30,30,30,30,30,32,32,32,32,18,18,18,18,16,16,16,16,19,19,19,19,34,34,34,34,34,34,34,34,31,31,31,31,21,21,21,21,32,32,32,32,28,28,28,28,21,21,21,21,28,28,28,28,23,23,23,23,36,36,36,36,29,29,29,29,27,27,27,27,27,27,27,27,31,31,31,31,34,34,34,34,37,37,37,37,19,19,19,19,27,27,27,27,33,33,33,33,32,32,32,32,33,33,33,33,31,31,31,31,31,31,31,31,24,24,24,24,29,29,29,29,30,30,30,30,34,34,34,34,42,42,42,42,33,33,33,33,32,32,32,32,26,26,26,26,21,21,21,21,32,32,32,32,37,37,37,37,32,32,32,32,50,50,50,50,44,44,44,44,32,32,32,32,34,34,34,34,30,30,30,30,31,31,31,31,28,28,28,28,37,37,37,37,46,46,46,46,51,51,51,51,34,34,34,34,31,31,31,31,23,23,23,23,39,39,39,39,31,31,31,31,20,20,20,20,45,45,45,45,41,41,41,41,42,42,42,42,31,31,31,31,37,37,37,37,36,36,36,36,45,45,45,45,64,64,64,64,58,58,58,58,38,38,38,38,42,42,42,42,41,41,41,41,35,35,35,35,39,39,39,39,48,48,48,48,30,30,30,30,26,26,26,26,32,32,32,32,31,31,31,31,27,27,27,27,22,22,22,22,26,26,26,26,21,21,21,21,28,28,28,28,32,32,32,32,29,29,29,29,33,33,33,33,31,31,31,31,36,36,36,36,36,36,36,36,31,31,31,31,30,30,30,30,27,27,27,27,31,31,31,31,25,25,25,25,28,28,28,28,33,33,33,33,34,34,34,34,31,31,31,31,35,35,35,35,34,34,34,34,21,21,21,21,27,27,27,27,31,31,31,31,31,31,31,31,41,41,41,41,29,29,29,29,32,32,32,32,32,32,32,32,27,27,27,27,34,34,34,34,33,33,33,33,36,36,36,36,36,36,36,36,24,24,24,24,37,37,37,37,38,38,38,38,37,37,37,37,35,35,35,35,32,32,32,32,31,31,31,31,28,28,28,28,36,36,36,36,35,35,35,35,38,38,38,38,39,39,39,39,28,28,28,28,33,33,33,33,29,29,37,37,37,37,36,36,36,36,34,34,34,34,49,49,49,49,40,40,40,40,31,31,31,31,35,35,35,35,37,37,37,37,35,35,35,35,35,35,35,35,44,44,44,44,40,40,40,40,47,47,47,47,44,44,44,44,30,30,30,30,25,25,25,25,28,28,28,28,36,36,36,36,33,33,33,33,23,23,23,23,41,41,41,41,39,39,39,39,32,32,32,32,42,42,42,42,37,37,37,37,42,42,42,42,37,37,37,37,41,41,41,41,44,44,44,44,38,38,38,38,43,43,43,43,50,50,50,50,44,44,44,44,26,26,26,26,27,27,27,27,27,27,27,27,21,21,21,21,17,17,17,17,12,12,12,12,6,6,6,6,22,22,22,22,30,30,30,30,27,27,27,27,26,26,26,26,27,27,27,27,29,29,29,29,17,17,17,17,24,24,24,24,23,23,23,23,23,23,23,23,24,24,24,24,20,20,20,20,24,24,24,24,30,30,30,30,33,33,33,33,31,31,31,31,24,24,24,24,10,10,20,20,20,20,25,25,25,25,30,30,30,30,27,27,31,31,31,31,25,25,25,25,23,23,23,23,25,25,25,25,29,29,29,29,27,27,27,27,29,29,29,29,23,23,23,23,23,23,23,23,31,31,31,31,31,31,31,31,31,31,31,31,32,32,32,32,27,27,27,27,26,26,26,26,25,25,25,25,31,31,31,31,29,29,29,29,38,38,38,38,15,15,15,15,26,26,26,26,20,20,20,20,30,30,30,30,31,31,31,31,33,33,33,33,32,32,32,32,44,44,44,44,39,39,39,39,39,39,39,39,31,31,31,31,32,32,32,32,25,25,25,25,31,31,31,31,31,31,31,31,35,35,35,35,41,41,41,41,50,50,50,50,44,44,44,44,34,34,34,34,36,36,36,36,35,35,35,35,38,38,38,38,26,26,26,26,31,31,31,31,37,37,37,37,40,40,40,40,47,47,47,47,64,64,64,64,36,36,36,36,39,39,39,39,32,32,32,32,38,38,38,38,41,41,41,41,42,42,42,42,42,42,42,42],\"y0\":\" \",\"yaxis\":\"y\",\"type\":\"box\"}],                        {\"template\":{\"data\":{\"histogram2dcontour\":[{\"type\":\"histogram2dcontour\",\"colorbar\":{\"outlinewidth\":0,\"ticks\":\"\"},\"colorscale\":[[0.0,\"#0d0887\"],[0.1111111111111111,\"#46039f\"],[0.2222222222222222,\"#7201a8\"],[0.3333333333333333,\"#9c179e\"],[0.4444444444444444,\"#bd3786\"],[0.5555555555555556,\"#d8576b\"],[0.6666666666666666,\"#ed7953\"],[0.7777777777777778,\"#fb9f3a\"],[0.8888888888888888,\"#fdca26\"],[1.0,\"#f0f921\"]]}],\"choropleth\":[{\"type\":\"choropleth\",\"colorbar\":{\"outlinewidth\":0,\"ticks\":\"\"}}],\"histogram2d\":[{\"type\":\"histogram2d\",\"colorbar\":{\"outlinewidth\":0,\"ticks\":\"\"},\"colorscale\":[[0.0,\"#0d0887\"],[0.1111111111111111,\"#46039f\"],[0.2222222222222222,\"#7201a8\"],[0.3333333333333333,\"#9c179e\"],[0.4444444444444444,\"#bd3786\"],[0.5555555555555556,\"#d8576b\"],[0.6666666666666666,\"#ed7953\"],[0.7777777777777778,\"#fb9f3a\"],[0.8888888888888888,\"#fdca26\"],[1.0,\"#f0f921\"]]}],\"heatmap\":[{\"type\":\"heatmap\",\"colorbar\":{\"outlinewidth\":0,\"ticks\":\"\"},\"colorscale\":[[0.0,\"#0d0887\"],[0.1111111111111111,\"#46039f\"],[0.2222222222222222,\"#7201a8\"],[0.3333333333333333,\"#9c179e\"],[0.4444444444444444,\"#bd3786\"],[0.5555555555555556,\"#d8576b\"],[0.6666666666666666,\"#ed7953\"],[0.7777777777777778,\"#fb9f3a\"],[0.8888888888888888,\"#fdca26\"],[1.0,\"#f0f921\"]]}],\"heatmapgl\":[{\"type\":\"heatmapgl\",\"colorbar\":{\"outlinewidth\":0,\"ticks\":\"\"},\"colorscale\":[[0.0,\"#0d0887\"],[0.1111111111111111,\"#46039f\"],[0.2222222222222222,\"#7201a8\"],[0.3333333333333333,\"#9c179e\"],[0.4444444444444444,\"#bd3786\"],[0.5555555555555556,\"#d8576b\"],[0.6666666666666666,\"#ed7953\"],[0.7777777777777778,\"#fb9f3a\"],[0.8888888888888888,\"#fdca26\"],[1.0,\"#f0f921\"]]}],\"contourcarpet\":[{\"type\":\"contourcarpet\",\"colorbar\":{\"outlinewidth\":0,\"ticks\":\"\"}}],\"contour\":[{\"type\":\"contour\",\"colorbar\":{\"outlinewidth\":0,\"ticks\":\"\"},\"colorscale\":[[0.0,\"#0d0887\"],[0.1111111111111111,\"#46039f\"],[0.2222222222222222,\"#7201a8\"],[0.3333333333333333,\"#9c179e\"],[0.4444444444444444,\"#bd3786\"],[0.5555555555555556,\"#d8576b\"],[0.6666666666666666,\"#ed7953\"],[0.7777777777777778,\"#fb9f3a\"],[0.8888888888888888,\"#fdca26\"],[1.0,\"#f0f921\"]]}],\"surface\":[{\"type\":\"surface\",\"colorbar\":{\"outlinewidth\":0,\"ticks\":\"\"},\"colorscale\":[[0.0,\"#0d0887\"],[0.1111111111111111,\"#46039f\"],[0.2222222222222222,\"#7201a8\"],[0.3333333333333333,\"#9c179e\"],[0.4444444444444444,\"#bd3786\"],[0.5555555555555556,\"#d8576b\"],[0.6666666666666666,\"#ed7953\"],[0.7777777777777778,\"#fb9f3a\"],[0.8888888888888888,\"#fdca26\"],[1.0,\"#f0f921\"]]}],\"mesh3d\":[{\"type\":\"mesh3d\",\"colorbar\":{\"outlinewidth\":0,\"ticks\":\"\"}}],\"scatter\":[{\"fillpattern\":{\"fillmode\":\"overlay\",\"size\":10,\"solidity\":0.2},\"type\":\"scatter\"}],\"parcoords\":[{\"type\":\"parcoords\",\"line\":{\"colorbar\":{\"outlinewidth\":0,\"ticks\":\"\"}}}],\"scatterpolargl\":[{\"type\":\"scatterpolargl\",\"marker\":{\"colorbar\":{\"outlinewidth\":0,\"ticks\":\"\"}}}],\"bar\":[{\"error_x\":{\"color\":\"#2a3f5f\"},\"error_y\":{\"color\":\"#2a3f5f\"},\"marker\":{\"line\":{\"color\":\"#E5ECF6\",\"width\":0.5},\"pattern\":{\"fillmode\":\"overlay\",\"size\":10,\"solidity\":0.2}},\"type\":\"bar\"}],\"scattergeo\":[{\"type\":\"scattergeo\",\"marker\":{\"colorbar\":{\"outlinewidth\":0,\"ticks\":\"\"}}}],\"scatterpolar\":[{\"type\":\"scatterpolar\",\"marker\":{\"colorbar\":{\"outlinewidth\":0,\"ticks\":\"\"}}}],\"histogram\":[{\"marker\":{\"pattern\":{\"fillmode\":\"overlay\",\"size\":10,\"solidity\":0.2}},\"type\":\"histogram\"}],\"scattergl\":[{\"type\":\"scattergl\",\"marker\":{\"colorbar\":{\"outlinewidth\":0,\"ticks\":\"\"}}}],\"scatter3d\":[{\"type\":\"scatter3d\",\"line\":{\"colorbar\":{\"outlinewidth\":0,\"ticks\":\"\"}},\"marker\":{\"colorbar\":{\"outlinewidth\":0,\"ticks\":\"\"}}}],\"scattermapbox\":[{\"type\":\"scattermapbox\",\"marker\":{\"colorbar\":{\"outlinewidth\":0,\"ticks\":\"\"}}}],\"scatterternary\":[{\"type\":\"scatterternary\",\"marker\":{\"colorbar\":{\"outlinewidth\":0,\"ticks\":\"\"}}}],\"scattercarpet\":[{\"type\":\"scattercarpet\",\"marker\":{\"colorbar\":{\"outlinewidth\":0,\"ticks\":\"\"}}}],\"carpet\":[{\"aaxis\":{\"endlinecolor\":\"#2a3f5f\",\"gridcolor\":\"white\",\"linecolor\":\"white\",\"minorgridcolor\":\"white\",\"startlinecolor\":\"#2a3f5f\"},\"baxis\":{\"endlinecolor\":\"#2a3f5f\",\"gridcolor\":\"white\",\"linecolor\":\"white\",\"minorgridcolor\":\"white\",\"startlinecolor\":\"#2a3f5f\"},\"type\":\"carpet\"}],\"table\":[{\"cells\":{\"fill\":{\"color\":\"#EBF0F8\"},\"line\":{\"color\":\"white\"}},\"header\":{\"fill\":{\"color\":\"#C8D4E3\"},\"line\":{\"color\":\"white\"}},\"type\":\"table\"}],\"barpolar\":[{\"marker\":{\"line\":{\"color\":\"#E5ECF6\",\"width\":0.5},\"pattern\":{\"fillmode\":\"overlay\",\"size\":10,\"solidity\":0.2}},\"type\":\"barpolar\"}],\"pie\":[{\"automargin\":true,\"type\":\"pie\"}]},\"layout\":{\"autotypenumbers\":\"strict\",\"colorway\":[\"#636efa\",\"#EF553B\",\"#00cc96\",\"#ab63fa\",\"#FFA15A\",\"#19d3f3\",\"#FF6692\",\"#B6E880\",\"#FF97FF\",\"#FECB52\"],\"font\":{\"color\":\"#2a3f5f\"},\"hovermode\":\"closest\",\"hoverlabel\":{\"align\":\"left\"},\"paper_bgcolor\":\"white\",\"plot_bgcolor\":\"#E5ECF6\",\"polar\":{\"bgcolor\":\"#E5ECF6\",\"angularaxis\":{\"gridcolor\":\"white\",\"linecolor\":\"white\",\"ticks\":\"\"},\"radialaxis\":{\"gridcolor\":\"white\",\"linecolor\":\"white\",\"ticks\":\"\"}},\"ternary\":{\"bgcolor\":\"#E5ECF6\",\"aaxis\":{\"gridcolor\":\"white\",\"linecolor\":\"white\",\"ticks\":\"\"},\"baxis\":{\"gridcolor\":\"white\",\"linecolor\":\"white\",\"ticks\":\"\"},\"caxis\":{\"gridcolor\":\"white\",\"linecolor\":\"white\",\"ticks\":\"\"}},\"coloraxis\":{\"colorbar\":{\"outlinewidth\":0,\"ticks\":\"\"}},\"colorscale\":{\"sequential\":[[0.0,\"#0d0887\"],[0.1111111111111111,\"#46039f\"],[0.2222222222222222,\"#7201a8\"],[0.3333333333333333,\"#9c179e\"],[0.4444444444444444,\"#bd3786\"],[0.5555555555555556,\"#d8576b\"],[0.6666666666666666,\"#ed7953\"],[0.7777777777777778,\"#fb9f3a\"],[0.8888888888888888,\"#fdca26\"],[1.0,\"#f0f921\"]],\"sequentialminus\":[[0.0,\"#0d0887\"],[0.1111111111111111,\"#46039f\"],[0.2222222222222222,\"#7201a8\"],[0.3333333333333333,\"#9c179e\"],[0.4444444444444444,\"#bd3786\"],[0.5555555555555556,\"#d8576b\"],[0.6666666666666666,\"#ed7953\"],[0.7777777777777778,\"#fb9f3a\"],[0.8888888888888888,\"#fdca26\"],[1.0,\"#f0f921\"]],\"diverging\":[[0,\"#8e0152\"],[0.1,\"#c51b7d\"],[0.2,\"#de77ae\"],[0.3,\"#f1b6da\"],[0.4,\"#fde0ef\"],[0.5,\"#f7f7f7\"],[0.6,\"#e6f5d0\"],[0.7,\"#b8e186\"],[0.8,\"#7fbc41\"],[0.9,\"#4d9221\"],[1,\"#276419\"]]},\"xaxis\":{\"gridcolor\":\"white\",\"linecolor\":\"white\",\"ticks\":\"\",\"title\":{\"standoff\":15},\"zerolinecolor\":\"white\",\"automargin\":true,\"zerolinewidth\":2},\"yaxis\":{\"gridcolor\":\"white\",\"linecolor\":\"white\",\"ticks\":\"\",\"title\":{\"standoff\":15},\"zerolinecolor\":\"white\",\"automargin\":true,\"zerolinewidth\":2},\"scene\":{\"xaxis\":{\"backgroundcolor\":\"#E5ECF6\",\"gridcolor\":\"white\",\"linecolor\":\"white\",\"showbackground\":true,\"ticks\":\"\",\"zerolinecolor\":\"white\",\"gridwidth\":2},\"yaxis\":{\"backgroundcolor\":\"#E5ECF6\",\"gridcolor\":\"white\",\"linecolor\":\"white\",\"showbackground\":true,\"ticks\":\"\",\"zerolinecolor\":\"white\",\"gridwidth\":2},\"zaxis\":{\"backgroundcolor\":\"#E5ECF6\",\"gridcolor\":\"white\",\"linecolor\":\"white\",\"showbackground\":true,\"ticks\":\"\",\"zerolinecolor\":\"white\",\"gridwidth\":2}},\"shapedefaults\":{\"line\":{\"color\":\"#2a3f5f\"}},\"annotationdefaults\":{\"arrowcolor\":\"#2a3f5f\",\"arrowhead\":0,\"arrowwidth\":1},\"geo\":{\"bgcolor\":\"white\",\"landcolor\":\"#E5ECF6\",\"subunitcolor\":\"white\",\"showland\":true,\"showlakes\":true,\"lakecolor\":\"white\"},\"title\":{\"x\":0.05},\"mapbox\":{\"style\":\"light\"}}},\"xaxis\":{\"anchor\":\"y\",\"domain\":[0.0,1.0],\"title\":{\"text\":\"Month\"}},\"yaxis\":{\"anchor\":\"x\",\"domain\":[0.0,1.0],\"title\":{\"text\":\"O3 AQI\"}},\"legend\":{\"tracegroupgap\":0},\"title\":{\"text\":\"Concentrations of Ozone by month in Pennsylvania in the year 2016\"},\"boxmode\":\"group\"},                        {\"responsive\": true}                    ).then(function(){\n",
       "                            \n",
       "var gd = document.getElementById('839a0d8c-fdf0-4fa9-b94b-99f716ae2d36');\n",
       "var x = new MutationObserver(function (mutations, observer) {{\n",
       "        var display = window.getComputedStyle(gd).display;\n",
       "        if (!display || display === 'none') {{\n",
       "            console.log([gd, 'removed!']);\n",
       "            Plotly.purge(gd);\n",
       "            observer.disconnect();\n",
       "        }}\n",
       "}});\n",
       "\n",
       "// Listen for the removal of the full notebook cells\n",
       "var notebookContainer = gd.closest('#notebook-container');\n",
       "if (notebookContainer) {{\n",
       "    x.observe(notebookContainer, {childList: true});\n",
       "}}\n",
       "\n",
       "// Listen for the clearing of the current output cell\n",
       "var outputEl = gd.closest('.output');\n",
       "if (outputEl) {{\n",
       "    x.observe(outputEl, {childList: true});\n",
       "}}\n",
       "\n",
       "                        })                };                            </script>        </div>\n",
       "</body>\n",
       "</html>"
      ]
     },
     "metadata": {},
     "output_type": "display_data"
    }
   ],
   "source": [
    "us_ozone_penn16.plot( x='Month', \n",
    "                     y='O3 AQI', \n",
    "                     kind='box', \n",
    "                     title='Concentrations of Ozone by month in Pennsylvania in the year 2016')"
   ]
  },
  {
   "cell_type": "markdown",
   "id": "0392ee32",
   "metadata": {
    "id": "0392ee32"
   },
   "source": [
    "A similar upward trend is noticed in Pennsylvania from the month January to March. This increase in the concentrations of ozone could be because variations in weather play an important role in determing ozone concentrations. Ozone is more readily formed on warm, sunny days when the air is stagnant than on cloudy, cool, rainy or windy day.\n",
    "\n",
    "**Note:** The trend for the rest of the year is not known and this could be due to the time this dataset was created."
   ]
  },
  {
   "cell_type": "markdown",
   "id": "f76039e3",
   "metadata": {
    "id": "f76039e3"
   },
   "source": [
    "**Weekly trends**\n",
    "\n",
    "In both California and Pennsylvania, ozone(O3) is the only pollutant to reach abnormal levels with aqi of over 200. One of the reasons for this could be attributed to the fact that both states have high population and so high emissions of pollutants by cars, power plants, industrial boilers, refineries, chemical plants, and other sources is expected. As we know, ozone is not emitted directly into the air, but is created by chemical reactions in the presence of sunlight between oxides of nitrogen (NOx) and volatile organic compounds (VOC) emitted from these sources.\n",
    "\n",
    "Let's use the day of week to see the weekly trend of O3 AQI level."
   ]
  },
  {
   "cell_type": "markdown",
   "id": "241c819d",
   "metadata": {
    "id": "241c819d"
   },
   "source": [
    "### Q7: On what day(s) of the week  did Ozone(O3) AQI reach very unhealthy levels (having an AQI value 201 through 300) in California?"
   ]
  },
  {
   "cell_type": "code",
   "execution_count": 49,
   "id": "8670317d",
   "metadata": {
    "executionInfo": {
     "elapsed": 1177,
     "status": "ok",
     "timestamp": 1664986386304,
     "user": {
      "displayName": "Chiamaka Anuebunwa",
      "userId": "02342427973017665432"
     },
     "user_tz": -60
    },
    "id": "8670317d",
    "scrolled": false
   },
   "outputs": [],
   "source": [
    "unhealthy_o3 = us_pollution1.query(\"`O3 AQI` >= 201 and State == 'California'\")"
   ]
  },
  {
   "cell_type": "code",
   "execution_count": 50,
   "id": "46877b6e",
   "metadata": {
    "colab": {
     "base_uri": "https://localhost:8080/",
     "height": 542
    },
    "executionInfo": {
     "elapsed": 11,
     "status": "ok",
     "timestamp": 1664986389335,
     "user": {
      "displayName": "Chiamaka Anuebunwa",
      "userId": "02342427973017665432"
     },
     "user_tz": -60
    },
    "id": "46877b6e",
    "outputId": "d42ca098-d717-4863-b1f5-ba6eb88959a2",
    "scrolled": false
   },
   "outputs": [
    {
     "data": {
      "text/html": [
       "<html>\n",
       "<head><meta charset=\"utf-8\" /></head>\n",
       "<body>\n",
       "    <div>            <script src=\"https://cdnjs.cloudflare.com/ajax/libs/mathjax/2.7.5/MathJax.js?config=TeX-AMS-MML_SVG\"></script><script type=\"text/javascript\">if (window.MathJax && window.MathJax.Hub && window.MathJax.Hub.Config) {window.MathJax.Hub.Config({SVG: {font: \"STIX-Web\"}});}</script>                <script type=\"text/javascript\">window.PlotlyConfig = {MathJaxConfig: 'local'};</script>\n",
       "        <script src=\"https://cdn.plot.ly/plotly-2.14.0.min.js\"></script>                <div id=\"4f52a644-e282-46a7-a134-47908bbf1515\" class=\"plotly-graph-div\" style=\"height:525px; width:100%;\"></div>            <script type=\"text/javascript\">                                    window.PLOTLYENV=window.PLOTLYENV || {};                                    if (document.getElementById(\"4f52a644-e282-46a7-a134-47908bbf1515\")) {                    Plotly.newPlot(                        \"4f52a644-e282-46a7-a134-47908bbf1515\",                        [{\"alignmentgroup\":\"True\",\"customdata\":[[28,5,2000],[28,5,2000],[28,5,2000],[28,5,2000],[9,6,2001],[9,6,2001],[9,6,2001],[9,6,2001],[25,8,2001],[25,8,2001],[25,8,2001],[25,8,2001],[26,8,2001],[26,8,2001],[26,8,2001],[26,8,2001],[7,7,2002],[7,7,2002],[7,7,2002],[7,7,2002],[10,8,2002],[10,8,2002],[10,8,2002],[10,8,2002],[29,6,2003],[29,6,2003],[29,6,2003],[29,6,2003],[5,7,2003],[5,7,2003],[5,7,2003],[5,7,2003],[13,7,2003],[13,7,2003],[13,7,2003],[13,7,2003],[14,7,2003],[14,7,2003],[14,7,2003],[14,7,2003],[17,8,2003],[17,8,2003],[17,8,2003],[17,8,2003],[21,9,2003],[21,9,2003],[21,9,2003],[21,9,2003],[27,9,2003],[27,9,2003],[27,9,2003],[27,9,2003],[11,7,2003],[11,7,2003],[11,7,2003],[11,7,2003],[22,5,2005],[22,5,2005],[22,5,2005],[22,5,2005],[14,7,2005],[14,7,2005],[14,7,2005],[14,7,2005],[22,7,2006],[22,7,2006],[22,7,2006],[22,7,2006],[1,7,2006],[1,7,2006],[1,7,2006],[1,7,2006],[27,6,2008],[27,6,2008],[27,6,2008],[27,6,2008],[27,6,2008],[27,6,2008],[27,6,2008],[27,6,2008],[27,6,2008],[27,6,2008],[27,6,2008],[27,6,2008],[9,7,2008],[9,7,2008],[9,7,2008],[9,7,2008],[4,7,2008],[4,7,2008],[4,7,2008],[4,7,2008],[4,7,2008],[4,7,2008],[4,7,2008],[4,7,2008],[18,7,2009],[18,7,2009],[18,7,2009],[18,7,2009],[2,7,2011],[2,7,2011],[2,7,2011],[2,7,2011],[12,7,2012],[12,7,2012],[12,7,2012],[12,7,2012],[29,6,2013],[29,6,2013],[29,6,2013],[29,6,2013],[20,6,2015],[20,6,2015],[20,6,2015],[20,6,2015]],\"hovertemplate\":\"Day of Week=%{marker.color}<br>O3 AQI Levels=%{y}<br>Day=%{customdata[0]}<br>Month of the Year=%{customdata[1]}<br>Year=%{customdata[2]}<extra></extra>\",\"legendgroup\":\"\",\"marker\":{\"color\":[6,6,6,6,5,5,5,5,5,5,5,5,6,6,6,6,6,6,6,6,5,5,5,5,6,6,6,6,5,5,5,5,6,6,6,6,0,0,0,0,6,6,6,6,6,6,6,6,5,5,5,5,4,4,4,4,6,6,6,6,3,3,3,3,5,5,5,5,5,5,5,5,4,4,4,4,4,4,4,4,4,4,4,4,2,2,2,2,4,4,4,4,4,4,4,4,5,5,5,5,5,5,5,5,3,3,3,3,5,5,5,5,5,5,5,5],\"coloraxis\":\"coloraxis\",\"pattern\":{\"shape\":\"\"}},\"name\":\"\",\"offsetgroup\":\"\",\"orientation\":\"v\",\"showlegend\":false,\"textposition\":\"auto\",\"x\":[6,6,6,6,5,5,5,5,5,5,5,5,6,6,6,6,6,6,6,6,5,5,5,5,6,6,6,6,5,5,5,5,6,6,6,6,0,0,0,0,6,6,6,6,6,6,6,6,5,5,5,5,4,4,4,4,6,6,6,6,3,3,3,3,5,5,5,5,5,5,5,5,4,4,4,4,4,4,4,4,4,4,4,4,2,2,2,2,4,4,4,4,4,4,4,4,5,5,5,5,5,5,5,5,3,3,3,3,5,5,5,5,5,5,5,5],\"xaxis\":\"x\",\"y\":[202,202,202,202,202,202,202,202,202,202,202,202,202,202,202,202,202,202,202,202,204,204,204,204,203,203,203,203,202,202,202,202,202,202,202,202,203,203,203,203,210,210,210,210,204,204,204,204,201,201,201,201,205,205,205,205,206,206,206,206,201,201,201,201,206,206,206,206,201,201,201,201,207,207,207,207,207,207,207,207,207,207,207,207,206,206,206,206,201,201,201,201,204,204,204,204,206,206,206,206,204,204,204,204,201,201,201,201,218,218,218,218,206,206,206,206],\"yaxis\":\"y\",\"type\":\"bar\"}],                        {\"template\":{\"data\":{\"histogram2dcontour\":[{\"type\":\"histogram2dcontour\",\"colorbar\":{\"outlinewidth\":0,\"ticks\":\"\"},\"colorscale\":[[0.0,\"#0d0887\"],[0.1111111111111111,\"#46039f\"],[0.2222222222222222,\"#7201a8\"],[0.3333333333333333,\"#9c179e\"],[0.4444444444444444,\"#bd3786\"],[0.5555555555555556,\"#d8576b\"],[0.6666666666666666,\"#ed7953\"],[0.7777777777777778,\"#fb9f3a\"],[0.8888888888888888,\"#fdca26\"],[1.0,\"#f0f921\"]]}],\"choropleth\":[{\"type\":\"choropleth\",\"colorbar\":{\"outlinewidth\":0,\"ticks\":\"\"}}],\"histogram2d\":[{\"type\":\"histogram2d\",\"colorbar\":{\"outlinewidth\":0,\"ticks\":\"\"},\"colorscale\":[[0.0,\"#0d0887\"],[0.1111111111111111,\"#46039f\"],[0.2222222222222222,\"#7201a8\"],[0.3333333333333333,\"#9c179e\"],[0.4444444444444444,\"#bd3786\"],[0.5555555555555556,\"#d8576b\"],[0.6666666666666666,\"#ed7953\"],[0.7777777777777778,\"#fb9f3a\"],[0.8888888888888888,\"#fdca26\"],[1.0,\"#f0f921\"]]}],\"heatmap\":[{\"type\":\"heatmap\",\"colorbar\":{\"outlinewidth\":0,\"ticks\":\"\"},\"colorscale\":[[0.0,\"#0d0887\"],[0.1111111111111111,\"#46039f\"],[0.2222222222222222,\"#7201a8\"],[0.3333333333333333,\"#9c179e\"],[0.4444444444444444,\"#bd3786\"],[0.5555555555555556,\"#d8576b\"],[0.6666666666666666,\"#ed7953\"],[0.7777777777777778,\"#fb9f3a\"],[0.8888888888888888,\"#fdca26\"],[1.0,\"#f0f921\"]]}],\"heatmapgl\":[{\"type\":\"heatmapgl\",\"colorbar\":{\"outlinewidth\":0,\"ticks\":\"\"},\"colorscale\":[[0.0,\"#0d0887\"],[0.1111111111111111,\"#46039f\"],[0.2222222222222222,\"#7201a8\"],[0.3333333333333333,\"#9c179e\"],[0.4444444444444444,\"#bd3786\"],[0.5555555555555556,\"#d8576b\"],[0.6666666666666666,\"#ed7953\"],[0.7777777777777778,\"#fb9f3a\"],[0.8888888888888888,\"#fdca26\"],[1.0,\"#f0f921\"]]}],\"contourcarpet\":[{\"type\":\"contourcarpet\",\"colorbar\":{\"outlinewidth\":0,\"ticks\":\"\"}}],\"contour\":[{\"type\":\"contour\",\"colorbar\":{\"outlinewidth\":0,\"ticks\":\"\"},\"colorscale\":[[0.0,\"#0d0887\"],[0.1111111111111111,\"#46039f\"],[0.2222222222222222,\"#7201a8\"],[0.3333333333333333,\"#9c179e\"],[0.4444444444444444,\"#bd3786\"],[0.5555555555555556,\"#d8576b\"],[0.6666666666666666,\"#ed7953\"],[0.7777777777777778,\"#fb9f3a\"],[0.8888888888888888,\"#fdca26\"],[1.0,\"#f0f921\"]]}],\"surface\":[{\"type\":\"surface\",\"colorbar\":{\"outlinewidth\":0,\"ticks\":\"\"},\"colorscale\":[[0.0,\"#0d0887\"],[0.1111111111111111,\"#46039f\"],[0.2222222222222222,\"#7201a8\"],[0.3333333333333333,\"#9c179e\"],[0.4444444444444444,\"#bd3786\"],[0.5555555555555556,\"#d8576b\"],[0.6666666666666666,\"#ed7953\"],[0.7777777777777778,\"#fb9f3a\"],[0.8888888888888888,\"#fdca26\"],[1.0,\"#f0f921\"]]}],\"mesh3d\":[{\"type\":\"mesh3d\",\"colorbar\":{\"outlinewidth\":0,\"ticks\":\"\"}}],\"scatter\":[{\"fillpattern\":{\"fillmode\":\"overlay\",\"size\":10,\"solidity\":0.2},\"type\":\"scatter\"}],\"parcoords\":[{\"type\":\"parcoords\",\"line\":{\"colorbar\":{\"outlinewidth\":0,\"ticks\":\"\"}}}],\"scatterpolargl\":[{\"type\":\"scatterpolargl\",\"marker\":{\"colorbar\":{\"outlinewidth\":0,\"ticks\":\"\"}}}],\"bar\":[{\"error_x\":{\"color\":\"#2a3f5f\"},\"error_y\":{\"color\":\"#2a3f5f\"},\"marker\":{\"line\":{\"color\":\"#E5ECF6\",\"width\":0.5},\"pattern\":{\"fillmode\":\"overlay\",\"size\":10,\"solidity\":0.2}},\"type\":\"bar\"}],\"scattergeo\":[{\"type\":\"scattergeo\",\"marker\":{\"colorbar\":{\"outlinewidth\":0,\"ticks\":\"\"}}}],\"scatterpolar\":[{\"type\":\"scatterpolar\",\"marker\":{\"colorbar\":{\"outlinewidth\":0,\"ticks\":\"\"}}}],\"histogram\":[{\"marker\":{\"pattern\":{\"fillmode\":\"overlay\",\"size\":10,\"solidity\":0.2}},\"type\":\"histogram\"}],\"scattergl\":[{\"type\":\"scattergl\",\"marker\":{\"colorbar\":{\"outlinewidth\":0,\"ticks\":\"\"}}}],\"scatter3d\":[{\"type\":\"scatter3d\",\"line\":{\"colorbar\":{\"outlinewidth\":0,\"ticks\":\"\"}},\"marker\":{\"colorbar\":{\"outlinewidth\":0,\"ticks\":\"\"}}}],\"scattermapbox\":[{\"type\":\"scattermapbox\",\"marker\":{\"colorbar\":{\"outlinewidth\":0,\"ticks\":\"\"}}}],\"scatterternary\":[{\"type\":\"scatterternary\",\"marker\":{\"colorbar\":{\"outlinewidth\":0,\"ticks\":\"\"}}}],\"scattercarpet\":[{\"type\":\"scattercarpet\",\"marker\":{\"colorbar\":{\"outlinewidth\":0,\"ticks\":\"\"}}}],\"carpet\":[{\"aaxis\":{\"endlinecolor\":\"#2a3f5f\",\"gridcolor\":\"white\",\"linecolor\":\"white\",\"minorgridcolor\":\"white\",\"startlinecolor\":\"#2a3f5f\"},\"baxis\":{\"endlinecolor\":\"#2a3f5f\",\"gridcolor\":\"white\",\"linecolor\":\"white\",\"minorgridcolor\":\"white\",\"startlinecolor\":\"#2a3f5f\"},\"type\":\"carpet\"}],\"table\":[{\"cells\":{\"fill\":{\"color\":\"#EBF0F8\"},\"line\":{\"color\":\"white\"}},\"header\":{\"fill\":{\"color\":\"#C8D4E3\"},\"line\":{\"color\":\"white\"}},\"type\":\"table\"}],\"barpolar\":[{\"marker\":{\"line\":{\"color\":\"#E5ECF6\",\"width\":0.5},\"pattern\":{\"fillmode\":\"overlay\",\"size\":10,\"solidity\":0.2}},\"type\":\"barpolar\"}],\"pie\":[{\"automargin\":true,\"type\":\"pie\"}]},\"layout\":{\"autotypenumbers\":\"strict\",\"colorway\":[\"#636efa\",\"#EF553B\",\"#00cc96\",\"#ab63fa\",\"#FFA15A\",\"#19d3f3\",\"#FF6692\",\"#B6E880\",\"#FF97FF\",\"#FECB52\"],\"font\":{\"color\":\"#2a3f5f\"},\"hovermode\":\"closest\",\"hoverlabel\":{\"align\":\"left\"},\"paper_bgcolor\":\"white\",\"plot_bgcolor\":\"#E5ECF6\",\"polar\":{\"bgcolor\":\"#E5ECF6\",\"angularaxis\":{\"gridcolor\":\"white\",\"linecolor\":\"white\",\"ticks\":\"\"},\"radialaxis\":{\"gridcolor\":\"white\",\"linecolor\":\"white\",\"ticks\":\"\"}},\"ternary\":{\"bgcolor\":\"#E5ECF6\",\"aaxis\":{\"gridcolor\":\"white\",\"linecolor\":\"white\",\"ticks\":\"\"},\"baxis\":{\"gridcolor\":\"white\",\"linecolor\":\"white\",\"ticks\":\"\"},\"caxis\":{\"gridcolor\":\"white\",\"linecolor\":\"white\",\"ticks\":\"\"}},\"coloraxis\":{\"colorbar\":{\"outlinewidth\":0,\"ticks\":\"\"}},\"colorscale\":{\"sequential\":[[0.0,\"#0d0887\"],[0.1111111111111111,\"#46039f\"],[0.2222222222222222,\"#7201a8\"],[0.3333333333333333,\"#9c179e\"],[0.4444444444444444,\"#bd3786\"],[0.5555555555555556,\"#d8576b\"],[0.6666666666666666,\"#ed7953\"],[0.7777777777777778,\"#fb9f3a\"],[0.8888888888888888,\"#fdca26\"],[1.0,\"#f0f921\"]],\"sequentialminus\":[[0.0,\"#0d0887\"],[0.1111111111111111,\"#46039f\"],[0.2222222222222222,\"#7201a8\"],[0.3333333333333333,\"#9c179e\"],[0.4444444444444444,\"#bd3786\"],[0.5555555555555556,\"#d8576b\"],[0.6666666666666666,\"#ed7953\"],[0.7777777777777778,\"#fb9f3a\"],[0.8888888888888888,\"#fdca26\"],[1.0,\"#f0f921\"]],\"diverging\":[[0,\"#8e0152\"],[0.1,\"#c51b7d\"],[0.2,\"#de77ae\"],[0.3,\"#f1b6da\"],[0.4,\"#fde0ef\"],[0.5,\"#f7f7f7\"],[0.6,\"#e6f5d0\"],[0.7,\"#b8e186\"],[0.8,\"#7fbc41\"],[0.9,\"#4d9221\"],[1,\"#276419\"]]},\"xaxis\":{\"gridcolor\":\"white\",\"linecolor\":\"white\",\"ticks\":\"\",\"title\":{\"standoff\":15},\"zerolinecolor\":\"white\",\"automargin\":true,\"zerolinewidth\":2},\"yaxis\":{\"gridcolor\":\"white\",\"linecolor\":\"white\",\"ticks\":\"\",\"title\":{\"standoff\":15},\"zerolinecolor\":\"white\",\"automargin\":true,\"zerolinewidth\":2},\"scene\":{\"xaxis\":{\"backgroundcolor\":\"#E5ECF6\",\"gridcolor\":\"white\",\"linecolor\":\"white\",\"showbackground\":true,\"ticks\":\"\",\"zerolinecolor\":\"white\",\"gridwidth\":2},\"yaxis\":{\"backgroundcolor\":\"#E5ECF6\",\"gridcolor\":\"white\",\"linecolor\":\"white\",\"showbackground\":true,\"ticks\":\"\",\"zerolinecolor\":\"white\",\"gridwidth\":2},\"zaxis\":{\"backgroundcolor\":\"#E5ECF6\",\"gridcolor\":\"white\",\"linecolor\":\"white\",\"showbackground\":true,\"ticks\":\"\",\"zerolinecolor\":\"white\",\"gridwidth\":2}},\"shapedefaults\":{\"line\":{\"color\":\"#2a3f5f\"}},\"annotationdefaults\":{\"arrowcolor\":\"#2a3f5f\",\"arrowhead\":0,\"arrowwidth\":1},\"geo\":{\"bgcolor\":\"white\",\"landcolor\":\"#E5ECF6\",\"subunitcolor\":\"white\",\"showland\":true,\"showlakes\":true,\"lakecolor\":\"white\"},\"title\":{\"x\":0.05},\"mapbox\":{\"style\":\"light\"}}},\"xaxis\":{\"anchor\":\"y\",\"domain\":[0.0,1.0],\"title\":{\"text\":\"Day of Week\"}},\"yaxis\":{\"anchor\":\"x\",\"domain\":[0.0,1.0],\"title\":{\"text\":\"O3 AQI Levels\"}},\"coloraxis\":{\"colorbar\":{\"title\":{\"text\":\"Day of Week\"}},\"colorscale\":[[0.0,\"#0d0887\"],[0.1111111111111111,\"#46039f\"],[0.2222222222222222,\"#7201a8\"],[0.3333333333333333,\"#9c179e\"],[0.4444444444444444,\"#bd3786\"],[0.5555555555555556,\"#d8576b\"],[0.6666666666666666,\"#ed7953\"],[0.7777777777777778,\"#fb9f3a\"],[0.8888888888888888,\"#fdca26\"],[1.0,\"#f0f921\"]]},\"legend\":{\"tracegroupgap\":0},\"title\":{\"text\":\"Day of the Week with very Unhealthy levels of O3 in California\"},\"barmode\":\"relative\"},                        {\"responsive\": true}                    ).then(function(){\n",
       "                            \n",
       "var gd = document.getElementById('4f52a644-e282-46a7-a134-47908bbf1515');\n",
       "var x = new MutationObserver(function (mutations, observer) {{\n",
       "        var display = window.getComputedStyle(gd).display;\n",
       "        if (!display || display === 'none') {{\n",
       "            console.log([gd, 'removed!']);\n",
       "            Plotly.purge(gd);\n",
       "            observer.disconnect();\n",
       "        }}\n",
       "}});\n",
       "\n",
       "// Listen for the removal of the full notebook cells\n",
       "var notebookContainer = gd.closest('#notebook-container');\n",
       "if (notebookContainer) {{\n",
       "    x.observe(notebookContainer, {childList: true});\n",
       "}}\n",
       "\n",
       "// Listen for the clearing of the current output cell\n",
       "var outputEl = gd.closest('.output');\n",
       "if (outputEl) {{\n",
       "    x.observe(outputEl, {childList: true});\n",
       "}}\n",
       "\n",
       "                        })                };                            </script>        </div>\n",
       "</body>\n",
       "</html>"
      ]
     },
     "metadata": {},
     "output_type": "display_data"
    }
   ],
   "source": [
    "px.bar(unhealthy_o3, x=unhealthy_o3['DayofWeek'], \n",
    "           y=unhealthy_o3['O3 AQI'], \n",
    "           hover_data=['Day','Month','Year'],\n",
    "           labels={\"DayofWeek\":\"Day of Week\",\n",
    "                   \"O3 AQI\":\"O3 AQI Levels\",\n",
    "                    \"Month\":\"Month of the Year\"\n",
    "                     \n",
    "               \n",
    "           },\n",
    "           color='DayofWeek',\n",
    "           title='Day of the Week with very Unhealthy levels of O3 in California')"
   ]
  },
  {
   "cell_type": "markdown",
   "id": "fd7aa94e",
   "metadata": {
    "id": "fd7aa94e"
   },
   "source": [
    "In California, unhealthy levels of ozone are mostly recorded on Saturdays. There's no recording of ozone AQI levels exceeding 200 on Tuesdays. \n",
    "\n",
    "**Note:** The weather condition and time of day may be a contributory factor to ozone levels recorded."
   ]
  },
  {
   "cell_type": "markdown",
   "id": "f8ac77c8",
   "metadata": {
    "id": "f8ac77c8"
   },
   "source": [
    "### Q8: On what day(s) of the week did Ozone(O3) AQI reach very unhealthy levels (having an AQI value 201 through 300) in Pennsylvania?"
   ]
  },
  {
   "cell_type": "code",
   "execution_count": 51,
   "id": "47f1ed01",
   "metadata": {
    "executionInfo": {
     "elapsed": 546,
     "status": "ok",
     "timestamp": 1664986397798,
     "user": {
      "displayName": "Chiamaka Anuebunwa",
      "userId": "02342427973017665432"
     },
     "user_tz": -60
    },
    "id": "47f1ed01",
    "scrolled": false
   },
   "outputs": [],
   "source": [
    "unhealthy_o3_pen = us_pollution1.query(\"`O3 AQI` >= 201 and State == 'Pennsylvania'\")"
   ]
  },
  {
   "cell_type": "code",
   "execution_count": 52,
   "id": "da9dc5cd",
   "metadata": {
    "colab": {
     "base_uri": "https://localhost:8080/",
     "height": 542
    },
    "executionInfo": {
     "elapsed": 10,
     "status": "ok",
     "timestamp": 1664986398556,
     "user": {
      "displayName": "Chiamaka Anuebunwa",
      "userId": "02342427973017665432"
     },
     "user_tz": -60
    },
    "id": "da9dc5cd",
    "outputId": "8726abae-e32f-4c10-f808-fe376af4f2db"
   },
   "outputs": [
    {
     "data": {
      "text/html": [
       "<html>\n",
       "<head><meta charset=\"utf-8\" /></head>\n",
       "<body>\n",
       "    <div>            <script src=\"https://cdnjs.cloudflare.com/ajax/libs/mathjax/2.7.5/MathJax.js?config=TeX-AMS-MML_SVG\"></script><script type=\"text/javascript\">if (window.MathJax && window.MathJax.Hub && window.MathJax.Hub.Config) {window.MathJax.Hub.Config({SVG: {font: \"STIX-Web\"}});}</script>                <script type=\"text/javascript\">window.PlotlyConfig = {MathJaxConfig: 'local'};</script>\n",
       "        <script src=\"https://cdn.plot.ly/plotly-2.14.0.min.js\"></script>                <div id=\"bebdee39-0505-4420-a50b-ac802f1e82ed\" class=\"plotly-graph-div\" style=\"height:525px; width:100%;\"></div>            <script type=\"text/javascript\">                                    window.PLOTLYENV=window.PLOTLYENV || {};                                    if (document.getElementById(\"bebdee39-0505-4420-a50b-ac802f1e82ed\")) {                    Plotly.newPlot(                        \"bebdee39-0505-4420-a50b-ac802f1e82ed\",                        [{\"alignmentgroup\":\"True\",\"customdata\":[[10,6,2000],[10,6,2000],[10,6,2000],[10,6,2000],[9,6,2000],[9,6,2000],[9,6,2000],[9,6,2000],[10,6,2000],[10,6,2000],[10,6,2000],[10,6,2000],[10,6,2000],[10,6,2000],[10,6,2000],[10,6,2000],[9,8,2001],[9,8,2001],[9,8,2001],[9,8,2001],[12,8,2002],[12,8,2002],[12,8,2002],[12,8,2002],[12,8,2002],[12,8,2002],[12,8,2002],[12,8,2002],[24,6,2003],[24,6,2003],[24,6,2003],[24,6,2003],[24,6,2003],[24,6,2003],[24,6,2003],[24,6,2003],[26,6,2003],[26,6,2003],[26,6,2003],[26,6,2003],[24,6,2003],[24,6,2003],[24,6,2003],[24,6,2003],[26,6,2007],[26,6,2007],[26,6,2007],[26,6,2007],[9,7,2007],[9,7,2007],[9,7,2007],[9,7,2007]],\"hovertemplate\":\"DayofWeek=%{marker.color}<br>O3 AQI Levels=%{y}<br>Day of Month=%{customdata[0]}<br>Month of the Year=%{customdata[1]}<br>Year=%{customdata[2]}<extra></extra>\",\"legendgroup\":\"\",\"marker\":{\"color\":[5,5,5,5,4,4,4,4,5,5,5,5,5,5,5,5,3,3,3,3,0,0,0,0,0,0,0,0,1,1,1,1,1,1,1,1,3,3,3,3,1,1,1,1,1,1,1,1,0,0,0,0],\"coloraxis\":\"coloraxis\",\"pattern\":{\"shape\":\"\"}},\"name\":\"\",\"offsetgroup\":\"\",\"orientation\":\"v\",\"showlegend\":false,\"textposition\":\"auto\",\"x\":[5,5,5,5,4,4,4,4,5,5,5,5,5,5,5,5,3,3,3,3,0,0,0,0,0,0,0,0,1,1,1,1,1,1,1,1,3,3,3,3,1,1,1,1,1,1,1,1,0,0,0,0],\"xaxis\":\"x\",\"y\":[207,207,207,207,202,202,202,202,207,207,207,207,201,201,201,201,202,202,202,202,204,204,204,204,202,202,202,202,203,203,203,203,203,203,203,203,203,203,203,203,203,203,203,203,202,202,202,202,203,203,203,203],\"yaxis\":\"y\",\"type\":\"bar\"}],                        {\"template\":{\"data\":{\"histogram2dcontour\":[{\"type\":\"histogram2dcontour\",\"colorbar\":{\"outlinewidth\":0,\"ticks\":\"\"},\"colorscale\":[[0.0,\"#0d0887\"],[0.1111111111111111,\"#46039f\"],[0.2222222222222222,\"#7201a8\"],[0.3333333333333333,\"#9c179e\"],[0.4444444444444444,\"#bd3786\"],[0.5555555555555556,\"#d8576b\"],[0.6666666666666666,\"#ed7953\"],[0.7777777777777778,\"#fb9f3a\"],[0.8888888888888888,\"#fdca26\"],[1.0,\"#f0f921\"]]}],\"choropleth\":[{\"type\":\"choropleth\",\"colorbar\":{\"outlinewidth\":0,\"ticks\":\"\"}}],\"histogram2d\":[{\"type\":\"histogram2d\",\"colorbar\":{\"outlinewidth\":0,\"ticks\":\"\"},\"colorscale\":[[0.0,\"#0d0887\"],[0.1111111111111111,\"#46039f\"],[0.2222222222222222,\"#7201a8\"],[0.3333333333333333,\"#9c179e\"],[0.4444444444444444,\"#bd3786\"],[0.5555555555555556,\"#d8576b\"],[0.6666666666666666,\"#ed7953\"],[0.7777777777777778,\"#fb9f3a\"],[0.8888888888888888,\"#fdca26\"],[1.0,\"#f0f921\"]]}],\"heatmap\":[{\"type\":\"heatmap\",\"colorbar\":{\"outlinewidth\":0,\"ticks\":\"\"},\"colorscale\":[[0.0,\"#0d0887\"],[0.1111111111111111,\"#46039f\"],[0.2222222222222222,\"#7201a8\"],[0.3333333333333333,\"#9c179e\"],[0.4444444444444444,\"#bd3786\"],[0.5555555555555556,\"#d8576b\"],[0.6666666666666666,\"#ed7953\"],[0.7777777777777778,\"#fb9f3a\"],[0.8888888888888888,\"#fdca26\"],[1.0,\"#f0f921\"]]}],\"heatmapgl\":[{\"type\":\"heatmapgl\",\"colorbar\":{\"outlinewidth\":0,\"ticks\":\"\"},\"colorscale\":[[0.0,\"#0d0887\"],[0.1111111111111111,\"#46039f\"],[0.2222222222222222,\"#7201a8\"],[0.3333333333333333,\"#9c179e\"],[0.4444444444444444,\"#bd3786\"],[0.5555555555555556,\"#d8576b\"],[0.6666666666666666,\"#ed7953\"],[0.7777777777777778,\"#fb9f3a\"],[0.8888888888888888,\"#fdca26\"],[1.0,\"#f0f921\"]]}],\"contourcarpet\":[{\"type\":\"contourcarpet\",\"colorbar\":{\"outlinewidth\":0,\"ticks\":\"\"}}],\"contour\":[{\"type\":\"contour\",\"colorbar\":{\"outlinewidth\":0,\"ticks\":\"\"},\"colorscale\":[[0.0,\"#0d0887\"],[0.1111111111111111,\"#46039f\"],[0.2222222222222222,\"#7201a8\"],[0.3333333333333333,\"#9c179e\"],[0.4444444444444444,\"#bd3786\"],[0.5555555555555556,\"#d8576b\"],[0.6666666666666666,\"#ed7953\"],[0.7777777777777778,\"#fb9f3a\"],[0.8888888888888888,\"#fdca26\"],[1.0,\"#f0f921\"]]}],\"surface\":[{\"type\":\"surface\",\"colorbar\":{\"outlinewidth\":0,\"ticks\":\"\"},\"colorscale\":[[0.0,\"#0d0887\"],[0.1111111111111111,\"#46039f\"],[0.2222222222222222,\"#7201a8\"],[0.3333333333333333,\"#9c179e\"],[0.4444444444444444,\"#bd3786\"],[0.5555555555555556,\"#d8576b\"],[0.6666666666666666,\"#ed7953\"],[0.7777777777777778,\"#fb9f3a\"],[0.8888888888888888,\"#fdca26\"],[1.0,\"#f0f921\"]]}],\"mesh3d\":[{\"type\":\"mesh3d\",\"colorbar\":{\"outlinewidth\":0,\"ticks\":\"\"}}],\"scatter\":[{\"fillpattern\":{\"fillmode\":\"overlay\",\"size\":10,\"solidity\":0.2},\"type\":\"scatter\"}],\"parcoords\":[{\"type\":\"parcoords\",\"line\":{\"colorbar\":{\"outlinewidth\":0,\"ticks\":\"\"}}}],\"scatterpolargl\":[{\"type\":\"scatterpolargl\",\"marker\":{\"colorbar\":{\"outlinewidth\":0,\"ticks\":\"\"}}}],\"bar\":[{\"error_x\":{\"color\":\"#2a3f5f\"},\"error_y\":{\"color\":\"#2a3f5f\"},\"marker\":{\"line\":{\"color\":\"#E5ECF6\",\"width\":0.5},\"pattern\":{\"fillmode\":\"overlay\",\"size\":10,\"solidity\":0.2}},\"type\":\"bar\"}],\"scattergeo\":[{\"type\":\"scattergeo\",\"marker\":{\"colorbar\":{\"outlinewidth\":0,\"ticks\":\"\"}}}],\"scatterpolar\":[{\"type\":\"scatterpolar\",\"marker\":{\"colorbar\":{\"outlinewidth\":0,\"ticks\":\"\"}}}],\"histogram\":[{\"marker\":{\"pattern\":{\"fillmode\":\"overlay\",\"size\":10,\"solidity\":0.2}},\"type\":\"histogram\"}],\"scattergl\":[{\"type\":\"scattergl\",\"marker\":{\"colorbar\":{\"outlinewidth\":0,\"ticks\":\"\"}}}],\"scatter3d\":[{\"type\":\"scatter3d\",\"line\":{\"colorbar\":{\"outlinewidth\":0,\"ticks\":\"\"}},\"marker\":{\"colorbar\":{\"outlinewidth\":0,\"ticks\":\"\"}}}],\"scattermapbox\":[{\"type\":\"scattermapbox\",\"marker\":{\"colorbar\":{\"outlinewidth\":0,\"ticks\":\"\"}}}],\"scatterternary\":[{\"type\":\"scatterternary\",\"marker\":{\"colorbar\":{\"outlinewidth\":0,\"ticks\":\"\"}}}],\"scattercarpet\":[{\"type\":\"scattercarpet\",\"marker\":{\"colorbar\":{\"outlinewidth\":0,\"ticks\":\"\"}}}],\"carpet\":[{\"aaxis\":{\"endlinecolor\":\"#2a3f5f\",\"gridcolor\":\"white\",\"linecolor\":\"white\",\"minorgridcolor\":\"white\",\"startlinecolor\":\"#2a3f5f\"},\"baxis\":{\"endlinecolor\":\"#2a3f5f\",\"gridcolor\":\"white\",\"linecolor\":\"white\",\"minorgridcolor\":\"white\",\"startlinecolor\":\"#2a3f5f\"},\"type\":\"carpet\"}],\"table\":[{\"cells\":{\"fill\":{\"color\":\"#EBF0F8\"},\"line\":{\"color\":\"white\"}},\"header\":{\"fill\":{\"color\":\"#C8D4E3\"},\"line\":{\"color\":\"white\"}},\"type\":\"table\"}],\"barpolar\":[{\"marker\":{\"line\":{\"color\":\"#E5ECF6\",\"width\":0.5},\"pattern\":{\"fillmode\":\"overlay\",\"size\":10,\"solidity\":0.2}},\"type\":\"barpolar\"}],\"pie\":[{\"automargin\":true,\"type\":\"pie\"}]},\"layout\":{\"autotypenumbers\":\"strict\",\"colorway\":[\"#636efa\",\"#EF553B\",\"#00cc96\",\"#ab63fa\",\"#FFA15A\",\"#19d3f3\",\"#FF6692\",\"#B6E880\",\"#FF97FF\",\"#FECB52\"],\"font\":{\"color\":\"#2a3f5f\"},\"hovermode\":\"closest\",\"hoverlabel\":{\"align\":\"left\"},\"paper_bgcolor\":\"white\",\"plot_bgcolor\":\"#E5ECF6\",\"polar\":{\"bgcolor\":\"#E5ECF6\",\"angularaxis\":{\"gridcolor\":\"white\",\"linecolor\":\"white\",\"ticks\":\"\"},\"radialaxis\":{\"gridcolor\":\"white\",\"linecolor\":\"white\",\"ticks\":\"\"}},\"ternary\":{\"bgcolor\":\"#E5ECF6\",\"aaxis\":{\"gridcolor\":\"white\",\"linecolor\":\"white\",\"ticks\":\"\"},\"baxis\":{\"gridcolor\":\"white\",\"linecolor\":\"white\",\"ticks\":\"\"},\"caxis\":{\"gridcolor\":\"white\",\"linecolor\":\"white\",\"ticks\":\"\"}},\"coloraxis\":{\"colorbar\":{\"outlinewidth\":0,\"ticks\":\"\"}},\"colorscale\":{\"sequential\":[[0.0,\"#0d0887\"],[0.1111111111111111,\"#46039f\"],[0.2222222222222222,\"#7201a8\"],[0.3333333333333333,\"#9c179e\"],[0.4444444444444444,\"#bd3786\"],[0.5555555555555556,\"#d8576b\"],[0.6666666666666666,\"#ed7953\"],[0.7777777777777778,\"#fb9f3a\"],[0.8888888888888888,\"#fdca26\"],[1.0,\"#f0f921\"]],\"sequentialminus\":[[0.0,\"#0d0887\"],[0.1111111111111111,\"#46039f\"],[0.2222222222222222,\"#7201a8\"],[0.3333333333333333,\"#9c179e\"],[0.4444444444444444,\"#bd3786\"],[0.5555555555555556,\"#d8576b\"],[0.6666666666666666,\"#ed7953\"],[0.7777777777777778,\"#fb9f3a\"],[0.8888888888888888,\"#fdca26\"],[1.0,\"#f0f921\"]],\"diverging\":[[0,\"#8e0152\"],[0.1,\"#c51b7d\"],[0.2,\"#de77ae\"],[0.3,\"#f1b6da\"],[0.4,\"#fde0ef\"],[0.5,\"#f7f7f7\"],[0.6,\"#e6f5d0\"],[0.7,\"#b8e186\"],[0.8,\"#7fbc41\"],[0.9,\"#4d9221\"],[1,\"#276419\"]]},\"xaxis\":{\"gridcolor\":\"white\",\"linecolor\":\"white\",\"ticks\":\"\",\"title\":{\"standoff\":15},\"zerolinecolor\":\"white\",\"automargin\":true,\"zerolinewidth\":2},\"yaxis\":{\"gridcolor\":\"white\",\"linecolor\":\"white\",\"ticks\":\"\",\"title\":{\"standoff\":15},\"zerolinecolor\":\"white\",\"automargin\":true,\"zerolinewidth\":2},\"scene\":{\"xaxis\":{\"backgroundcolor\":\"#E5ECF6\",\"gridcolor\":\"white\",\"linecolor\":\"white\",\"showbackground\":true,\"ticks\":\"\",\"zerolinecolor\":\"white\",\"gridwidth\":2},\"yaxis\":{\"backgroundcolor\":\"#E5ECF6\",\"gridcolor\":\"white\",\"linecolor\":\"white\",\"showbackground\":true,\"ticks\":\"\",\"zerolinecolor\":\"white\",\"gridwidth\":2},\"zaxis\":{\"backgroundcolor\":\"#E5ECF6\",\"gridcolor\":\"white\",\"linecolor\":\"white\",\"showbackground\":true,\"ticks\":\"\",\"zerolinecolor\":\"white\",\"gridwidth\":2}},\"shapedefaults\":{\"line\":{\"color\":\"#2a3f5f\"}},\"annotationdefaults\":{\"arrowcolor\":\"#2a3f5f\",\"arrowhead\":0,\"arrowwidth\":1},\"geo\":{\"bgcolor\":\"white\",\"landcolor\":\"#E5ECF6\",\"subunitcolor\":\"white\",\"showland\":true,\"showlakes\":true,\"lakecolor\":\"white\"},\"title\":{\"x\":0.05},\"mapbox\":{\"style\":\"light\"}}},\"xaxis\":{\"anchor\":\"y\",\"domain\":[0.0,1.0],\"title\":{\"text\":\"DayofWeek\"}},\"yaxis\":{\"anchor\":\"x\",\"domain\":[0.0,1.0],\"title\":{\"text\":\"O3 AQI Levels\"}},\"coloraxis\":{\"colorbar\":{\"title\":{\"text\":\"DayofWeek\"}},\"colorscale\":[[0.0,\"#0d0887\"],[0.1111111111111111,\"#46039f\"],[0.2222222222222222,\"#7201a8\"],[0.3333333333333333,\"#9c179e\"],[0.4444444444444444,\"#bd3786\"],[0.5555555555555556,\"#d8576b\"],[0.6666666666666666,\"#ed7953\"],[0.7777777777777778,\"#fb9f3a\"],[0.8888888888888888,\"#fdca26\"],[1.0,\"#f0f921\"]]},\"legend\":{\"tracegroupgap\":0},\"title\":{\"text\":\"Day of the Week with very Unhealthy levels of Ozone(O3) in Pennsylvania\"},\"barmode\":\"relative\"},                        {\"responsive\": true}                    ).then(function(){\n",
       "                            \n",
       "var gd = document.getElementById('bebdee39-0505-4420-a50b-ac802f1e82ed');\n",
       "var x = new MutationObserver(function (mutations, observer) {{\n",
       "        var display = window.getComputedStyle(gd).display;\n",
       "        if (!display || display === 'none') {{\n",
       "            console.log([gd, 'removed!']);\n",
       "            Plotly.purge(gd);\n",
       "            observer.disconnect();\n",
       "        }}\n",
       "}});\n",
       "\n",
       "// Listen for the removal of the full notebook cells\n",
       "var notebookContainer = gd.closest('#notebook-container');\n",
       "if (notebookContainer) {{\n",
       "    x.observe(notebookContainer, {childList: true});\n",
       "}}\n",
       "\n",
       "// Listen for the clearing of the current output cell\n",
       "var outputEl = gd.closest('.output');\n",
       "if (outputEl) {{\n",
       "    x.observe(outputEl, {childList: true});\n",
       "}}\n",
       "\n",
       "                        })                };                            </script>        </div>\n",
       "</body>\n",
       "</html>"
      ]
     },
     "metadata": {},
     "output_type": "display_data"
    }
   ],
   "source": [
    "px.bar(unhealthy_o3_pen, x=unhealthy_o3_pen['DayofWeek'], \n",
    "           y=unhealthy_o3_pen['O3 AQI'], \n",
    "           hover_data=['Day','Month','Year'],\n",
    "           labels={\"Day\":\"Day of Month\",\n",
    "                   \"O3 AQI\":\"O3 AQI Levels\",\n",
    "                    \"Month\":\"Month of the Year\"\n",
    "                     \n",
    "               \n",
    "           },\n",
    "           color='DayofWeek',\n",
    "           title='Day of the Week with very Unhealthy levels of Ozone(O3) in Pennsylvania')\n"
   ]
  },
  {
   "cell_type": "markdown",
   "id": "8b5462ec",
   "metadata": {
    "id": "8b5462ec"
   },
   "source": [
    "In Pennsylvania, unhealthy levels of ozone are mostly recorded on Tuesdays. There's no recording of ozone AQI levels exceeding 200 on Wednesdays.\n",
    "\n",
    "**Note:** The weather condition and time of day may be a contributory factor to ozone levels recorded."
   ]
  },
  {
   "cell_type": "markdown",
   "id": "cc1bd08e",
   "metadata": {
    "id": "cc1bd08e"
   },
   "source": [
    "## Summary\n",
    "\n",
    "At the end of this project, we were able to make some of these inferences;\n",
    "\n",
    "* The dataset used for this project has a total of 28 fields. The four pollutants ( NO2 , SO2 , CO, and O3 ) each have 5 specific columns. Observations totaled to over 1.7 million.\n",
    "* The dataset has data for only 47 states, out of the 51 states in the U.S\n",
    "* In the original dataset, over 50% of values for SO2 AQI and CO AQI are missing, and the reason for this is not known. However  for the sake of this analysis, we have employed an imputation method (linear interpolation) to impute these missing values.\n",
    "* SO2 and CO have an exponential distribution. They seem to have more extreme outliers. The consequence of this on human health is hardly known\n",
    "* Phoenix, which is a city in Arizona, appears to have the second highest concentration of CO. The city with the highest value is not known.\n",
    "* California and Pennsylvania are the  states with the highest concentration of pollutants, and this is no surprise as California is the most populated state in the U.S, while Pennsylvania comes in at number 5.\n",
    "* The states (California and Pennsylvania) show a relatively low mean AQI, with values less than 50, which generally means air quality is satisfacatory and air pollution poses little or no risk. However, daily concentration levels need to be observed to understand the degree of pollution.\n",
    "* CO and NO2 have a strong positive correlation (with a correlation coefficient greater than 0.6). This means that an increase in the value of one results to a similar increase in the value of the other.\n",
    "* The trend of all pollutants, except for Ozone, which keeps fluctuating, is downward, signifying that the air quality in the United States has gotten better over the years.\n",
    "* In both California and Pennsylvania, ozone(O3) is the only pollutant to reach abnormal levels with aqi of over 200.\n",
    "* In both California and Pennsylvania, the air quality index for ozone(O3) seems to be on the increase as we move from colder to warmer months. \n",
    "* In California, unhealthy levels of ozone are mostly recorded on Saturdays. There's no recording of ozone AQI levels exceeding 200 on Tuesdays. \n",
    "* In Pennsylvania, unhealthy levels of ozone are mostly recorded on Tuesdays. There's no recording of ozone AQI levels exceeding 200 on Wednesdays.\n",
    "\n"
   ]
  },
  {
   "cell_type": "markdown",
   "id": "c895ce17",
   "metadata": {
    "id": "c895ce17"
   },
   "source": [
    "## Future Work\n",
    "\n",
    "Here are some ideas for future work. Most of these will require data to be merged from other sources.\n",
    "\n",
    "1. Analyse data from later years (2017 to present) to check if similar trends occur\n",
    "2. Evaluating aqi and medical history of people in states that have high concentration of these pollutants, to get a general overview of how these pollutants have affected the lives of the people living in those regions\n",
    "3. Study and analyse air pollution in relation to wind speed and direction. Some pollutants can be transported far distances by wind. For example, Ozone is one of such pollutants, so even rural areas can experience high ozone levels. \n",
    "4. Study and analyse air pollution in relation to time of day and temperature."
   ]
  },
  {
   "cell_type": "markdown",
   "id": "4d3a4e16",
   "metadata": {
    "id": "4d3a4e16"
   },
   "source": [
    "## References\n",
    "\n",
    "* https://www.kaggle.com/datasets/sogun3/uspollution\n",
    "* https://towardsdatascience.com/4-techniques-to-handle-missing-values-in-time-series-data-c3568589b5a8\n",
    "* https://pandas.pydata.org/docs/reference/api/pandas.DataFrame.interpolate.html\n",
    "* https://www.kaggle.com/code/parulpandey/a-guide-to-handling-missing-values-in-python\n",
    "* https://likegeeks.com/python-correlation-matrix/\n",
    "* https://mdpi-res.com/d_attachment/atmosphere/atmosphere-12-01283/article_deploy/atmosphere-12-01283.pdf\n",
    "* https://www.airnow.gov/aqi/aqi-basics/\n",
    "* https://pandas.pydata.org/docs/reference/api/pandas.DataFrame.interpolate.html\n",
    "* https://www.kaggle.com/code/nicapotato/searching-for-answers-california-pollution#2.-Timeseries-Analysis-on-California-Data:\n",
    "* https://towardsdatascience.com/10-pandas-query-examples-that-will-make-you-use-pandas-query-easily-12a45b1e115\n",
    "* https://www.epa.gov/air-trends/trends-ozone-adjusted-weather-conditions"
   ]
  },
  {
   "cell_type": "code",
   "execution_count": null,
   "id": "23ba65a3",
   "metadata": {
    "colab": {
     "base_uri": "https://localhost:8080/"
    },
    "id": "23ba65a3",
    "outputId": "41d85afe-6e2b-439d-9166-0c4f93cefa60"
   },
   "outputs": [
    {
     "name": "stdout",
     "output_type": "stream",
     "text": [
      "[jovian] Detected Colab notebook...\u001b[0m\n",
      "[jovian] Please enter your API key ( from https://jovian.ai/ ):\u001b[0m\n",
      "API KEY: "
     ]
    }
   ],
   "source": [
    "jovian.commit()"
   ]
  },
  {
   "cell_type": "code",
   "execution_count": null,
   "id": "0f9c30c1",
   "metadata": {
    "id": "0f9c30c1"
   },
   "outputs": [],
   "source": []
  }
 ],
 "metadata": {
  "colab": {
   "provenance": []
  },
  "kernelspec": {
   "display_name": "Python 3 (ipykernel)",
   "language": "python",
   "name": "python3"
  },
  "language_info": {
   "codemirror_mode": {
    "name": "ipython",
    "version": 3
   },
   "file_extension": ".py",
   "mimetype": "text/x-python",
   "name": "python",
   "nbconvert_exporter": "python",
   "pygments_lexer": "ipython3",
   "version": "3.10.4"
  }
 },
 "nbformat": 4,
 "nbformat_minor": 5
}